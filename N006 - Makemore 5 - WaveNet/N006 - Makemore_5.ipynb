{
 "cells": [
  {
   "cell_type": "markdown",
   "id": "3109d51b",
   "metadata": {},
   "source": [
    "# Makemore 5: WaveNet\n",
    "\n",
    "[Video](https://www.youtube.com/watch?v=t3YJ5hKiMQ0)<br>\n",
    "[Repository](https://github.com/karpathy/makemore)<br>\n",
    "[Eureka Labs Discord](https://discord.com/invite/3zy8kqD9Cp)\n",
    "\n",
    "## Table of Contents\n",
    "\n",
    "- [Network Setup](#network-setup)\n",
    "- [Addressing the noisy loss graph](#addressing-the-noisy-loss-graph)\n",
    "- [Improving the Forward Pass](#improving-the-forward-pass)\n",
    "- [More simplifications](#more-simplifications)\n",
    "- [Going deeper](#going-deeper)\n",
    "- [Dilated Causal Convolutional Layers](#dilated-causal-convolutional-layers)\n",
    "- [BatchNorm Bug?!](#batchnorm-bug)\n",
    "- [Going wider](#going-wider)\n",
    "- [Development Process of Deep Neural Networks](#development-process-of-deep-neural-networks)\n",
    "    - [Rough Roadmap](#rough-roadmap)\n",
    "    - [Challenge for now](#challenge-for-now)"
   ]
  },
  {
   "cell_type": "markdown",
   "id": "ff38178e",
   "metadata": {},
   "source": [
    "With the Makemore lectures, we've up until now built the processing- and training-structures for this particular approach:<br><br>\n",
    "![](./img/bengioetal03.PNG)"
   ]
  },
  {
   "cell_type": "markdown",
   "id": "a83acf84",
   "metadata": {},
   "source": [
    "This particular setup by [\\[Bengio et al. 2003\\]](https://www.jmlr.org/papers/volume3/bengio03a/bengio03a.pdf) receives three characters\n",
    "and goes on to predict a fourth from a single hidden layer and a softmax output.\n",
    "\n",
    "**But there's a problem with that**.\n",
    "\n",
    "If we input more characters, the input layer's width increases, computation slows with an increased amount of parameters, and the hidden layer may become a bottleneck.<br>\n",
    "Going down this route limits scalability and capability.<br><br>\n",
    "To increase the model's capabilities more elegantly, we will have to input more characters; and crucially, we will have to deepen the model.<br>\n",
    "We can address this by progressively combining the inputs across multiple deeper layers, rather than doing so all at once between the input and hidden layers.\n",
    "\n",
    "![](./img/convolutions.png)\n",
    "\n",
    "> **Too many individual inputs into a single layer are just not that scalable and will result in an increasingly murky representation by that layer.**<br>\n",
    "> **We want to avoid that from now on.**\n",
    "\n",
    "We replace the *wide-input-to-hidden-layer* bottleneck with multiple deeper layers, progressively fusing the input representations.<br>\n",
    "This scaling approach was also described in the paper about [WaveNet](https://arxiv.org/abs/1609.03499), an audio-based language model.<br>Fundamentally, though, the structure still remains the same as with [\\[Bengio et al. 2003\\]](https://www.jmlr.org/papers/volume3/bengio03a/bengio03a.pdf), just with more layers."
   ]
  },
  {
   "cell_type": "markdown",
   "id": "443fa6db",
   "metadata": {},
   "source": [
    "For a start, we will copy over some code from [Makemore 3](../N004%20-%20Makemore%203%20-%20Activations,%20BatchNorm/N004%20-%20Makemore_3.ipynb):"
   ]
  },
  {
   "cell_type": "code",
   "execution_count": 1,
   "id": "fcc59144",
   "metadata": {},
   "outputs": [],
   "source": [
    "import torch\n",
    "import torch.nn.functional as F\n",
    "import matplotlib.pyplot as plt\n",
    "%matplotlib inline"
   ]
  },
  {
   "cell_type": "code",
   "execution_count": 2,
   "id": "7cb41500",
   "metadata": {},
   "outputs": [
    {
     "name": "stdout",
     "output_type": "stream",
     "text": [
      "Word Count: 32033\n",
      "Max Word Length: 15\n",
      "['emma', 'olivia', 'ava', 'isabella', 'sophia', 'charlotte', 'mia', 'amelia']\n"
     ]
    }
   ],
   "source": [
    "# Read in all the words\n",
    "words = open('../names.txt', 'r').read().splitlines()\n",
    "print('Word Count:', len(words))\n",
    "print('Max Word Length:', max(len(w) for w in words))\n",
    "print(words[:8])"
   ]
  },
  {
   "cell_type": "code",
   "execution_count": 3,
   "id": "97c88455",
   "metadata": {},
   "outputs": [
    {
     "name": "stdout",
     "output_type": "stream",
     "text": [
      "{1: 'a', 2: 'b', 3: 'c', 4: 'd', 5: 'e', 6: 'f', 7: 'g', 8: 'h', 9: 'i', 10: 'j', 11: 'k', 12: 'l', 13: 'm', 14: 'n', 15: 'o', 16: 'p', 17: 'q', 18: 'r', 19: 's', 20: 't', 21: 'u', 22: 'v', 23: 'w', 24: 'x', 25: 'y', 26: 'z', 0: '.'}\n",
      "{'a': 1, 'b': 2, 'c': 3, 'd': 4, 'e': 5, 'f': 6, 'g': 7, 'h': 8, 'i': 9, 'j': 10, 'k': 11, 'l': 12, 'm': 13, 'n': 14, 'o': 15, 'p': 16, 'q': 17, 'r': 18, 's': 19, 't': 20, 'u': 21, 'v': 22, 'w': 23, 'x': 24, 'y': 25, 'z': 26, '.': 0}\n",
      "27\n"
     ]
    }
   ],
   "source": [
    "# Build a vocabulary of characters map them to integers\n",
    "chars = sorted(list(set(''.join(words))))  # set(): Throwing out letter duplicates\n",
    "\n",
    "stoi = {s:i+1 for i,s in enumerate(chars)} # Make tupels of type (char, counter)\n",
    "stoi['.'] = 0                              # Add this special symbol's entry explicitly\n",
    "itos = {i:s for s,i in stoi.items()}       # Switch order of (char, counter) to (counter, char)\n",
    "\n",
    "vocab_size = len(itos)\n",
    "\n",
    "# Showing the two mappings, they really just are mirrors of one another\n",
    "print(itos)\n",
    "print(stoi)\n",
    "print(vocab_size)"
   ]
  },
  {
   "cell_type": "code",
   "execution_count": 4,
   "id": "ef90dd5d",
   "metadata": {},
   "outputs": [],
   "source": [
    "# Randomize the set of words (with reproducibility)\n",
    "import random\n",
    "random.seed(42)\n",
    "random.shuffle(words)"
   ]
  },
  {
   "cell_type": "markdown",
   "id": "3fd87ed2",
   "metadata": {},
   "source": [
    "We will first apply our usual `block_size` of $3$:"
   ]
  },
  {
   "cell_type": "code",
   "execution_count": 6,
   "id": "9beb0853",
   "metadata": {},
   "outputs": [
    {
     "name": "stdout",
     "output_type": "stream",
     "text": [
      "torch.Size([182625, 3]) torch.Size([182625])\n",
      "torch.Size([22655, 3]) torch.Size([22655])\n",
      "torch.Size([22866, 3]) torch.Size([22866])\n"
     ]
    }
   ],
   "source": [
    "# Build the dataset\n",
    "block_size = 3 # Context length: How many characters do we take to predict the next one?\n",
    "\n",
    "def build_dataset(words):  \n",
    "  X, Y = [], []\n",
    "  \n",
    "  for w in words:\n",
    "    context = [0] * block_size\n",
    "    for ch in w + '.':\n",
    "      ix = stoi[ch]\n",
    "      X.append(context)\n",
    "      Y.append(ix)\n",
    "      context = context[1:] + [ix] # Crop and append\n",
    "\n",
    "  X = torch.tensor(X)\n",
    "  Y = torch.tensor(Y)\n",
    "    \n",
    "  print(X.shape, Y.shape)\n",
    "  return X, Y\n",
    "\n",
    "# These are the \"markers\" we will use to divide the dataset\n",
    "n1 = int(0.8 * len(words))\n",
    "n2 = int(0.9 * len(words))\n",
    "\n",
    "# Dividing the dataset into train, dev and test splits\n",
    "Xtr, Ytr = build_dataset(words[:n1])     # 80%\n",
    "Xdev, Ydev = build_dataset(words[n1:n2]) # 10%\n",
    "Xte, Yte = build_dataset(words[n2:])     # 10%"
   ]
  },
  {
   "cell_type": "markdown",
   "id": "8eeb560e",
   "metadata": {},
   "source": [
    "Given a character triplet (`block_size`$=3$), the fourth character is the one we want to predict:"
   ]
  },
  {
   "cell_type": "code",
   "execution_count": 7,
   "id": "6c1692d9",
   "metadata": {},
   "outputs": [
    {
     "name": "stdout",
     "output_type": "stream",
     "text": [
      "... --> y\n",
      "..y --> u\n",
      ".yu --> h\n",
      "yuh --> e\n",
      "uhe --> n\n",
      "hen --> g\n",
      "eng --> .\n",
      "... --> d\n",
      "..d --> i\n",
      ".di --> o\n",
      "dio --> n\n",
      "ion --> d\n",
      "ond --> r\n",
      "ndr --> e\n",
      "dre --> .\n",
      "... --> x\n",
      "..x --> a\n",
      ".xa --> v\n",
      "xav --> i\n",
      "avi --> e\n"
     ]
    }
   ],
   "source": [
    "# Show the dataset's layout -> Three inputs, one expected output (given the three, expect the fourth)\n",
    "# We have (as seen above) 182625 of these 'three, give fourth' sets of characters\n",
    "for x, y in zip(Xtr[:20], Ytr[:20]):\n",
    "    print(''.join(itos[ix.item()] for ix in x), '-->', itos[y.item()])"
   ]
  },
  {
   "cell_type": "markdown",
   "id": "03156ba4",
   "metadata": {},
   "source": [
    "## Network Setup\n",
    "\n",
    "With [Makemore 3](../N004%20-%20Makemore%203%20-%20Activations,%20BatchNorm/N004%20-%20Makemore_3.ipynb) we started to develop the structure of Linear Layers and applied Batch Normalization to them.<br>\n",
    "The code below is the same, but now compartmentalized.<br><br>\n",
    "**This is on purpose.**<br><br>\n",
    "Think of class instances as building blocks making up a network structure.<br>\n",
    "This is easier to handle in the long run."
   ]
  },
  {
   "cell_type": "code",
   "execution_count": 8,
   "id": "b3aec68b",
   "metadata": {},
   "outputs": [],
   "source": [
    "# Near copy/paste of the layers developed in Makemore 3\n",
    "# -----------------------------------------------------\n",
    "\n",
    "# Mimicks torch.nn.linear\n",
    "class Linear:\n",
    "  \n",
    "  # fan_in: Number of input dimensions\n",
    "  # fan_out: Number of output dimensions\n",
    "  # bias: Whether to add a bias term or not\n",
    "  def __init__(self, fan_in, fan_out, bias=True):\n",
    "    self.weight = torch.randn((fan_in, fan_out)) / fan_in**0.5  # Kaiming init\n",
    "    self.bias = torch.zeros(fan_out) if bias else None\n",
    "  \n",
    "  # Performs a forward pass if called (syntax: l = Linear(x))\n",
    "  def __call__(self, x):\n",
    "    self.out = x @ self.weight\n",
    "    if self.bias is not None:\n",
    "      self.out += self.bias\n",
    "    return self.out\n",
    "  \n",
    "  # Returns a list of the parameters (syntax: l.parameters())\n",
    "  def parameters(self):\n",
    "    return [self.weight] + ([] if self.bias is None else [self.bias])\n",
    "\n",
    "\n",
    "# Mimicks torch.nn.batchnorm1d\n",
    "class BatchNorm1d:\n",
    "  \n",
    "  # dim represents the dimension along which the normalization is applied\n",
    "  # PyTorch's BatchNorm is also performed along just one dimension\n",
    "  def __init__(self, dim, eps=1e-5, momentum=0.1):\n",
    "    self.eps = eps           # Small constant for numerical stability\n",
    "    self.momentum = momentum # Running mean/variance momentum\n",
    "    # Batchnorm1d behaves differently during training and production\n",
    "    self.training = True\n",
    "    # Parameters (trained with backprop)\n",
    "    self.gamma = torch.ones(dim) # Scaling\n",
    "    self.beta = torch.zeros(dim) # Shifting\n",
    "    # Buffers (trained with a running 'momentum update' outside backprop)\n",
    "    self.running_mean = torch.zeros(dim) # Batchnorm mean\n",
    "    self.running_var = torch.ones(dim)   # Batchnorm variance\n",
    "  \n",
    "  # Forward pass (syntax: bn = BatchNorm1d(x), where x is a batch of inputs)\n",
    "  def __call__(self, x):\n",
    "    # If we're in training mode, calculate the batch mean and variance (for active normalization)\n",
    "    # Otherwise, use the running mean and variance (for passive normalization)\n",
    "    if self.training:\n",
    "      xmean = x.mean(0, keepdim=True) # Batch mean\n",
    "      xvar  = x.var(0, keepdim=True)  # Batch variance\n",
    "      with torch.no_grad():\n",
    "        self.running_mean = (1 - self.momentum) * self.running_mean + self.momentum * xmean\n",
    "        self.running_var  = (1 - self.momentum) * self.running_var + self.momentum * xvar\n",
    "    else:\n",
    "      xmean = self.running_mean # Use pre-determined running mean/variance\n",
    "      xvar  = self.running_var  # (pre-determined = calculated during training)\n",
    "    \n",
    "    xhat = (x - xmean) / torch.sqrt(xvar + self.eps) # Normalize to unit variance\n",
    "    self.out = self.gamma * xhat + self.beta # Scale and shift (gamma and beta are learned)\n",
    "    return self.out\n",
    "  \n",
    "  # Returns the list of this layer's parameters (syntax: bn.parameters())\n",
    "  def parameters(self):\n",
    "    return [self.gamma, self.beta]\n",
    "\n",
    "\n",
    "# Mimicks torch.nn.tanh\n",
    "class Tanh:\n",
    "  def __call__(self, x):\n",
    "    self.out = torch.tanh(x)\n",
    "    return self.out\n",
    "\n",
    "  def parameters(self):\n",
    "    return []"
   ]
  },
  {
   "cell_type": "code",
   "execution_count": 10,
   "id": "460a9721",
   "metadata": {},
   "outputs": [],
   "source": [
    "torch.manual_seed(42); # Seed for reproducibility"
   ]
  },
  {
   "cell_type": "markdown",
   "id": "50715e8c",
   "metadata": {},
   "source": [
    "With the above code, we can now build the actual network structure.\n",
    "\n",
    "We'll do so just like before, with:\n",
    "- an embedding layer with of size `(27, 10)`, \n",
    "- a hidden layer of size `(30, 200)`,\n",
    "- a Batch Normalization layer across the hidden layer output's second dimension,\n",
    "- a $\\text{tanh}$ activation function,\n",
    "- a linear layer of size `(200, 27)`"
   ]
  },
  {
   "cell_type": "code",
   "execution_count": 12,
   "id": "5a483989",
   "metadata": {},
   "outputs": [
    {
     "name": "stdout",
     "output_type": "stream",
     "text": [
      "12097\n"
     ]
    }
   ],
   "source": [
    "n_embd = 10    # Dimensionality of the character embedding vectors\n",
    "n_hidden = 200 # Number of neurons in the hidden layer of the MLP\n",
    "\n",
    "# This sets up the actual network's design\n",
    "C = torch.randn((vocab_size, n_embd))  # Random but unique n_embd-dimensional embedding vectors\n",
    "layers = [\n",
    "    Linear(n_embd * block_size, n_hidden, bias=False), \n",
    "    BatchNorm1d(n_hidden), \n",
    "    Tanh(),\n",
    "    Linear(n_hidden, vocab_size),\n",
    "]\n",
    "\n",
    "# Parameter init\n",
    "with torch.no_grad():\n",
    "  layers[-1].weight *= 0.1 # Making last layer less confident (in beginning)\n",
    "\n",
    "# Print the number of parameters in the model\n",
    "parameters = [C] + [p for layer in layers for p in layer.parameters()]\n",
    "print(sum(p.nelement() for p in parameters)) # Number of parameters in total\n",
    "for p in parameters:\n",
    "  p.requires_grad = True"
   ]
  },
  {
   "cell_type": "code",
   "execution_count": 14,
   "id": "a82a6d8f",
   "metadata": {},
   "outputs": [
    {
     "name": "stdout",
     "output_type": "stream",
     "text": [
      "      0/ 200000: 3.2844\n",
      "  10000/ 200000: 2.3177\n",
      "  20000/ 200000: 2.4191\n",
      "  30000/ 200000: 1.8858\n",
      "  40000/ 200000: 1.9077\n",
      "  50000/ 200000: 1.5355\n",
      "  60000/ 200000: 1.6192\n",
      "  70000/ 200000: 2.5743\n",
      "  80000/ 200000: 2.0838\n",
      "  90000/ 200000: 2.1183\n",
      " 100000/ 200000: 2.2409\n",
      " 110000/ 200000: 2.4485\n",
      " 120000/ 200000: 2.1119\n",
      " 130000/ 200000: 1.8765\n",
      " 140000/ 200000: 2.1631\n",
      " 150000/ 200000: 1.9839\n",
      " 160000/ 200000: 2.3134\n",
      " 170000/ 200000: 1.8970\n",
      " 180000/ 200000: 1.7244\n",
      " 190000/ 200000: 1.8793\n"
     ]
    }
   ],
   "source": [
    "# Same optimization as last time (written a bit differently)\n",
    "max_steps = 200000\n",
    "batch_size = 32\n",
    "lossi = []\n",
    "\n",
    "for i in range(max_steps):\n",
    "    \n",
    "    # Mini-batch construct\n",
    "    ix = torch.randint(0, Xtr.shape[0], (batch_size,))\n",
    "    Xb, Yb = Xtr[ix], Ytr[ix] # X,Y's of this batch\n",
    "    \n",
    "    # Forward-Pass\n",
    "    emb = C[Xb]                         # Embedding characters into vectors\n",
    "    x = emb.view(emb.shape[0], -1)      # Concatenate the vectors, \"stretch them out\"\n",
    "    for layer in layers:\n",
    "        x = layer(x)\n",
    "    loss = F.cross_entropy(x, Yb)  # Loss function\n",
    "    \n",
    "    # Backward-Pass\n",
    "    for p in parameters:\n",
    "        # Making sure that prior iteration's gradients are gone\n",
    "        p.grad = None\n",
    "    loss.backward() # This calculates the current (new) gradients\n",
    "    \n",
    "    # Update (mini-batch SGD with no fluff)\n",
    "    lr = 0.1 if i < 150000 else 0.01 # Learning rate decay\n",
    "    for p in parameters:\n",
    "        p.data += -lr * p.grad\n",
    "\n",
    "    # Printing track stats every once in a while\n",
    "    if i % 10000 == 0:\n",
    "        print(f'{i:7d}/{max_steps:7d}: {loss.item():.4f}')\n",
    "    \n",
    "    # Adding current loss value to historic losses set (for later display)\n",
    "    lossi.append(loss.log10().item())"
   ]
  },
  {
   "cell_type": "code",
   "execution_count": 16,
   "id": "59944841",
   "metadata": {},
   "outputs": [
    {
     "data": {
      "image/png": "[encoded data removed]",
      "text/plain": [
       "<Figure size 640x480 with 1 Axes>"
      ]
     },
     "metadata": {},
     "output_type": "display_data"
    }
   ],
   "source": [
    "plt.plot(lossi);"
   ]
  },
  {
   "cell_type": "markdown",
   "id": "bd22e888",
   "metadata": {},
   "source": [
    "Let's also determine the training and validation losses:"
   ]
  },
  {
   "cell_type": "code",
   "execution_count": 17,
   "id": "9e9fc166",
   "metadata": {},
   "outputs": [],
   "source": [
    "# Put layers into eval mode (needed for batchnorm ESPECIALLY)\n",
    "for layer in layers:\n",
    "    layer.training = False"
   ]
  },
  {
   "cell_type": "code",
   "execution_count": null,
   "id": "00474949",
   "metadata": {},
   "outputs": [
    {
     "name": "stdout",
     "output_type": "stream",
     "text": [
      "train 2.0587270259857178\n",
      "val 2.1071507930755615\n"
     ]
    }
   ],
   "source": [
    "# See Makemore #2.\n",
    "# We did this before but it's refactored here for convenience:\n",
    "@torch.no_grad() # Decorator, disables gradient tracking (no \"book-keeping\" on torch's side for this function)\n",
    "def split_loss(split):\n",
    "    x, y = {\n",
    "        'train': (Xtr, Ytr),\n",
    "        'val': (Xdev, Ydev),\n",
    "        'test': (Xte, Yte),\n",
    "    }[split]   # That's a switch!\n",
    "    \n",
    "    emb = C[x] # (N, block_size, n_embd)\n",
    "    x = emb.view(emb.shape[0], -1) # Concatenate into (N, block_size * n_embd)\n",
    "    \n",
    "    for layer in layers:\n",
    "        x = layer(x)\n",
    "    \n",
    "    loss = F.cross_entropy(x, y)\n",
    "    print(split, loss.item())\n",
    "\n",
    "split_loss('train')\n",
    "split_loss('val')"
   ]
  },
  {
   "cell_type": "code",
   "execution_count": 14,
   "id": "744e468b",
   "metadata": {},
   "outputs": [
    {
     "name": "stdout",
     "output_type": "stream",
     "text": [
      "damiara.\n",
      "alyzah.\n",
      "fard.\n",
      "azalee.\n",
      "sayah.\n",
      "ayvi.\n",
      "reino.\n",
      "sophemuellani.\n",
      "ciaub.\n",
      "alith.\n",
      "sira.\n",
      "liza.\n",
      "jah.\n",
      "grancealynna.\n",
      "jamaur.\n",
      "ben.\n",
      "quan.\n",
      "torie.\n",
      "coria.\n",
      "cer.\n"
     ]
    }
   ],
   "source": [
    "# Sample from the model\n",
    "for _ in range(20):\n",
    "    \n",
    "    out = []\n",
    "    context = [0] * block_size # initialize with all ...\n",
    "    while True:\n",
    "      # Forward pass though the neural net\n",
    "      emb = C[torch.tensor([context])] # (1,block_size,n_embd)\n",
    "      x = emb.view(emb.shape[0], -1)   # Concatenate the vectors, \"streching them out\"\n",
    "      for layer in layers:\n",
    "            x = layer(x)\n",
    "      logits = x\n",
    "      probs = F.softmax(logits, dim=1)\n",
    "      # Sample from the distribution\n",
    "      ix = torch.multinomial(probs, num_samples=1).item()\n",
    "      # Shift the context window and track the samples\n",
    "      context = context[1:] + [ix]\n",
    "      out.append(ix)\n",
    "      # As soon as we sample the special '.' token, break\n",
    "      if ix == 0:\n",
    "        break\n",
    "    \n",
    "    # Decode and print the generated words (Inferences)\n",
    "    print(''.join(itos[i] for i in out))"
   ]
  },
  {
   "cell_type": "markdown",
   "id": "819fda0a",
   "metadata": {},
   "source": [
    "Up until now we basically just refactored the [Makemore 3](../N004%20-%20Makemore%203%20-%20Activations,%20BatchNorm/N004%20-%20Makemore_3.ipynb) approach.<br>\n",
    "**It's still working exactly the same as before.**\n",
    "\n",
    "If you take a look at the loss graph, it really looks *crazy*, just too *noisy*.<br>\n",
    "**The main cause for this is the batch size.**\n",
    "\n",
    "$32$ is too small. Per batch, we only have $32$ predictions.<br>\n",
    "This is not enough to get a good/stable average loss value.<br>\n",
    "Even worse, small batch sizes can make for loss-wise very 'lucky' or 'unlucky' batches, which can skew the loss graph even more.\n",
    "\n",
    "**Let's fix this horrible loss graph.**"
   ]
  },
  {
   "cell_type": "markdown",
   "id": "60b01d0b",
   "metadata": {},
   "source": [
    "## Addressing the noisy loss graph\n",
    "\n",
    "`lossi` is our accumulated list of `float` values, representing the loss values per each batch.<br>\n",
    "To make the graph more readable, we can go and average the loss values over a certain number of batches.<br>\n",
    "In this context, recall that we can 'malform' any $m$-dimensional array into an $n$-dimensional array.<br><br>\n",
    "*This will be helpful.*"
   ]
  },
  {
   "cell_type": "code",
   "execution_count": 20,
   "id": "d031778a",
   "metadata": {},
   "outputs": [
    {
     "name": "stdout",
     "output_type": "stream",
     "text": [
      "tensor([0, 1, 2, 3, 4, 5, 6, 7, 8, 9])\n",
      "tensor([[0, 1, 2, 3, 4],\n",
      "        [5, 6, 7, 8, 9]])\n",
      "tensor([[0, 1],\n",
      "        [2, 3],\n",
      "        [4, 5],\n",
      "        [6, 7],\n",
      "        [8, 9]])\n",
      "tensor([[0, 1, 2, 3, 4],\n",
      "        [5, 6, 7, 8, 9]])\n"
     ]
    }
   ],
   "source": [
    "print(torch.arange(10))             # An array with numbers 0-9 -> (10,)\n",
    "print(torch.arange(10).view(2, 5))  # Same array, but transformed -> (2,5)\n",
    "print(torch.arange(10).view(5, 2))  # Same array, but transformed differently -> (5,2)\n",
    "print(torch.arange(10).view(2, -1)) # -1 as joker, infers one dim automatically, given input dimensions -> (2,5)"
   ]
  },
  {
   "cell_type": "code",
   "execution_count": 22,
   "id": "73bbeeb6",
   "metadata": {},
   "outputs": [
    {
     "name": "stdout",
     "output_type": "stream",
     "text": [
      "200000\n"
     ]
    }
   ],
   "source": [
    "print(len(lossi))"
   ]
  },
  {
   "cell_type": "markdown",
   "id": "18f64443",
   "metadata": {},
   "source": [
    "We can mend `lossi` more easily if we turn it into a tensor.<br><br>\n",
    "`lossi` has a length of $200,000$.<br>\n",
    "We structure that into a matrix of shape `(200, 1000)`.<br><br>\n",
    "For each row (carrying $1,000$ values), we calculate the average.<br>\n",
    "With all these individual losses ($=200,000$) in total, we are now down to $200$ averaged losses.<br><br>\n",
    "*This will be more readable.*"
   ]
  },
  {
   "cell_type": "code",
   "execution_count": 24,
   "id": "cf3f71cb",
   "metadata": {},
   "outputs": [
    {
     "name": "stdout",
     "output_type": "stream",
     "text": [
      "torch.Size([200, 1000])\n",
      "torch.Size([200])\n"
     ]
    },
    {
     "data": {
      "image/png": "[encoded data removed]",
      "text/plain": [
       "<Figure size 640x480 with 1 Axes>"
      ]
     },
     "metadata": {},
     "output_type": "display_data"
    }
   ],
   "source": [
    "print(torch.tensor(lossi).view(-1, 1000).shape)         # Each row has 1000 consecutive losses\n",
    "print(torch.tensor(lossi).view(-1, 1000).mean(1).shape) # Row-wise mean -> 200 means for 200 rows\n",
    "plt.plot(torch.tensor(lossi).view(-1, 1000).mean(1));   # Mean on every Row -> 200 means as array"
   ]
  },
  {
   "cell_type": "markdown",
   "id": "7bfef403",
   "metadata": {},
   "source": [
    "This is a very simple approach to make the loss graph more readable. Elegant nonetheless.<br>\n",
    "For example, **we can now clearly see where the learning rate was decreased, and that this indeed resulted in a finer approach of the \"perfect\" local minimum** i.e. less error overall."
   ]
  },
  {
   "cell_type": "markdown",
   "id": "6a2e47e4",
   "metadata": {},
   "source": [
    "## Improving the Forward Pass\n",
    "\n",
    "The next thing we want to improve is the forward pass itself. <br>\n",
    "**It's too bloated, too many lines of code.**<br><br>\n",
    "Also the embedding table `C` is special-cased outside of the 'regular' layers.<br>\n",
    "The `emb.view` also happens outside of the layers as an additional step.<br>\n",
    "That is costly, because it's not parallelized.\n",
    "\n",
    "**In other words:** There is this part in the forward pass code that is unnecessary:\n",
    "\n",
    "```python\n",
    "emb = C[Xb]\n",
    "```\n",
    "\n",
    "It is a lookup into the embedding table using the input character's integer representations as indices.<br>\n",
    "We should incorporate this extra operation differently.<br>\n",
    "\n",
    "The exact same goes for the vector flattening right after that:\n",
    "\n",
    "```python\n",
    "# Concatenate vectors\n",
    "# emb.shape[0] is batch size, \n",
    "# -1 for automatic inference of block_size * n_embd\n",
    "x = emb.view(emb.shape[0], -1)\n",
    "```\n",
    "\n",
    "We did organize some layers within the `layers` list already (Linear, BatchNorm1d, Linear).<br>\n",
    "We could just treat those two operations as layers too and add them to that list.<br>\n",
    "One will be the `Embedding` layer, the other one will be called `Flatten`.\n",
    "\n",
    "Let's begin with the Embedding Layer.<br>\n",
    "There is a functional equivalent in PyTorch, called `torch.nn.embedding`.<br><br>**The layer looks like this:**"
   ]
  },
  {
   "cell_type": "code",
   "execution_count": 33,
   "id": "671c0e17",
   "metadata": {},
   "outputs": [],
   "source": [
    "# Does the indexing operation\n",
    "# Mimicks torch.nn.embedding\n",
    "class Embedding:\n",
    "  \n",
    "  def __init__(self, num_embeddings, embedding_dim):\n",
    "    # What was previously C (lookup table) is now the weight in this layer\n",
    "    self.weight = torch.randn((num_embeddings, embedding_dim)) # Behaves just like C did\n",
    "\n",
    "  # This is the forward pass (syntax: embedding(IX))   \n",
    "  def __call__(self, IX):\n",
    "    self.out = self.weight[IX]\n",
    "    return self.out\n",
    "  \n",
    "  # Returns list of all layer parameters (syntax: embedding.parameters())\n",
    "  def parameters(self):\n",
    "    return [self.weight]"
   ]
  },
  {
   "cell_type": "code",
   "execution_count": 34,
   "id": "edd30a45",
   "metadata": {},
   "outputs": [],
   "source": [
    "# Does the vector flattening\n",
    "class Flatten:\n",
    "  # This is the forward pass (syntax: flatten(x))\n",
    "  # x is a tensor of shape (N, block_size, n_embd), where N is the batch size, n_embd is the embedding dimension\n",
    "  def __call__(self, x):\n",
    "    # Concatenate the vectors, \n",
    "    # x.shape[0] is the batch size, \n",
    "    # -1 means \"infer the rest\" (in this case, block_size * n_embd)\n",
    "    self.out = x.view(x.shape[0], -1)\n",
    "    return self.out\n",
    "  \n",
    "  # Returns list of all layer parameters (none in this case, syntax: flatten.parameters())\n",
    "  def parameters(self):\n",
    "    return []"
   ]
  },
  {
   "cell_type": "markdown",
   "id": "bb31ab39",
   "metadata": {},
   "source": [
    "This approach greatly improves readability and streamlines the layer processing, as we can now add these layers to the old `layers` list and plainly iterate over them as well.<br> *Same function, better understanding.*"
   ]
  },
  {
   "cell_type": "code",
   "execution_count": 36,
   "id": "c594ccab",
   "metadata": {},
   "outputs": [],
   "source": [
    "torch.manual_seed(42);"
   ]
  },
  {
   "cell_type": "code",
   "execution_count": 37,
   "id": "391a6ebf",
   "metadata": {},
   "outputs": [
    {
     "name": "stdout",
     "output_type": "stream",
     "text": [
      "12097\n"
     ]
    }
   ],
   "source": [
    "n_embd   = 10  # Dimensionality of the character embedding vectors\n",
    "n_hidden = 200 # Number of neurons in the hidden layer of the MLP\n",
    "\n",
    "# This sets up the actual network's design\n",
    "layers = [\n",
    "    Embedding(vocab_size, n_embd), # NEW: previously C = torch.randn((vocab_size, n_embd))\n",
    "    Flatten(),                     # NEW: previously x = emb.view(emb.shape[0], -1)\n",
    "    Linear(n_embd * block_size, n_hidden, bias=False), BatchNorm1d(n_hidden), Tanh(),\n",
    "    Linear(n_hidden, vocab_size),\n",
    "]\n",
    "\n",
    "# Parameter init\n",
    "with torch.no_grad():\n",
    "  layers[-1].weight *= 0.1 # Making last layer less confident\n",
    "\n",
    "# OLD: parameters = [C] + [p for layer in layers for p in layer.parameters()]\n",
    "parameters = [p for layer in layers for p in layer.parameters()]\n",
    "print(sum(p.nelement() for p in parameters)) # Number of parameters in total\n",
    "for p in parameters:\n",
    "  p.requires_grad = True"
   ]
  },
  {
   "cell_type": "markdown",
   "id": "9e732993",
   "metadata": {},
   "source": [
    "Not only the design, but also the interaction through forward pass and backward pass get simplified through our changes:"
   ]
  },
  {
   "cell_type": "code",
   "execution_count": 38,
   "id": "c1f8bc13",
   "metadata": {},
   "outputs": [
    {
     "name": "stdout",
     "output_type": "stream",
     "text": [
      "      0/ 200000: 3.2966\n"
     ]
    }
   ],
   "source": [
    "# Same optimization as last time (written a bit differently)\n",
    "max_steps = 200000\n",
    "batch_size = 32\n",
    "lossi = []\n",
    "\n",
    "for i in range(max_steps):\n",
    "    \n",
    "    # Mini-batch construct\n",
    "    ix = torch.randint(0, Xtr.shape[0], (batch_size,))\n",
    "    Xb, Yb = Xtr[ix], Ytr[ix] # X,Y's of this batch\n",
    "    \n",
    "    # Forward-Pass\n",
    "    x = Xb # batch input later gets embedded into vectors\n",
    "    for layer in layers:\n",
    "        x = layer(x)\n",
    "    loss = F.cross_entropy(x, Yb)  # Loss function\n",
    "    \n",
    "    # Backward-Pass\n",
    "    for p in parameters:\n",
    "        # Making sure that prior iteration's gradients are gone\n",
    "        p.grad = None\n",
    "    loss.backward() # This calculates the gradients\n",
    "    \n",
    "    # Update (mini-batch SGD with no fluff)\n",
    "    lr = 0.1 if i < 150000 else 0.01 # Learning rate decay\n",
    "    for p in parameters:\n",
    "        p.data += -lr * p.grad\n",
    "\n",
    "    # Printing track stats every once in a while\n",
    "    if i % 10000 == 0:\n",
    "        print(f'{i:7d}/{max_steps:7d}: {loss.item():.4f}')\n",
    "    \n",
    "    # Adding current loss value to historic losses set (for later display)\n",
    "    lossi.append(loss.log10().item())\n",
    "    \n",
    "    break # We see if this works first"
   ]
  },
  {
   "cell_type": "markdown",
   "id": "4e0feda1",
   "metadata": {},
   "source": [
    "## More simplifications\n",
    "\n",
    "**Let's now simplify our code further.**<br>\n",
    "We store the layers in a list called `layers`.<br>\n",
    "That's not be the most effective way to store them.<br>\n",
    "Let's instead build something like a `container`.\n",
    "\n",
    "Just like in `torch.nn`, this should be an organizer for our layers.<br>\n",
    "The particular PyTorch idea that we'll copy is the `Sequential` container.<br>\n",
    "It is able to, on its own, pass input though all the layers that it contains.<br>**Just what we need!**\n",
    "\n",
    "Let's build this `Sequential` container:"
   ]
  },
  {
   "cell_type": "code",
   "execution_count": 39,
   "id": "e3cd4b32",
   "metadata": {},
   "outputs": [],
   "source": [
    "# Mimicks torch.nn.Sequential\n",
    "class Sequential:\n",
    "  \n",
    "  def __init__(self, layers):\n",
    "    # Psst, this is basically the same list structure as before\n",
    "    self.layers = layers\n",
    "  \n",
    "  # Simply pass input x through every layer in self.layers\n",
    "  def __call__(self, x):\n",
    "    for layer in self.layers:\n",
    "      x = layer(x)\n",
    "    self.out = x\n",
    "    return self.out\n",
    "  \n",
    "  # Get parameters of all layers, stretch them out into one list\n",
    "  def parameters(self):\n",
    "    return [p for layer in self.layers for p in layer.parameters()]"
   ]
  },
  {
   "cell_type": "markdown",
   "id": "ccc89bb1",
   "metadata": {},
   "source": [
    "Once again, this moving of processes to classes has positive implications for our network design and interactivity:"
   ]
  },
  {
   "cell_type": "code",
   "execution_count": 41,
   "id": "186f5475",
   "metadata": {},
   "outputs": [],
   "source": [
    "torch.manual_seed(42);"
   ]
  },
  {
   "cell_type": "code",
   "execution_count": 42,
   "id": "9bb7a468",
   "metadata": {},
   "outputs": [
    {
     "name": "stdout",
     "output_type": "stream",
     "text": [
      "12097\n"
     ]
    }
   ],
   "source": [
    "n_embd = 10    # Dimensionality of the character embedding vectors\n",
    "n_hidden = 200 # Number of neurons in the hidden layer of the MLP\n",
    "\n",
    "# This sets up the actual network's design\n",
    "model = Sequential([\n",
    "    Embedding(vocab_size, n_embd), # previously C = torch.randn((vocab_size, n_embd))\n",
    "    Flatten(),                     # previously x = emb.view(emb.shape[0], -1)\n",
    "    Linear(n_embd * block_size, n_hidden, bias=False), BatchNorm1d(n_hidden), Tanh(),\n",
    "    Linear(n_hidden, vocab_size),\n",
    "])\n",
    "\n",
    "# Parameter init\n",
    "with torch.no_grad():\n",
    "  layers[-1].weight *= 0.1 # Making last layer less confident\n",
    "\n",
    "# Parameters looked like this before: [p for layer in layers for p in layer.parameters()]\n",
    "parameters = model.parameters()\n",
    "print(sum(p.nelement() for p in parameters)) # Number of parameters in total\n",
    "for p in parameters:\n",
    "  p.requires_grad = True"
   ]
  },
  {
   "cell_type": "code",
   "execution_count": 43,
   "id": "62cbcf7e",
   "metadata": {},
   "outputs": [
    {
     "name": "stdout",
     "output_type": "stream",
     "text": [
      "      0/ 200000: 3.4915\n",
      "  10000/ 200000: 2.2179\n",
      "  20000/ 200000: 2.3681\n",
      "  30000/ 200000: 2.1342\n",
      "  40000/ 200000: 2.4067\n",
      "  50000/ 200000: 2.2406\n",
      "  60000/ 200000: 1.9608\n",
      "  70000/ 200000: 1.9236\n",
      "  80000/ 200000: 2.6587\n",
      "  90000/ 200000: 2.0502\n",
      " 100000/ 200000: 2.2596\n",
      " 110000/ 200000: 1.6270\n",
      " 120000/ 200000: 2.1705\n",
      " 130000/ 200000: 2.2806\n",
      " 140000/ 200000: 2.1980\n",
      " 150000/ 200000: 1.8434\n",
      " 160000/ 200000: 1.8250\n",
      " 170000/ 200000: 2.3077\n",
      " 180000/ 200000: 2.0817\n",
      " 190000/ 200000: 2.1585\n"
     ]
    }
   ],
   "source": [
    "# Same optimization as last time (just written a bit differently)\n",
    "max_steps = 200000\n",
    "batch_size = 32\n",
    "lossi = []\n",
    "\n",
    "for i in range(max_steps):\n",
    "    \n",
    "    # Mini-batch construct\n",
    "    ix = torch.randint(0, Xtr.shape[0], (batch_size,))\n",
    "    Xb, Yb = Xtr[ix], Ytr[ix] # X,Y's of this batch\n",
    "    \n",
    "    # Forward-Pass\n",
    "    logits = model(Xb) # our new Sequential container in action\n",
    "    loss = F.cross_entropy(logits, Yb)  # Loss function\n",
    "    \n",
    "    # Backward-Pass\n",
    "    for p in parameters:\n",
    "        # Making sure that prior iteration's gradients are gone\n",
    "        p.grad = None\n",
    "    loss.backward() # This calculates the current (new) gradients\n",
    "    \n",
    "    # Update (SGD with no fluff)\n",
    "    lr = 0.1 if i < 150000 else 0.01 # Learning rate decay\n",
    "    for p in parameters:\n",
    "        p.data += -lr * p.grad\n",
    "\n",
    "    # Printing track stats every once in a while\n",
    "    if i % 10000 == 0:\n",
    "        print(f'{i:7d}/{max_steps:7d}: {loss.item():.4f}')\n",
    "    \n",
    "    # Adding current loss value to historic losses set (for later display)\n",
    "    lossi.append(loss.log10().item())\n",
    "    \n",
    "    #break # We see if this works first"
   ]
  },
  {
   "cell_type": "markdown",
   "id": "51d3aebd",
   "metadata": {},
   "source": [
    "These simplifications carry their positive effect on readability through all of the pipeline:"
   ]
  },
  {
   "cell_type": "code",
   "execution_count": 46,
   "id": "d22eea74",
   "metadata": {},
   "outputs": [
    {
     "name": "stdout",
     "output_type": "stream",
     "text": [
      "torch.Size([200000])\n",
      "torch.Size([200, 1000])\n",
      "torch.Size([200])\n"
     ]
    },
    {
     "data": {
      "image/png": "[encoded data removed]",
      "text/plain": [
       "<Figure size 640x480 with 1 Axes>"
      ]
     },
     "metadata": {},
     "output_type": "display_data"
    }
   ],
   "source": [
    "print(torch.tensor(lossi).shape)                        # (200000,)\n",
    "print(torch.tensor(lossi).view(-1, 1000).shape)         # Make each row carry 1000 consecutive elements\n",
    "print(torch.tensor(lossi).view(-1, 1000).mean(1).shape) # Row-wise (1) mean --> 200 rows/means\n",
    "plt.plot(torch.tensor(lossi).view(-1, 1000).mean(1));   # Mean on every Row -> 200 means"
   ]
  },
  {
   "cell_type": "markdown",
   "id": "5f427f59",
   "metadata": {},
   "source": [
    "Let's also determine the training and validation losses:"
   ]
  },
  {
   "cell_type": "code",
   "execution_count": 47,
   "id": "b6c696d3",
   "metadata": {},
   "outputs": [],
   "source": [
    "# Put layers into eval mode (needed for batchnorm especially)\n",
    "# (Accessing Sequential's layers directly like this is bad, we'll fix this later)\n",
    "for layer in model.layers:\n",
    "    layer.training = False"
   ]
  },
  {
   "cell_type": "code",
   "execution_count": 49,
   "id": "602a000d",
   "metadata": {},
   "outputs": [
    {
     "name": "stdout",
     "output_type": "stream",
     "text": [
      "train\t2.058220863342285\n",
      "val\t2.1056692600250244\n"
     ]
    }
   ],
   "source": [
    "# See Makemore #2. We did this before but it's refactored here for convenience:\n",
    "@torch.no_grad() # Decorator, disables gradient tracking (no \"book-keeping\" on torch's side for this function)\n",
    "def split_loss(split):\n",
    "    x, y = {\n",
    "        'train': (Xtr, Ytr),\n",
    "        'val': (Xdev, Ydev),\n",
    "        'test': (Xte, Yte),\n",
    "    }[split]   # That's a switch!\n",
    "    \n",
    "    logits = model(x) # This got simplified\n",
    "    \n",
    "    loss = F.cross_entropy(logits, y)\n",
    "    print(f'{split}\\t{loss.item()}')\n",
    "\n",
    "split_loss('train')\n",
    "split_loss('val')"
   ]
  },
  {
   "cell_type": "code",
   "execution_count": 50,
   "id": "cdbbae50",
   "metadata": {},
   "outputs": [
    {
     "name": "stdout",
     "output_type": "stream",
     "text": [
      "ivon.\n",
      "fanili.\n",
      "thoommestenell.\n",
      "mattevyn.\n",
      "alana.\n",
      "joleshaun.\n",
      "siah.\n",
      "prus.\n",
      "carleen.\n",
      "jah.\n",
      "jorrena.\n",
      "joriah.\n",
      "jas.\n",
      "vishylaharia.\n",
      "juna.\n",
      "vio.\n",
      "orven.\n",
      "mina.\n",
      "laylee.\n",
      "esteffead.\n"
     ]
    }
   ],
   "source": [
    "# Sample from the model\n",
    "for _ in range(20):\n",
    "    out = []\n",
    "    context = [0] * block_size # initialize with all ...\n",
    "    while True:\n",
    "      # Forward pass though the neural net\n",
    "      logits = model(torch.tensor([context]))\n",
    "      probs = F.softmax(logits, dim=1)\n",
    "      # Sample from the distribution\n",
    "      ix = torch.multinomial(probs, num_samples=1).item()\n",
    "      # Shift the context window and track the samples\n",
    "      context = context[1:] + [ix]\n",
    "      out.append(ix)\n",
    "      # As soon as we sample the special '.' token, break\n",
    "      if ix == 0:\n",
    "        break\n",
    "    \n",
    "    # Decode and print the generated words (Inferences)\n",
    "    print(''.join(itos[i] for i in out))"
   ]
  },
  {
   "cell_type": "markdown",
   "id": "5a6f2276",
   "metadata": {},
   "source": [
    "We see that the losses on training and validation set are very similar to one another.<br>\n",
    "**This hints at the model being able to generalize pretty well.**\n",
    "\n",
    "**It does not overfit.** *That's good.*\n",
    "\n",
    "This is a good basis for trying to increase the model size<br>\n",
    "to deepen the understanding and further reduce the loss we have."
   ]
  },
  {
   "cell_type": "markdown",
   "id": "10671ab2",
   "metadata": {},
   "source": [
    "## Going deeper\n",
    "\n",
    "**Ok, going back to the beginning.**<br><br>\n",
    "Right now, we use a (more elegantly implemented) architecture to take in three letters and predict the fourth.<br>\n",
    "The problem is that while we are able to in theory \"just add more layers\", in the beginning we effectively crush all the input characters into one layer.<br>\n",
    "This is the architecture's core problem/bottleneck.<br><br>\n",
    "The [WaveNet](https://arxiv.org/abs/1609.03499) approach addresses this:\n",
    "\n",
    "![](./img/convolutions_1.PNG)\n",
    "\n",
    "The different characters are fed in, and not just crushed into a single layer at once.<br>\n",
    "This processes of crushing now happens much less harshly across several layers.<br>\n",
    "**This lowers the risk of information loss**.\n",
    "\n",
    "In the first layer, we \"fuse\" two characters.<br>\n",
    "Then, we \"fuse\" the fusions of those two characters (now considering $4$ characters in total) and so on.<br>\n",
    "A tree structure emerges, which we can scale in depth (therefore we can scale the context size) to our liking.\n",
    "\n",
    "> This exact concept of stacking up layers and \"tree-branch-style\" merging inputs is called<br>\n",
    "> **\"dilated causal convolutional layers\".**\n",
    "\n",
    "**In short:**<br>\n",
    "We're actually going to make the network deeper, but mostly regarding the input process.<br>\n",
    "This will already add more information for us to learn from,<br>\n",
    "as we can now take characters into account in a more \"contextual\" way."
   ]
  },
  {
   "cell_type": "markdown",
   "id": "490d5f18",
   "metadata": {},
   "source": [
    "First, let's increase the `block_size` from $3$ to $8$:"
   ]
  },
  {
   "cell_type": "code",
   "execution_count": 51,
   "id": "d3817d55",
   "metadata": {},
   "outputs": [
    {
     "name": "stdout",
     "output_type": "stream",
     "text": [
      "torch.Size([182625, 8]) torch.Size([182625])\n",
      "torch.Size([22655, 8]) torch.Size([22655])\n",
      "torch.Size([22866, 8]) torch.Size([22866])\n"
     ]
    }
   ],
   "source": [
    "# Build the dataset\n",
    "block_size = 8 # Context length: How many characters do we take to predict the next one?\n",
    "\n",
    "def build_dataset(words):  \n",
    "  X, Y = [], []\n",
    "  \n",
    "  for w in words:\n",
    "    context = [0] * block_size\n",
    "    for ch in w + '.':\n",
    "      ix = stoi[ch]\n",
    "      X.append(context)\n",
    "      Y.append(ix)\n",
    "      context = context[1:] + [ix] # Crop and append\n",
    "\n",
    "  X = torch.tensor(X)\n",
    "  Y = torch.tensor(Y)\n",
    "    \n",
    "  print(X.shape, Y.shape)\n",
    "  return X, Y\n",
    "\n",
    "# These are the \"markers\" we will use to divide the dataset\n",
    "n1 = int(0.8 * len(words))\n",
    "n2 = int(0.9 * len(words))\n",
    "\n",
    "# Dividing the dataset into train, dev and test splits\n",
    "Xtr, Ytr = build_dataset(words[:n1])     # 80%\n",
    "Xdev, Ydev = build_dataset(words[n1:n2]) # 10%\n",
    "Xte, Yte = build_dataset(words[n2:])     # 10%"
   ]
  },
  {
   "cell_type": "code",
   "execution_count": 52,
   "id": "3516d514",
   "metadata": {},
   "outputs": [
    {
     "name": "stdout",
     "output_type": "stream",
     "text": [
      "........ --> y\n",
      ".......y --> u\n",
      "......yu --> h\n",
      ".....yuh --> e\n",
      "....yuhe --> n\n",
      "...yuhen --> g\n",
      "..yuheng --> .\n",
      "........ --> d\n",
      ".......d --> i\n",
      "......di --> o\n",
      ".....dio --> n\n",
      "....dion --> d\n",
      "...diond --> r\n",
      "..diondr --> e\n",
      ".diondre --> .\n",
      "........ --> x\n",
      ".......x --> a\n",
      "......xa --> v\n",
      ".....xav --> i\n",
      "....xavi --> e\n"
     ]
    }
   ],
   "source": [
    "# Show the dataset's layout -> Eight inputs, one associated/expected output\n",
    "for x, y in zip(Xtr[:20], Ytr[:20]):\n",
    "    print(''.join(itos[ix.item()] for ix in x), '-->', itos[y.item()])"
   ]
  },
  {
   "cell_type": "markdown",
   "id": "f7e53add",
   "metadata": {},
   "source": [
    "The model architecture remains for now. The number of parameters has increased by $10,000$.<br>\n",
    "This is due to the larger context size.\n",
    "\n",
    "**The question for now is:**<br>\n",
    "Does plainly increasing the context size yield a lower loss, all while still crushing everything into the first layer?\n",
    "\n",
    "Let's try that:"
   ]
  },
  {
   "cell_type": "code",
   "execution_count": 53,
   "id": "10b83be5",
   "metadata": {},
   "outputs": [
    {
     "name": "stdout",
     "output_type": "stream",
     "text": [
      "22097\n"
     ]
    }
   ],
   "source": [
    "n_embd = 10    # Dimensionality of the character embedding vectors\n",
    "n_hidden = 200 # Number of neurons in the hidden layer of the MLP\n",
    "\n",
    "# Setting up the network's design\n",
    "model = Sequential([\n",
    "    Embedding(vocab_size, n_embd), # previously C = torch.randn((vocab_size, n_embd))\n",
    "    Flatten(), # previously C.view(-1, n_embd * block_size)\n",
    "    Linear(n_embd * block_size, n_hidden, bias=False), BatchNorm1d(n_hidden), Tanh(),\n",
    "    Linear(n_hidden, vocab_size),\n",
    "])\n",
    "\n",
    "# Parameter init\n",
    "with torch.no_grad():\n",
    "  layers[-1].weight *= 0.1 # Making last layer less confident\n",
    "\n",
    "# before: [p for layer in layers for p in layer.parameters()]\n",
    "parameters = model.parameters()\n",
    "print(sum(p.nelement() for p in parameters)) # Number of parameters in total\n",
    "for p in parameters:\n",
    "  p.requires_grad = True"
   ]
  },
  {
   "cell_type": "code",
   "execution_count": 54,
   "id": "4e283119",
   "metadata": {},
   "outputs": [
    {
     "name": "stdout",
     "output_type": "stream",
     "text": [
      "      0/ 200000: 3.6036\n",
      "  10000/ 200000: 2.1418\n",
      "  20000/ 200000: 2.2006\n",
      "  30000/ 200000: 2.4524\n",
      "  40000/ 200000: 2.2123\n",
      "  50000/ 200000: 1.8461\n",
      "  60000/ 200000: 2.5121\n",
      "  70000/ 200000: 2.1705\n",
      "  80000/ 200000: 2.3022\n",
      "  90000/ 200000: 2.2967\n",
      " 100000/ 200000: 1.9490\n",
      " 110000/ 200000: 2.0411\n",
      " 120000/ 200000: 2.8504\n",
      " 130000/ 200000: 1.5823\n",
      " 140000/ 200000: 2.0511\n",
      " 150000/ 200000: 2.0658\n",
      " 160000/ 200000: 2.0859\n",
      " 170000/ 200000: 1.7717\n",
      " 180000/ 200000: 1.4267\n",
      " 190000/ 200000: 2.0282\n"
     ]
    }
   ],
   "source": [
    "# Same optimization as last time (written a bit differently)\n",
    "max_steps = 200000\n",
    "batch_size = 32\n",
    "lossi = []\n",
    "\n",
    "for i in range(max_steps):\n",
    "    \n",
    "    # Mini-batch construct\n",
    "    ix = torch.randint(0, Xtr.shape[0], (batch_size,))\n",
    "    Xb, Yb = Xtr[ix], Ytr[ix] # X,Y's of this batch\n",
    "    \n",
    "    # Forward-Pass\n",
    "    logits = model(Xb)\n",
    "    loss = F.cross_entropy(logits, Yb)  # Loss function\n",
    "    \n",
    "    # Backward-Pass\n",
    "    for p in parameters:\n",
    "        # Making sure that prior iteration's gradients are gone\n",
    "        p.grad = None\n",
    "    loss.backward() # This calculates the current (new) gradients\n",
    "    \n",
    "    # Update (SGD with no fluff)\n",
    "    lr = 0.1 if i < 150000 else 0.01 # Learning rate decay\n",
    "    for p in parameters:\n",
    "        p.data += -lr * p.grad\n",
    "\n",
    "    # Printing track stats every once in a while\n",
    "    if i % 10000 == 0:\n",
    "        print(f'{i:7d}/{max_steps:7d}: {loss.item():.4f}')\n",
    "    \n",
    "    # Adding current loss value to historic losses set (for later display)\n",
    "    lossi.append(loss.log10().item())\n",
    "    \n",
    "    #break # We see if this works first"
   ]
  },
  {
   "cell_type": "code",
   "execution_count": 55,
   "id": "5eeab59c",
   "metadata": {},
   "outputs": [
    {
     "data": {
      "image/png": "[encoded data removed]",
      "text/plain": [
       "<Figure size 640x480 with 1 Axes>"
      ]
     },
     "metadata": {},
     "output_type": "display_data"
    }
   ],
   "source": [
    "plt.plot(torch.tensor(lossi).view(-1, 1000).mean(1)); # Mean on every Row -> 200 means"
   ]
  },
  {
   "cell_type": "code",
   "execution_count": 56,
   "id": "44cedf7b",
   "metadata": {},
   "outputs": [],
   "source": [
    "# Put layers into evaluation mode\n",
    "for layer in model.layers:\n",
    "    layer.training = False"
   ]
  },
  {
   "cell_type": "code",
   "execution_count": 58,
   "id": "b575808a",
   "metadata": {},
   "outputs": [
    {
     "name": "stdout",
     "output_type": "stream",
     "text": [
      "train\t1.9186382293701172\n",
      "val\t2.0330464839935303\n"
     ]
    }
   ],
   "source": [
    "# See Makemore #2. We did this before but it's refactored here for convenience:\n",
    "@torch.no_grad() # Decorator, disables gradient tracking (no \"book-keeping\" on torch's side for this function)\n",
    "def split_loss(split):\n",
    "    x, y = {\n",
    "        'train': (Xtr, Ytr),\n",
    "        'val': (Xdev, Ydev),\n",
    "        'test': (Xte, Yte),\n",
    "    }[split] # That's a switch!!\n",
    "    \n",
    "    logits = model(x)\n",
    "    \n",
    "    loss = F.cross_entropy(logits, y)\n",
    "    print(f'{split}\\t{loss.item()}')\n",
    "\n",
    "split_loss('train')\n",
    "split_loss('val')"
   ]
  },
  {
   "cell_type": "markdown",
   "id": "bfa37920",
   "metadata": {},
   "source": [
    "We actually see a **good improvement** concerning the loss here.<br>\n",
    "And this is only due to making the batch size larger.<br>\n",
    "*Nothing else, no structural changes yet.*\n",
    "\n",
    "**Performance log:**\n",
    "|                                         |train|val  |\n",
    "| --------------------------------------- | --- | --- |\n",
    "| original (3 characters, 12K params)     |2.058|2.105|\n",
    "| context: 3 $\\rightarrow$ 8 (22K params) |1.918|2.033|"
   ]
  },
  {
   "cell_type": "code",
   "execution_count": 59,
   "id": "ab022272",
   "metadata": {},
   "outputs": [
    {
     "name": "stdout",
     "output_type": "stream",
     "text": [
      "mahriah.\n",
      "catheoj.\n",
      "demanui.\n",
      "briuja.\n",
      "alim.\n",
      "devon.\n",
      "alunya.\n",
      "duriyan.\n",
      "amer.\n",
      "catriana.\n",
      "aryshail.\n",
      "arpod.\n",
      "nalynn.\n",
      "elynn.\n",
      "ozep.\n",
      "lavade.\n",
      "rudiel.\n",
      "beitum.\n",
      "micbelly.\n",
      "karlene.\n"
     ]
    }
   ],
   "source": [
    "# Sample from the 22K model\n",
    "for _ in range(20):\n",
    "    \n",
    "    out = []\n",
    "    context = [0] * block_size # initialize with all ...\n",
    "    while True:\n",
    "      # Forward pass though the neural net\n",
    "      logits = model(torch.tensor([context]))\n",
    "      probs = F.softmax(logits, dim=1)\n",
    "      # Sample from the distribution\n",
    "      ix = torch.multinomial(probs, num_samples=1).item()\n",
    "      # Shift the context window and track the samples\n",
    "      context = context[1:] + [ix]\n",
    "      out.append(ix)\n",
    "      # As soon as we sample the special '.' token, break\n",
    "      if ix == 0:\n",
    "        break\n",
    "    \n",
    "    # Decode and print the generated words (Inferences)\n",
    "    print(''.join(itos[i] for i in out))"
   ]
  },
  {
   "cell_type": "markdown",
   "id": "5ae1935c",
   "metadata": {},
   "source": [
    "*Those names start to look better.*<br>\n",
    "But let's now also make the model more scalable with the above discussed *'dilated causal convolutional layers'* approach."
   ]
  },
  {
   "cell_type": "markdown",
   "id": "9d783d16",
   "metadata": {},
   "source": [
    "## Dilated Causal Convolutional Layers\n",
    "\n",
    "Let's build up some intuition on how this multilayer-input construct could be built.<br>\n",
    "Below we can see the shape of the tensors throughout the network's layers.\n",
    "\n",
    "**This is just for visualization:**"
   ]
  },
  {
   "cell_type": "code",
   "execution_count": 60,
   "id": "e441233c",
   "metadata": {},
   "outputs": [
    {
     "name": "stdout",
     "output_type": "stream",
     "text": [
      "torch.Size([4, 8])\n",
      "tensor([[ 0,  0,  0,  0,  0,  0,  0,  8],\n",
      "        [ 0,  0,  0,  0,  5, 12, 12, 19],\n",
      "        [ 0,  0,  0,  0,  0,  0,  0, 12],\n",
      "        [ 0,  0,  0, 13,  1,  5,  2, 18]])\n"
     ]
    }
   ],
   "source": [
    "# Let's look at what a batch of just 4 examples does\n",
    "ix = torch.randint(0, Xtr.shape[0], (4,))\n",
    "\n",
    "# Take these 4 random rows from the training set\n",
    "Xb, Yb = Xtr[ix], Ytr[ix]\n",
    "logits = model(Xb) # Run them through the model\n",
    "print(Xb.shape)    # Total input set dimensions, 4x8; 4 is batch size, 8 is block size\n",
    "print(Xb)          # Let's see the actual input batch"
   ]
  },
  {
   "cell_type": "code",
   "execution_count": 61,
   "id": "9db027e4",
   "metadata": {},
   "outputs": [
    {
     "name": "stdout",
     "output_type": "stream",
     "text": [
      "torch.Size([4, 8, 10])\n"
     ]
    }
   ],
   "source": [
    "# Each character is represented by a 10-dimensional vector that we want to learn (we chose that)\n",
    "print(model.layers[0].out.shape) # 4x8x10 -> 4 is batch size, 8 is block size, 10 is embedding size"
   ]
  },
  {
   "cell_type": "code",
   "execution_count": 62,
   "id": "41000422",
   "metadata": {},
   "outputs": [
    {
     "name": "stdout",
     "output_type": "stream",
     "text": [
      "torch.Size([4, 80])\n"
     ]
    }
   ],
   "source": [
    "# Output of the Flatten Layer (compresses 8 and 10 together into one big concatenation per input)\n",
    "print(model.layers[1].out.shape) # 4x80 -> 4 is batch size, 80 is inferred from 8x10"
   ]
  },
  {
   "cell_type": "code",
   "execution_count": 63,
   "id": "c7dbd943",
   "metadata": {},
   "outputs": [
    {
     "name": "stdout",
     "output_type": "stream",
     "text": [
      "torch.Size([4, 200])\n",
      "torch.Size([4, 200])\n"
     ]
    }
   ],
   "source": [
    "# Output of the Linear Layer (200 expected outputs created per input)\n",
    "print(model.layers[2].out.shape) # 4x200 -> 4 is batch size, 200 is number of neurons in the hidden layer\n",
    "\n",
    "# Digression/Refresher: How come [4, 80] turns into [4, 200]? See below for explanation\n",
    "print((torch.randn(4, 80) @ torch.randn(80, 200) + torch.randn(200)).shape)\n",
    "# We obtain 4 (batch size) activation sets of 200 activations each, just as planned\n",
    "# The + torch.randn(200) is the bias"
   ]
  },
  {
   "cell_type": "markdown",
   "id": "4061b163",
   "metadata": {},
   "source": [
    "Interestingly, this last step can work no matter what dimensionality the input has.<br>\n",
    "It always 'attaches' to the last dimension, ignoring $n \\geq 0$ prior listed matrix dimensions:"
   ]
  },
  {
   "cell_type": "code",
   "execution_count": 66,
   "id": "e981da25",
   "metadata": {},
   "outputs": [
    {
     "name": "stdout",
     "output_type": "stream",
     "text": [
      "torch.Size([4, 5, 6, 200])\n"
     ]
    }
   ],
   "source": [
    "# Just a sidenote, nothing structural\n",
    "print((torch.randn(4, 5, 6, 80) @ torch.randn(80, 200) + torch.randn(200)).shape)"
   ]
  },
  {
   "cell_type": "markdown",
   "id": "fc454c0c",
   "metadata": {},
   "source": [
    "We can use this property to our advantage.<br><br>\n",
    "We have `block_size=8` many characters:<br>\n",
    "`1 2 3 4 5 6 7 8`\n",
    "\n",
    "We embed each character into a $10$-dimensional vector. (Just as we always did.)\n",
    "\n",
    "We now want to apply step-wise grouping over the embedded (now $10$-dimensional) characters:<br>\n",
    "`(1 2) (3 4) (5 6) (7 8)`\n",
    "\n",
    "We also want to do this in a way as to process the above emerging $4$ subgroups efficiently, in parallel.\n",
    "\n",
    "Let's modify our previously applied matrix multiplication to be able to account for that.<br>\n",
    "We only want $2$ characters to be fused in our first layer.<br>\n",
    "These are the $4$ times (batch size) $4$ groups of $2$ characters,<br>\n",
    "`(1 2) (3 4) (5 6) (7 8)`, where each character itself is $10$ dimensional<br>\n",
    "(per group: $2$ characters $\\times 10$ embeddings $= 20$):"
   ]
  },
  {
   "cell_type": "code",
   "execution_count": 69,
   "id": "073353e6",
   "metadata": {},
   "outputs": [
    {
     "name": "stdout",
     "output_type": "stream",
     "text": [
      "torch.Size([4, 4, 200])\n"
     ]
    }
   ],
   "source": [
    "# n_embd = 10    # Character embedding dimensionality\n",
    "# We want this behavior for our new linear layer, it's just a draft for now:\n",
    "print((torch.randn(4, 4, 20) @ torch.randn(20, 200) + torch.randn(200)).shape)"
   ]
  },
  {
   "cell_type": "markdown",
   "id": "5be5835d",
   "metadata": {},
   "source": [
    "The `Flatten` layer should therefore be adapted<br>\n",
    "to not output $[4, 80]$, but $[4, 4, 20]$ (again $4 \\times 4$ groups of $2$ characters, each of $10$ dimensions)<br>\n",
    "so that it correctly feeds into the new linear layer which already accounts for the grouped input approach now.\n",
    "\n",
    "We currently have an input of dim $(4, 8, 10)$ (`batch_size`, `block_size`, `embedding_size`).<br>\n",
    "**Goal:** Get this to be $(4, 4, 20)$ with $20$ being $2$ consecutive $10$-dim vectors concatenated"
   ]
  },
  {
   "cell_type": "code",
   "execution_count": 71,
   "id": "b3ad4c7c",
   "metadata": {},
   "outputs": [
    {
     "name": "stdout",
     "output_type": "stream",
     "text": [
      "torch.Size([4, 80])\n"
     ]
    }
   ],
   "source": [
    "e = torch.randn(4, 8, 10) # Mocked input to the flatten layer\n",
    "# Currently, Flatten() creates just this reshaped version:\n",
    "print(e.view(4, -1).shape)"
   ]
  },
  {
   "cell_type": "markdown",
   "id": "14ef5d2e",
   "metadata": {},
   "source": [
    "To solve the re-arrangement task, we can utilize a concept from the python list API to reshape exactly how we want it right now.<br>\n",
    "This is the concept we want to use:"
   ]
  },
  {
   "cell_type": "code",
   "execution_count": 81,
   "id": "735bab7e",
   "metadata": {},
   "outputs": [
    {
     "name": "stdout",
     "output_type": "stream",
     "text": [
      "[0, 2, 4, 6, 8]\n",
      "[1, 3, 5, 7, 9]\n"
     ]
    }
   ],
   "source": [
    "print(list(range(10))[::2])\n",
    "print(list(range(10))[1::2])"
   ]
  },
  {
   "cell_type": "markdown",
   "id": "b726d26f",
   "metadata": {},
   "source": [
    "From every input in the batch (batch size $4$), we now pick only every second $10$-dimensional character embedding vector.<br>\n",
    "Given `e` of shape $(4, 8, 10)$, we therefore have to plug out a shape $(4, 4, 10)$:"
   ]
  },
  {
   "cell_type": "code",
   "execution_count": 82,
   "id": "5671822f",
   "metadata": {},
   "outputs": [
    {
     "name": "stdout",
     "output_type": "stream",
     "text": [
      "torch.Size([4, 4, 10])\n",
      "torch.Size([4, 4, 10])\n"
     ]
    }
   ],
   "source": [
    "print(e[:, ::2, :].shape)  # Even character representations (zeroth, second etc.)\n",
    "print(e[:, 1::2, :].shape) # Odd character representations (first, third etc.)"
   ]
  },
  {
   "cell_type": "markdown",
   "id": "8146e57c",
   "metadata": {},
   "source": [
    "If we now concatenate these two tensors along their third dimension (zero-indexed in Python, so there is a $2$ in the code),<br>\n",
    "we re-combine every even character embedding with just its following odd character embedding."
   ]
  },
  {
   "cell_type": "code",
   "execution_count": 83,
   "id": "d9aae00b",
   "metadata": {},
   "outputs": [
    {
     "name": "stdout",
     "output_type": "stream",
     "text": [
      "torch.Size([4, 4, 20])\n"
     ]
    }
   ],
   "source": [
    "explicit = torch.cat([e[:, ::2, :], e[:, 1::2, :]], dim=2)\n",
    "print(explicit.shape)"
   ]
  },
  {
   "cell_type": "markdown",
   "id": "8a597d82",
   "metadata": {},
   "source": [
    "*A remarkable move.*<br><br>\n",
    "We have a $[4, 8, 10]$ input. We splice this one tensor into two, both of size $[4, 4, 10]$.<br>\n",
    "The first tensor contains all the even number embeddings, and the second tensor contains all the odd number embeddings of the groups of embeddings.<br>\n",
    "We then concatenate the tensors on their third dimension.<br>\n",
    "We thus always paste the $10$-dimensional embedding of a second character to the back of the embedding of a first character.\n",
    "\n",
    "In fact, we just did that operation very explicitly.<br>\n",
    "PyTorch's `.view()` has our back in this case, we don't need to be as verbose.<br>\n",
    "But its always good to see how this is done.\n",
    "\n",
    "The simplified code utilizing `.view()` for the same task:"
   ]
  },
  {
   "cell_type": "code",
   "execution_count": 84,
   "id": "3f1144ff",
   "metadata": {},
   "outputs": [
    {
     "name": "stdout",
     "output_type": "stream",
     "text": [
      "tensor(True)\n"
     ]
    }
   ],
   "source": [
    "print((e.view(4, 4, 20) == explicit).all())"
   ]
  },
  {
   "cell_type": "markdown",
   "id": "040a21ef",
   "metadata": {},
   "source": [
    "**This can be generalized.**<br><br>\n",
    "If a flattening layer was to receive a tensor of shape $[B, T, C]$ (`batch_size`, `characters`, `embedding_channels`),<br>\n",
    "and it received an $n$ to group the characters into $n$ groups,<br>\n",
    "we can generalize the reshaping to $[B, T//n, C \\times n]$ (`batch_size`, `characters` divided by $n$, `embedding_channels` times $n$).\n",
    "\n",
    "Let's now propagate our findings to the model architecture and specifically to the implementation of `Flatten`.<br>\n",
    "These classes remain untouched:"
   ]
  },
  {
   "cell_type": "code",
   "execution_count": 85,
   "id": "d7ad3727",
   "metadata": {},
   "outputs": [],
   "source": [
    "# Mimicks torch.nn.linear\n",
    "\n",
    "class Linear:\n",
    "  \n",
    "  def __init__(self, fan_in, fan_out, bias=True):\n",
    "    self.weight = torch.randn((fan_in, fan_out)) / fan_in**0.5  # Kaiming init\n",
    "    self.bias = torch.zeros(fan_out) if bias else None\n",
    "  \n",
    "  # Performs a forward pass if called (syntax: l = Linear(x))\n",
    "  def __call__(self, x):\n",
    "    self.out = x @ self.weight\n",
    "    if self.bias is not None:\n",
    "      self.out += self.bias\n",
    "    return self.out\n",
    "  \n",
    "  def parameters(self):\n",
    "    return [self.weight] + ([] if self.bias is None else [self.bias])\n",
    "\n",
    "# -----------------------------------------------------------------------------------------------\n",
    "\n",
    "# Mimicks torch.nn.batchnorm1d\n",
    "class BatchNorm1d:\n",
    "  \n",
    "  def __init__(self, dim, eps=1e-5, momentum=0.1):\n",
    "    self.eps = eps\n",
    "    self.momentum = momentum\n",
    "    # Batchnorm1d behaves differently during training and production\n",
    "    self.training = True\n",
    "    # Parameters (trained with backprop)\n",
    "    self.gamma = torch.ones(dim)\n",
    "    self.beta = torch.zeros(dim)\n",
    "    # Buffers (trained with a running 'momentum update' outside backprop)\n",
    "    self.running_mean = torch.zeros(dim)\n",
    "    self.running_var = torch.ones(dim)\n",
    "  \n",
    "  def __call__(self, x):\n",
    "    # Calculate the forward pass\n",
    "    if self.training:\n",
    "      xmean = x.mean(0, keepdim=True) # Batchnorm mean\n",
    "      xvar = x.var(0, keepdim=True) # Batchnorm variance\n",
    "    else:\n",
    "      xmean = self.running_mean\n",
    "      xvar = self.running_var\n",
    "    xhat = (x - xmean) / torch.sqrt(xvar + self.eps) # Normalize to unit variance\n",
    "    self.out = self.gamma * xhat + self.beta\n",
    "    # Update the buffers\n",
    "    if self.training:\n",
    "      with torch.no_grad():\n",
    "        self.running_mean = (1 - self.momentum) * self.running_mean + self.momentum * xmean\n",
    "        self.running_var = (1 - self.momentum) * self.running_var + self.momentum * xvar\n",
    "    return self.out\n",
    "  \n",
    "  def parameters(self):\n",
    "    return [self.gamma, self.beta]\n",
    "\n",
    "# -----------------------------------------------------------------------------------------------\n",
    "\n",
    "# Mimicks torch.nn.tanh\n",
    "class Tanh:\n",
    "  def __call__(self, x):\n",
    "    self.out = torch.tanh(x)\n",
    "    return self.out\n",
    "\n",
    "  def parameters(self):\n",
    "    return []\n",
    "\n",
    "# -----------------------------------------------------------------------------------------------\n",
    "\n",
    "# Mimicks torch.nn.embedding, does the indexing operation\n",
    "class Embedding:\n",
    "  \n",
    "  def __init__(self, num_embeddings, embedding_dim):\n",
    "    # What was previously C (lookup table) is now the weight in this layer\n",
    "    self.weight = torch.randn((num_embeddings, embedding_dim))\n",
    "    \n",
    "  def __call__(self, IX):\n",
    "    self.out = self.weight[IX]\n",
    "    return self.out\n",
    "  \n",
    "  def parameters(self):\n",
    "    return [self.weight]\n",
    "\n",
    "# -----------------------------------------------------------------------------------------------\n",
    "\n",
    "# Mimicks torch.nn.Sequential\n",
    "class Sequential:\n",
    "  \n",
    "  def __init__(self, layers):\n",
    "    self.layers = layers      # This is basically the same list structure as before\n",
    "  \n",
    "  def __call__(self, x):      # Simply pass input x through every layer in self.layers\n",
    "    for layer in self.layers:\n",
    "      x = layer(x)\n",
    "    self.out = x\n",
    "    return self.out\n",
    "  \n",
    "  def parameters(self):\n",
    "    # get parameters of all layers, stretch them out into one list\n",
    "    return [p for layer in self.layers for p in layer.parameters()]"
   ]
  },
  {
   "cell_type": "markdown",
   "id": "cb8512f1",
   "metadata": {},
   "source": [
    "This one is new:"
   ]
  },
  {
   "cell_type": "code",
   "execution_count": 86,
   "id": "ec9e1bcf",
   "metadata": {},
   "outputs": [],
   "source": [
    "# NOT ANYMORE mimicking torch.nn.flatten\n",
    "class FlattenConsecutive:\n",
    "    \n",
    "  def __init__(self, n):  # n is the number of consecutive elements to be concatenated\n",
    "    self.n = n\n",
    "    \n",
    "  def __call__(self, x):\n",
    "    B, T, C = x.shape # 4, 8, 10 in example before\n",
    "    x = x.view(B, T//self.n, C*self.n) # Flattening in groups, now 4, 4, 20 for n=2 characters\n",
    "    if x.shape[1] == 1:\n",
    "        x = x.squeeze(1) # Takes out the dimension 1, as it only has value 1 (irrelevant)\n",
    "    self.out = x\n",
    "    return self.out\n",
    "  \n",
    "  def parameters(self):\n",
    "    return []"
   ]
  },
  {
   "cell_type": "code",
   "execution_count": 88,
   "id": "cfa75a7c",
   "metadata": {},
   "outputs": [],
   "source": [
    "torch.manual_seed(42); # For reproducibility"
   ]
  },
  {
   "cell_type": "markdown",
   "id": "51c9f782",
   "metadata": {},
   "source": [
    "Let's now set up the thinned and deepened model architecture:"
   ]
  },
  {
   "cell_type": "code",
   "execution_count": 89,
   "id": "f69ab3ea",
   "metadata": {},
   "outputs": [
    {
     "name": "stdout",
     "output_type": "stream",
     "text": [
      "22397\n"
     ]
    }
   ],
   "source": [
    "n_embd   = 10 # Dimensionality of the character embedding vectors\n",
    "n_hidden = 68 # Number of neurons in the hidden layer of the MLP\n",
    "\n",
    "# This sets up the actual network's design\n",
    "model = Sequential([\n",
    "    Embedding(vocab_size, n_embd),   # Previously C = torch.randn((vocab_size, n_embd))\n",
    "    # The new layer at work now (block_size was 8 before)\n",
    "    FlattenConsecutive(2), Linear(n_embd * 2, n_hidden, bias=False), BatchNorm1d(n_hidden), Tanh(),\n",
    "    FlattenConsecutive(2), Linear(n_hidden * 2, n_hidden, bias=False), BatchNorm1d(n_hidden), Tanh(),\n",
    "    FlattenConsecutive(2), Linear(n_hidden * 2, n_hidden, bias=False), BatchNorm1d(n_hidden), Tanh(),\n",
    "    Linear(n_hidden, vocab_size),\n",
    "])\n",
    "\n",
    "# Parameter init\n",
    "with torch.no_grad():\n",
    "  layers[-1].weight *= 0.1 # Making last layer less confident\n",
    "\n",
    "# before: [p for layer in layers for p in layer.parameters()]\n",
    "parameters = model.parameters()\n",
    "print(sum(p.nelement() for p in parameters)) # Number of parameters in total\n",
    "for p in parameters:\n",
    "  p.requires_grad = True"
   ]
  },
  {
   "cell_type": "code",
   "execution_count": 90,
   "id": "3063259a",
   "metadata": {},
   "outputs": [
    {
     "name": "stdout",
     "output_type": "stream",
     "text": [
      "torch.Size([4, 8])\n",
      "tensor([[ 0,  0,  0, 13,  9, 12,  9,  1],\n",
      "        [ 0,  0,  0,  1, 22,  1, 12, 25],\n",
      "        [ 0,  0,  0,  0,  0,  0,  0, 10],\n",
      "        [ 0,  0,  0,  0, 11,  8, 25, 14]])\n"
     ]
    }
   ],
   "source": [
    "ix = torch.randint(0, Xtr.shape[0], (4,)) # Looking again at a random batch of 4 examples\n",
    "Xb, Yb = Xtr[ix], Ytr[ix]\n",
    "logits = model(Xb)\n",
    "print(Xb.shape)\n",
    "print(Xb)"
   ]
  },
  {
   "cell_type": "code",
   "execution_count": 92,
   "id": "2281e378",
   "metadata": {},
   "outputs": [
    {
     "name": "stdout",
     "output_type": "stream",
     "text": [
      "Embedding : (4, 8, 10)\n",
      "FlattenConsecutive : (4, 4, 20)\n",
      "Linear : (4, 4, 68)\n",
      "BatchNorm1d : (4, 4, 68)\n",
      "Tanh : (4, 4, 68)\n",
      "FlattenConsecutive : (4, 2, 136)\n",
      "Linear : (4, 2, 68)\n",
      "BatchNorm1d : (4, 2, 68)\n",
      "Tanh : (4, 2, 68)\n",
      "FlattenConsecutive : (4, 136)\n",
      "Linear : (4, 68)\n",
      "BatchNorm1d : (4, 68)\n",
      "Tanh : (4, 68)\n",
      "Linear : (4, 27)\n"
     ]
    }
   ],
   "source": [
    "# This is neat, it shows the shape of the output of each layer\n",
    "for layer in model.layers:\n",
    "    print(layer.__class__.__name__, ':', tuple(layer.out.shape))"
   ]
  },
  {
   "cell_type": "markdown",
   "id": "3b35ad78",
   "metadata": {},
   "source": [
    "We now have built what was set out in the paper:<br>\n",
    "\n",
    "![](./img/convolutions_1.PNG)\n",
    "\n",
    "**But not quite.** The total receptive field size of the paper's model is $16$. We have $8$.<br>\n",
    "Basically, it's one squashing layer less.<br>\n",
    "With the above architecture, we actually shrunk `n_hidden` from $200$ down to $68$.<br>\n",
    "We now have a very different NN architecture, but roughly the same amount of parameters in total.<br>\n",
    "We can now see whether our architectural changes optimized the use of the parameter amount or not.\n",
    "\n",
    "**Let's train!**"
   ]
  },
  {
   "cell_type": "code",
   "execution_count": 93,
   "id": "ed16a7c3",
   "metadata": {},
   "outputs": [
    {
     "name": "stdout",
     "output_type": "stream",
     "text": [
      "      0/ 200000: 3.5555\n",
      "  10000/ 200000: 2.2055\n",
      "  20000/ 200000: 2.4019\n",
      "  30000/ 200000: 2.1561\n",
      "  40000/ 200000: 2.1377\n",
      "  50000/ 200000: 2.2740\n",
      "  60000/ 200000: 2.0626\n",
      "  70000/ 200000: 1.8016\n",
      "  80000/ 200000: 2.0158\n",
      "  90000/ 200000: 2.0814\n",
      " 100000/ 200000: 1.6752\n",
      " 110000/ 200000: 2.3915\n",
      " 120000/ 200000: 2.3702\n",
      " 130000/ 200000: 2.1049\n",
      " 140000/ 200000: 2.2882\n",
      " 150000/ 200000: 1.7862\n",
      " 160000/ 200000: 2.0824\n",
      " 170000/ 200000: 2.2584\n",
      " 180000/ 200000: 2.0024\n",
      " 190000/ 200000: 1.7854\n"
     ]
    }
   ],
   "source": [
    "# Same optimization as last time (written a bit differently)\n",
    "max_steps = 200000\n",
    "batch_size = 32\n",
    "lossi = []\n",
    "\n",
    "for i in range(max_steps):\n",
    "    \n",
    "    # Mini-batch construct\n",
    "    ix = torch.randint(0, Xtr.shape[0], (batch_size,))\n",
    "    Xb, Yb = Xtr[ix], Ytr[ix] # X,Y's of this batch\n",
    "    \n",
    "    # Forward-Pass\n",
    "    logits = model(Xb)\n",
    "    loss = F.cross_entropy(logits, Yb)  # Loss function\n",
    "    \n",
    "    # Backward-Pass\n",
    "    for p in parameters:\n",
    "        # Making sure that prior iteration's gradients are gone\n",
    "        p.grad = None\n",
    "    loss.backward() # This calculates the current (new) gradients\n",
    "    \n",
    "    # Update (SGD with no fluff)\n",
    "    lr = 0.1 if i < 150000 else 0.01 # Learning rate decay\n",
    "    for p in parameters:\n",
    "        p.data += -lr * p.grad\n",
    "\n",
    "    # Printing track stats every once in a while\n",
    "    if i % 10000 == 0:\n",
    "        print(f'{i:7d}/{max_steps:7d}: {loss.item():.4f}')\n",
    "    \n",
    "    # Adding current loss value to historic losses set (for later display)\n",
    "    lossi.append(loss.log10().item())\n",
    "    \n",
    "    #break # We see if this works first"
   ]
  },
  {
   "cell_type": "code",
   "execution_count": 94,
   "id": "033a8351",
   "metadata": {},
   "outputs": [
    {
     "data": {
      "image/png": "[encoded data removed]",
      "text/plain": [
       "<Figure size 640x480 with 1 Axes>"
      ]
     },
     "metadata": {},
     "output_type": "display_data"
    }
   ],
   "source": [
    "plt.plot(torch.tensor(lossi).view(-1, 1000).mean(1));"
   ]
  },
  {
   "cell_type": "code",
   "execution_count": 95,
   "id": "589726a2",
   "metadata": {},
   "outputs": [],
   "source": [
    "# Put layers into evaluation mode (needed esp. for batchnorm)\n",
    "for layer in model.layers:\n",
    "    layer.training = False"
   ]
  },
  {
   "cell_type": "code",
   "execution_count": 96,
   "id": "46c11ba2",
   "metadata": {},
   "outputs": [
    {
     "name": "stdout",
     "output_type": "stream",
     "text": [
      "train 1.9428514242172241\n",
      "val 2.0290133953094482\n"
     ]
    }
   ],
   "source": [
    "# Evaluate the loss\n",
    "# See Makemore #2. We did this before but it's refactored here for convenience:\n",
    "@torch.no_grad() # Decorator, disables gradient tracking (no \"book-keeping\" on torch's side for this function)\n",
    "def split_loss(split):\n",
    "    x, y = {\n",
    "        'train': (Xtr, Ytr),\n",
    "        'val': (Xdev, Ydev),\n",
    "        'test': (Xte, Yte),\n",
    "    }[split]\n",
    "    \n",
    "    logits = model(x)\n",
    "    \n",
    "    loss = F.cross_entropy(logits, y)\n",
    "    print(split, loss.item())\n",
    "\n",
    "split_loss('train')\n",
    "split_loss('val')"
   ]
  },
  {
   "cell_type": "markdown",
   "id": "27b52be0",
   "metadata": {},
   "source": [
    "**Performance log:**\n",
    "\n",
    "|                                              |train|val  |\n",
    "| -------------------------------------------- | --- | --- |\n",
    "| original (3 characters, 12K params)          |2.058|2.105|\n",
    "| context: 3 $\\rightarrow$ 8 (22K params)      |1.918|2.033|\n",
    "| flat $\\rightarrow$ hierarchical (22K params) |1.942|2.029|"
   ]
  },
  {
   "cell_type": "code",
   "execution_count": 97,
   "id": "700a8542",
   "metadata": {},
   "outputs": [
    {
     "name": "stdout",
     "output_type": "stream",
     "text": [
      "zhlene.\n",
      "jafar.\n",
      "aleala.\n",
      "zyanna.\n",
      "sarman.\n",
      "gidella.\n",
      "lucove.\n",
      "wilvi.\n",
      "jerediah.\n",
      "yanua.\n",
      "keerthaus.\n",
      "bryrio.\n",
      "loursten.\n",
      "aahli.\n",
      "janaisha.\n",
      "leynn.\n",
      "zahmia.\n",
      "ellam.\n",
      "breck.\n",
      "kendrix.\n"
     ]
    }
   ],
   "source": [
    "# Sample from the model\n",
    "for _ in range(20):\n",
    "    out = []\n",
    "    context = [0] * block_size # initialize with all zeros (representing the special '.' token)\n",
    "    while True:\n",
    "      # Forward pass though the neural net\n",
    "      logits = model(torch.tensor([context]))\n",
    "      probs = F.softmax(logits, dim=1)\n",
    "      # Sample from the distribution\n",
    "      ix = torch.multinomial(probs, num_samples=1).item()\n",
    "      # Shift the context window and track the samples\n",
    "      context = context[1:] + [ix]\n",
    "      out.append(ix)\n",
    "      # As soon as we sample the special '.' token, break\n",
    "      if ix == 0:\n",
    "        break\n",
    "    \n",
    "    # Decode and print the generated words (Inferences)\n",
    "    print(''.join(itos[i] for i in out))"
   ]
  },
  {
   "cell_type": "markdown",
   "id": "1781ed69",
   "metadata": {},
   "source": [
    "## BatchNorm Bug?!\n",
    "\n",
    "We still have this curious bug with our `BatchNorm1d` layer.<br>\n",
    "It runs, but **does it even do the right thing?**<br><br>\n",
    "Let's see:"
   ]
  },
  {
   "cell_type": "code",
   "execution_count": 98,
   "id": "0aa8e50d",
   "metadata": {},
   "outputs": [
    {
     "name": "stdout",
     "output_type": "stream",
     "text": [
      "Embedding : (1, 8, 10)\n",
      "FlattenConsecutive : (1, 4, 20)\n",
      "Linear : (1, 4, 68)\n",
      "BatchNorm1d : (1, 4, 68)\n",
      "Tanh : (1, 4, 68)\n",
      "FlattenConsecutive : (1, 2, 136)\n",
      "Linear : (1, 2, 68)\n",
      "BatchNorm1d : (1, 2, 68)\n",
      "Tanh : (1, 2, 68)\n",
      "FlattenConsecutive : (1, 136)\n",
      "Linear : (1, 68)\n",
      "BatchNorm1d : (1, 68)\n",
      "Tanh : (1, 68)\n",
      "Linear : (1, 27)\n"
     ]
    }
   ],
   "source": [
    "for layer in model.layers:\n",
    "    print(layer.__class__.__name__, ':', tuple(layer.out.shape))"
   ]
  },
  {
   "cell_type": "markdown",
   "id": "a9e82f42",
   "metadata": {},
   "source": [
    "The first `BatchNorm1d` receives a $[32, 4, 68]$ input.<br>\n",
    "This is three-dimensional. **But our current `BatchNorm1d` only accounts for 2D inputs.**\n",
    "\n",
    "**What? How did we get an output then anyway?**\n",
    "\n",
    "Everything broadcasts properly across the model, but the `BatchNorm1d` layer just does ... something. *Anything.*<br>\n",
    "We still have a learning effect that somewhat compensates this rogue behavior, though.<br>\n",
    "This is what keeps `BatchNorm1d` seem to run smoothly. **But it doesn't.**\n",
    "\n",
    "**Let's think our way through BatchNorm1d:**"
   ]
  },
  {
   "cell_type": "code",
   "execution_count": 117,
   "id": "90473e8f",
   "metadata": {},
   "outputs": [
    {
     "name": "stdout",
     "output_type": "stream",
     "text": [
      "torch.Size([32, 4, 68])\n"
     ]
    }
   ],
   "source": [
    "# Our faulty BatchNorm1d works like this:\n",
    "e = torch.randn(32, 4, 68)      # 32 examples, 4 characters, 68 embeddings\n",
    "emean = e.mean(0, keepdim=True) # (1, 4, 68); mean ONLY over the very first dimension\n",
    "evar = e.var(0, keepdim=True)   # (1, 4, 68); variance ONLY over the very first dimension\n",
    "ehat = (e-emean) / torch.sqrt(evar + 1e-5) # (32, 4, 68); normalize over the first dimension\n",
    "print(ehat.shape)"
   ]
  },
  {
   "cell_type": "code",
   "execution_count": 118,
   "id": "460d4642",
   "metadata": {},
   "outputs": [
    {
     "data": {
      "text/plain": [
       "torch.Size([1, 4, 68])"
      ]
     },
     "execution_count": 118,
     "metadata": {},
     "output_type": "execute_result"
    }
   ],
   "source": [
    "model.layers[3].running_mean.shape"
   ]
  },
  {
   "cell_type": "markdown",
   "id": "37144f68",
   "metadata": {},
   "source": [
    "The means are only taken over $32$ inputs of the first dimension. Each input is now itself a vector $[4, 68]$. *That's the point.*<br>\n",
    "The `running_mean` this way becomes $[1, 4, 68]$ instead of the expected $68$.<br>\n",
    "This tells us that the current implementation 'batch-normalizes' in parallel over $4$ times $68$ channels,<br>\n",
    "instead of only $68$ channels total.<br>\n",
    "\n",
    "> We normalize over groups of character embeddings, instead of over the character embeddings themselves.<br>\n",
    "> Small groups, so admittedly it's not too bad, but it still distorts the normalization process.\n",
    "\n",
    "So, we actually want to average over the $32\\times 4$ embeddings, each with $68$ channels.<br>\n",
    "\n",
    "> We want the $68$ channel wide average of all the embeddings.\n",
    "\n",
    "To achieve that, we can do something like this:"
   ]
  },
  {
   "cell_type": "code",
   "execution_count": 135,
   "id": "d9c88427",
   "metadata": {},
   "outputs": [
    {
     "name": "stdout",
     "output_type": "stream",
     "text": [
      "torch.Size([1, 4, 68])\n",
      "torch.Size([1, 1, 68])\n"
     ]
    }
   ],
   "source": [
    "# Just to get an idea of what's going on:\n",
    "emean_alt = e.mean(0, keepdim=True) # Mean across the batch dimension\n",
    "print(emean_alt.shape)\n",
    "emean_alt = emean_alt.mean(1, keepdim=True) # Mean across the character dimension\n",
    "print(emean_alt.shape) # That looks good, but can we do that better?"
   ]
  },
  {
   "cell_type": "code",
   "execution_count": 136,
   "id": "64094087",
   "metadata": {},
   "outputs": [
    {
     "name": "stdout",
     "output_type": "stream",
     "text": [
      "torch.Size([32, 4, 68])\n"
     ]
    }
   ],
   "source": [
    "e = torch.randn(32, 4, 68)\n",
    "emean = e.mean((0,1), keepdim=True)        # 1, 4, 68 ; mean ONLY over the very first dimension\n",
    "evar = e.var((0,1), keepdim=True)          # 1, 4, 68\n",
    "ehat = (e-emean) / torch.sqrt(evar + 1e-5) # 32, 4, 68\n",
    "\n",
    "print(ehat.shape)"
   ]
  },
  {
   "cell_type": "code",
   "execution_count": 143,
   "id": "ed9b678a",
   "metadata": {},
   "outputs": [
    {
     "name": "stdout",
     "output_type": "stream",
     "text": [
      "torch.Size([1, 1, 68])\n",
      "True\n"
     ]
    }
   ],
   "source": [
    "print(emean.shape)                             # This is what we want\n",
    "print((emean.all() == emean_alt.all()).item()) # We get the same result, but much more efficiently"
   ]
  },
  {
   "cell_type": "markdown",
   "id": "a6143f61",
   "metadata": {},
   "source": [
    "Now that we theoretically addressed the 'wrong mean' problem,<br>\n",
    "let's add a little bit of logic to the `BatchNorm1d` layer to address it in practice:"
   ]
  },
  {
   "cell_type": "code",
   "execution_count": 144,
   "id": "b4544ee0",
   "metadata": {},
   "outputs": [],
   "source": [
    "# Mimicks torch.nn.linear\n",
    "class Linear:\n",
    "  \n",
    "  def __init__(self, fan_in, fan_out, bias=True):\n",
    "    self.weight = torch.randn((fan_in, fan_out)) / fan_in**0.5  # Kaiming init\n",
    "    self.bias = torch.zeros(fan_out) if bias else None\n",
    "  \n",
    "  # Performs a forward pass if called (syntax: l = Linear(x))\n",
    "  def __call__(self, x):\n",
    "    self.out = x @ self.weight\n",
    "    if self.bias is not None:\n",
    "      self.out += self.bias\n",
    "    return self.out\n",
    "  \n",
    "  def parameters(self):\n",
    "    return [self.weight] + ([] if self.bias is None else [self.bias])\n",
    "\n",
    "# -----------------------------------------------------------------------------------------------\n",
    "\n",
    "# NOT ANYMORE Mimicking torch.nn.batchnorm1d\n",
    "class BatchNorm1d:\n",
    "  \n",
    "  def __init__(self, dim, eps=1e-5, momentum=0.1):\n",
    "    self.eps = eps\n",
    "    self.momentum = momentum\n",
    "    # Batchnorm1d behaves differently during training and production\n",
    "    self.training = True\n",
    "    # Parameters (trained with backprop)\n",
    "    self.gamma = torch.ones(dim)\n",
    "    self.beta = torch.zeros(dim)\n",
    "    # Buffers (trained with a running 'momentum update' outside backprop)\n",
    "    self.running_mean = torch.zeros(dim)\n",
    "    self.running_var = torch.ones(dim)\n",
    "  \n",
    "  def __call__(self, x):\n",
    "    # Calculate the forward pass\n",
    "    if self.training:\n",
    "      # THIS IS THE NEW PART! IT BREAKS WITH PYTORCH LINGUA\n",
    "      # Addressing the 'wrong mean' problem from above\n",
    "      if x.ndim == 2:\n",
    "        dim = 0 # average just over the batch dimension\n",
    "      elif x.ndim == 3:\n",
    "        dim = (0,1) # average over both the batch and character dimensions\n",
    "      xmean = x.mean(dim, keepdim=True) # Batchnorm mean\n",
    "      xvar = x.var(dim, keepdim=True) # Batchnorm variance\n",
    "    else:\n",
    "      xmean = self.running_mean\n",
    "      xvar = self.running_var\n",
    "    xhat = (x - xmean) / torch.sqrt(xvar + self.eps) # Normalize to unit variance\n",
    "    self.out = self.gamma * xhat + self.beta\n",
    "    # Update the buffers\n",
    "    if self.training:\n",
    "      with torch.no_grad():\n",
    "        self.running_mean = (1 - self.momentum) * self.running_mean + self.momentum * xmean\n",
    "        self.running_var = (1 - self.momentum) * self.running_var + self.momentum * xvar\n",
    "    return self.out\n",
    "  \n",
    "  def parameters(self):\n",
    "    return [self.gamma, self.beta]\n",
    "\n",
    "# -----------------------------------------------------------------------------------------------\n",
    "\n",
    "# Mimicks torch.nn.tanh\n",
    "class Tanh:\n",
    "  def __call__(self, x):\n",
    "    self.out = torch.tanh(x)\n",
    "    return self.out\n",
    "\n",
    "  def parameters(self):\n",
    "    return []\n",
    "\n",
    "# -----------------------------------------------------------------------------------------------\n",
    "\n",
    "# Mimicks torch.nn.embedding, does the indexing operation\n",
    "class Embedding:\n",
    "  \n",
    "  def __init__(self, num_embeddings, embedding_dim):\n",
    "    # What was previously C (lookup table) is now the weight in this layer\n",
    "    self.weight = torch.randn((num_embeddings, embedding_dim))\n",
    "    \n",
    "  def __call__(self, IX):\n",
    "    self.out = self.weight[IX]\n",
    "    return self.out\n",
    "  \n",
    "  def parameters(self):\n",
    "    return [self.weight]\n",
    "\n",
    "# -----------------------------------------------------------------------------------------------\n",
    "\n",
    "# Modified from torch.nn.flatten\n",
    "class FlattenConsecutive:\n",
    "    \n",
    "  def __init__(self, n):  # n is the number of consecutive elements to be concatenated\n",
    "    self.n = n\n",
    "    \n",
    "  def __call__(self, x):\n",
    "    B, T, C = x.shape # 4, 8, 10 in example before\n",
    "    x = x.view(B, T//self.n, C*self.n) # Flattening in groups, now 4, 4, 20 for n=2 characters\n",
    "    if x.shape[1] == 1:\n",
    "        x = x.squeeze(1) # Takes out the dimension 1, as it only has value 1 (irrelevant)\n",
    "    self.out = x\n",
    "    return self.out\n",
    "  \n",
    "  def parameters(self):\n",
    "    return []\n",
    "\n",
    "# -----------------------------------------------------------------------------------------------\n",
    "\n",
    "# Mimicks torch.nn.Sequential\n",
    "class Sequential:\n",
    "  \n",
    "  def __init__(self, layers):\n",
    "    self.layers = layers      # This is basically the same list structure as before\n",
    "  \n",
    "  def __call__(self, x):      # Simply pass input x through every layer in self.layers\n",
    "    for layer in self.layers:\n",
    "      x = layer(x)\n",
    "    self.out = x\n",
    "    return self.out\n",
    "  \n",
    "  def parameters(self):\n",
    "    # get parameters of all layers, stretch them out into one list\n",
    "    return [p for layer in self.layers for p in layer.parameters()]"
   ]
  },
  {
   "cell_type": "markdown",
   "id": "4709ae93",
   "metadata": {},
   "source": [
    "With the sneaky bug in the `BatchNorm1d` layer addressed and fixed, we can have a look at how the model performs now:"
   ]
  },
  {
   "cell_type": "code",
   "execution_count": 147,
   "id": "06c1dec8",
   "metadata": {},
   "outputs": [],
   "source": [
    "torch.manual_seed(42); # For reproducibility"
   ]
  },
  {
   "cell_type": "code",
   "execution_count": 149,
   "id": "5714a10d",
   "metadata": {},
   "outputs": [
    {
     "name": "stdout",
     "output_type": "stream",
     "text": [
      "22397\n"
     ]
    }
   ],
   "source": [
    "n_embd   = 10 # Dimensionality of the character embedding vectors\n",
    "n_hidden = 68 # Number of neurons in the hidden layer of the MLP\n",
    "\n",
    "# This sets up the actual network's design\n",
    "model = Sequential([\n",
    "    Embedding(vocab_size, n_embd),   # Previously C = torch.randn((vocab_size, n_embd))\n",
    "    # The new layer at work now (block_size was 8 before)\n",
    "    FlattenConsecutive(2), Linear(n_embd * 2, n_hidden, bias=False), BatchNorm1d(n_hidden), Tanh(),\n",
    "    FlattenConsecutive(2), Linear(n_hidden * 2, n_hidden, bias=False), BatchNorm1d(n_hidden), Tanh(),\n",
    "    FlattenConsecutive(2), Linear(n_hidden * 2, n_hidden, bias=False), BatchNorm1d(n_hidden), Tanh(),\n",
    "    Linear(n_hidden, vocab_size),\n",
    "])\n",
    "\n",
    "# Parameter init\n",
    "with torch.no_grad():\n",
    "  layers[-1].weight *= 0.1 # Shrink output layer weights to avoid saturation\n",
    "\n",
    "# before: [p for layer in layers for p in layer.parameters()]\n",
    "parameters = model.parameters()\n",
    "print(sum(p.nelement() for p in parameters)) # Number of parameters in total\n",
    "for p in parameters:\n",
    "  p.requires_grad = True"
   ]
  },
  {
   "cell_type": "code",
   "execution_count": 155,
   "id": "26ddea9b",
   "metadata": {},
   "outputs": [
    {
     "name": "stdout",
     "output_type": "stream",
     "text": [
      "      0/ 200000: 3.3012\n"
     ]
    }
   ],
   "source": [
    "# Training Sanity Check\n",
    "# Same optimization as last time (written a bit differently)\n",
    "max_steps = 200000\n",
    "batch_size = 32\n",
    "lossi = []\n",
    "\n",
    "for i in range(max_steps):\n",
    "    \n",
    "    # Mini-batch construct\n",
    "    ix = torch.randint(0, Xtr.shape[0], (batch_size,))\n",
    "    Xb, Yb = Xtr[ix], Ytr[ix] # X,Y's of this batch\n",
    "    \n",
    "    # Forward-Pass\n",
    "    logits = model(Xb)\n",
    "    loss = F.cross_entropy(logits, Yb)  # Loss function\n",
    "    \n",
    "    # Backward-Pass\n",
    "    for p in parameters:\n",
    "        # Making sure that prior iteration's gradients are gone\n",
    "        p.grad = None\n",
    "    loss.backward() # This calculates the current (new) gradients\n",
    "    \n",
    "    # Update (SGD with no fluff)\n",
    "    lr = 0.1 if i < 150000 else 0.01 # Learning rate decay\n",
    "    for p in parameters:\n",
    "        p.data += -lr * p.grad\n",
    "\n",
    "    # Printing track stats every once in a while\n",
    "    if i % 10000 == 0:\n",
    "        print(f'{i:7d}/{max_steps:7d}: {loss.item():.4f}')\n",
    "    \n",
    "    # Adding current loss value to historic losses set (for later display)\n",
    "    lossi.append(loss.log10().item())\n",
    "    \n",
    "    break # We see if this works first"
   ]
  },
  {
   "cell_type": "code",
   "execution_count": 156,
   "id": "e6c17ea9",
   "metadata": {},
   "outputs": [
    {
     "data": {
      "text/plain": [
       "torch.Size([1, 1, 68])"
      ]
     },
     "execution_count": 156,
     "metadata": {},
     "output_type": "execute_result"
    }
   ],
   "source": [
    "model.layers[3].running_mean.shape # Just like we wanted (1, 1, 68)"
   ]
  },
  {
   "cell_type": "code",
   "execution_count": 157,
   "id": "6ddd06ff",
   "metadata": {},
   "outputs": [
    {
     "name": "stdout",
     "output_type": "stream",
     "text": [
      "Embedding : (32, 8, 10)\n",
      "FlattenConsecutive : (32, 4, 20)\n",
      "Linear : (32, 4, 68)\n",
      "BatchNorm1d : (32, 4, 68)\n",
      "Tanh : (32, 4, 68)\n",
      "FlattenConsecutive : (32, 2, 136)\n",
      "Linear : (32, 2, 68)\n",
      "BatchNorm1d : (32, 2, 68)\n",
      "Tanh : (32, 2, 68)\n",
      "FlattenConsecutive : (32, 136)\n",
      "Linear : (32, 68)\n",
      "BatchNorm1d : (32, 68)\n",
      "Tanh : (32, 68)\n",
      "Linear : (32, 27)\n"
     ]
    }
   ],
   "source": [
    "for layer in model.layers:\n",
    "    print(layer.__class__.__name__, ':', tuple(layer.out.shape))"
   ]
  },
  {
   "cell_type": "code",
   "execution_count": 158,
   "id": "80be5411",
   "metadata": {},
   "outputs": [
    {
     "name": "stdout",
     "output_type": "stream",
     "text": [
      "      0/ 200000: 3.2207\n",
      "  10000/ 200000: 2.1758\n",
      "  20000/ 200000: 2.4535\n",
      "  30000/ 200000: 2.0300\n",
      "  40000/ 200000: 2.0540\n",
      "  50000/ 200000: 2.2182\n",
      "  60000/ 200000: 2.1820\n",
      "  70000/ 200000: 1.9922\n",
      "  80000/ 200000: 2.2610\n",
      "  90000/ 200000: 1.5608\n",
      " 100000/ 200000: 2.3285\n",
      " 110000/ 200000: 1.6706\n",
      " 120000/ 200000: 2.0902\n",
      " 130000/ 200000: 2.3220\n",
      " 140000/ 200000: 1.8958\n",
      " 150000/ 200000: 1.5260\n",
      " 160000/ 200000: 2.2711\n",
      " 170000/ 200000: 1.8425\n",
      " 180000/ 200000: 2.0662\n",
      " 190000/ 200000: 2.0791\n"
     ]
    }
   ],
   "source": [
    "# Full Training\n",
    "# Same optimization as last time (written a bit differently)\n",
    "max_steps = 200000\n",
    "batch_size = 32\n",
    "lossi = []\n",
    "\n",
    "for i in range(max_steps):\n",
    "    \n",
    "    # Mini-batch construct\n",
    "    ix = torch.randint(0, Xtr.shape[0], (batch_size,))\n",
    "    Xb, Yb = Xtr[ix], Ytr[ix] # X,Y's of this batch\n",
    "    \n",
    "    # Forward-Pass\n",
    "    logits = model(Xb)\n",
    "    loss = F.cross_entropy(logits, Yb)  # Loss function\n",
    "    \n",
    "    # Backward-Pass\n",
    "    for p in parameters:\n",
    "        # Making sure that prior iteration's gradients are gone\n",
    "        p.grad = None\n",
    "    loss.backward() # This calculates the current (new) gradients\n",
    "    \n",
    "    # Update (SGD with no fluff)\n",
    "    lr = 0.1 if i < 150000 else 0.01 # Learning rate decay\n",
    "    for p in parameters:\n",
    "        p.data += -lr * p.grad\n",
    "\n",
    "    # Printing track stats every once in a while\n",
    "    if i % 10000 == 0:\n",
    "        print(f'{i:7d}/{max_steps:7d}: {loss.item():.4f}')\n",
    "    \n",
    "    # Adding current loss value to historic losses set (for later display)\n",
    "    lossi.append(loss.log10().item())\n",
    "    \n",
    "    #break # We see if this works first"
   ]
  },
  {
   "cell_type": "code",
   "execution_count": 159,
   "id": "c321036b",
   "metadata": {},
   "outputs": [
    {
     "data": {
      "image/png": "[encoded data removed]",
      "text/plain": [
       "<Figure size 640x480 with 1 Axes>"
      ]
     },
     "metadata": {},
     "output_type": "display_data"
    }
   ],
   "source": [
    "plt.plot(torch.tensor(lossi).view(-1, 1000).mean(1));"
   ]
  },
  {
   "cell_type": "code",
   "execution_count": 160,
   "id": "50dad873",
   "metadata": {},
   "outputs": [],
   "source": [
    "# Put layers into evaluation mode (needed esp. for batchnorm)\n",
    "for layer in model.layers:\n",
    "    layer.training = False"
   ]
  },
  {
   "cell_type": "code",
   "execution_count": 161,
   "id": "9f2951b1",
   "metadata": {},
   "outputs": [
    {
     "name": "stdout",
     "output_type": "stream",
     "text": [
      "train 1.9114720821380615\n",
      "val 2.019570827484131\n"
     ]
    }
   ],
   "source": [
    "# Evaluate the loss\n",
    "# See Makemore #2. We did this before but it's refactored here for convenience:\n",
    "@torch.no_grad() # Decorator, disables gradient tracking (no \"book-keeping\" on torch's side for this function)\n",
    "def split_loss(split):\n",
    "    x, y = {\n",
    "        'train': (Xtr, Ytr),\n",
    "        'val': (Xdev, Ydev),\n",
    "        'test': (Xte, Yte),\n",
    "    }[split]   # That's a switch!\n",
    "    \n",
    "    logits = model(x)\n",
    "    \n",
    "    loss = F.cross_entropy(logits, y)\n",
    "    print(split, loss.item())\n",
    "\n",
    "split_loss('train')\n",
    "split_loss('val')"
   ]
  },
  {
   "cell_type": "markdown",
   "id": "56c9c8da",
   "metadata": {},
   "source": [
    "**Performance log:**\n",
    "\n",
    "|                                              |train|val  |\n",
    "| -------------------------------------------- | --- | --- |\n",
    "| original (3 characters, 12K params)          |2.058|2.105|\n",
    "| context: 3 $\\rightarrow$ 8 (22K params)      |1.918|2.033|\n",
    "| flat $\\rightarrow$ hierarchical (22K params) |1.942|2.029|\n",
    "| fix bug in batchnorm (22K params)            |1.911|2.019|"
   ]
  },
  {
   "cell_type": "code",
   "execution_count": 162,
   "id": "68e034f6",
   "metadata": {},
   "outputs": [
    {
     "name": "stdout",
     "output_type": "stream",
     "text": [
      "jaspinger.\n",
      "kelly.\n",
      "anna.\n",
      "milonna.\n",
      "bankin.\n",
      "darielle.\n",
      "denesse.\n",
      "julian.\n",
      "braya.\n",
      "zieha.\n",
      "ahmarice.\n",
      "aniy.\n",
      "aren.\n",
      "ieroseb.\n",
      "shalees.\n",
      "aryabah.\n",
      "jolana.\n",
      "olenity.\n",
      "nechlea.\n",
      "thivae.\n"
     ]
    }
   ],
   "source": [
    "# Sample from the model\n",
    "for _ in range(20):\n",
    "    \n",
    "    out = []\n",
    "    context = [0] * block_size # initialize with all ...\n",
    "    while True:\n",
    "      # Forward pass though the neural net\n",
    "      logits = model(torch.tensor([context]))\n",
    "      probs = F.softmax(logits, dim=1)\n",
    "      # Sample from the distribution\n",
    "      ix = torch.multinomial(probs, num_samples=1).item()\n",
    "      # Shift the context window and track the samples\n",
    "      context = context[1:] + [ix]\n",
    "      out.append(ix)\n",
    "      # As soon as we sample the special '.' token, break\n",
    "      if ix == 0:\n",
    "        break\n",
    "    \n",
    "    # Decode and print the generated words (Inferences)\n",
    "    print(''.join(itos[i] for i in out))"
   ]
  },
  {
   "cell_type": "markdown",
   "id": "3bb530a2",
   "metadata": {},
   "source": [
    "## Going Wider\n",
    "\n",
    "We can now increase the network's hidden layer sizes, as the components are checked for bugs."
   ]
  },
  {
   "cell_type": "code",
   "execution_count": 166,
   "id": "3500b1ff",
   "metadata": {},
   "outputs": [],
   "source": [
    "torch.manual_seed(42); # For reproducibility"
   ]
  },
  {
   "cell_type": "code",
   "execution_count": 167,
   "id": "13f82b7d",
   "metadata": {},
   "outputs": [
    {
     "name": "stdout",
     "output_type": "stream",
     "text": [
      "76579\n"
     ]
    }
   ],
   "source": [
    "n_embd = 24    # Dimensionality of the character embedding vectors\n",
    "n_hidden = 128 # Number of neurons in the hidden layer of the MLP\n",
    "\n",
    "# This sets up the actual network's design\n",
    "model = Sequential([\n",
    "    Embedding(vocab_size, n_embd),   # Previously C = torch.randn((vocab_size, n_embd))\n",
    "    # The new layer at work now (block_size was 8 before)\n",
    "    FlattenConsecutive(2), Linear(n_embd * 2, n_hidden, bias=False), BatchNorm1d(n_hidden), Tanh(),\n",
    "    FlattenConsecutive(2), Linear(n_hidden * 2, n_hidden, bias=False), BatchNorm1d(n_hidden), Tanh(),\n",
    "    FlattenConsecutive(2), Linear(n_hidden * 2, n_hidden, bias=False), BatchNorm1d(n_hidden), Tanh(),\n",
    "    Linear(n_hidden, vocab_size),\n",
    "])\n",
    "\n",
    "# Parameter init\n",
    "with torch.no_grad():\n",
    "  layers[-1].weight *= 0.1 # Making last layer less confident\n",
    "\n",
    "# before: [p for layer in layers for p in layer.parameters()]\n",
    "parameters = model.parameters()\n",
    "print(sum(p.nelement() for p in parameters)) # Number of parameters in total\n",
    "for p in parameters:\n",
    "  p.requires_grad = True"
   ]
  },
  {
   "cell_type": "code",
   "execution_count": 168,
   "id": "5f1eb983",
   "metadata": {},
   "outputs": [
    {
     "name": "stdout",
     "output_type": "stream",
     "text": [
      "      0/ 200000: 3.6596\n",
      "  10000/ 200000: 2.0551\n",
      "  20000/ 200000: 2.0342\n",
      "  30000/ 200000: 2.6254\n",
      "  40000/ 200000: 2.1558\n",
      "  50000/ 200000: 1.7977\n",
      "  60000/ 200000: 2.2949\n",
      "  70000/ 200000: 1.8409\n",
      "  80000/ 200000: 1.6752\n",
      "  90000/ 200000: 2.1980\n",
      " 100000/ 200000: 1.9085\n",
      " 110000/ 200000: 2.0375\n",
      " 120000/ 200000: 1.7248\n",
      " 130000/ 200000: 1.8603\n",
      " 140000/ 200000: 1.8157\n",
      " 150000/ 200000: 1.9445\n",
      " 160000/ 200000: 1.7933\n",
      " 170000/ 200000: 1.6338\n",
      " 180000/ 200000: 1.5115\n",
      " 190000/ 200000: 1.8932\n"
     ]
    }
   ],
   "source": [
    "# Full Training\n",
    "# Same optimization as last time (written a bit differently)\n",
    "max_steps = 200000\n",
    "batch_size = 32\n",
    "lossi = []\n",
    "\n",
    "for i in range(max_steps):\n",
    "    \n",
    "    # Mini-batch construct\n",
    "    ix = torch.randint(0, Xtr.shape[0], (batch_size,))\n",
    "    Xb, Yb = Xtr[ix], Ytr[ix] # X,Y's of this batch\n",
    "    \n",
    "    # Forward-Pass\n",
    "    logits = model(Xb)\n",
    "    loss = F.cross_entropy(logits, Yb)  # Loss function\n",
    "    \n",
    "    # Backward-Pass\n",
    "    for p in parameters:\n",
    "        # Making sure that prior iteration's gradients are gone\n",
    "        p.grad = None\n",
    "    loss.backward() # This calculates the current (new) gradients\n",
    "    \n",
    "    # Update (SGD with no fluff)\n",
    "    lr = 0.1 if i < 150000 else 0.01 # Learning rate decay\n",
    "    for p in parameters:\n",
    "        p.data += -lr * p.grad\n",
    "\n",
    "    # Printing track stats every once in a while\n",
    "    if i % 10000 == 0:\n",
    "        print(f'{i:7d}/{max_steps:7d}: {loss.item():.4f}')\n",
    "    \n",
    "    # Adding current loss value to historic losses set (for later display)\n",
    "    lossi.append(loss.log10().item())\n",
    "    \n",
    "    #break # We see if this works first"
   ]
  },
  {
   "cell_type": "code",
   "execution_count": 169,
   "id": "b8f11460",
   "metadata": {},
   "outputs": [
    {
     "data": {
      "image/png": "[encoded data removed]",
      "text/plain": [
       "<Figure size 640x480 with 1 Axes>"
      ]
     },
     "metadata": {},
     "output_type": "display_data"
    }
   ],
   "source": [
    "plt.plot(torch.tensor(lossi).view(-1, 1000).mean(1));"
   ]
  },
  {
   "cell_type": "code",
   "execution_count": 170,
   "id": "0844da6a",
   "metadata": {},
   "outputs": [],
   "source": [
    "# Put layers into evaluation mode (needed esp. for batchnorm)\n",
    "for layer in model.layers:\n",
    "    layer.training = False"
   ]
  },
  {
   "cell_type": "code",
   "execution_count": 171,
   "id": "28bf7e11",
   "metadata": {},
   "outputs": [
    {
     "name": "stdout",
     "output_type": "stream",
     "text": [
      "train 1.7686810493469238\n",
      "val 1.9930694103240967\n"
     ]
    }
   ],
   "source": [
    "# Evaluate the loss\n",
    "# See Makemore #2. We did this before but it's refactored here for convenience:\n",
    "@torch.no_grad() # Decorator, disables gradient tracking (no \"book-keeping\" on torch's side for this function)\n",
    "def split_loss(split):\n",
    "    x, y = {\n",
    "        'train': (Xtr, Ytr),\n",
    "        'val': (Xdev, Ydev),\n",
    "        'test': (Xte, Yte),\n",
    "    }[split]   # That's a switch!\n",
    "    \n",
    "    logits = model(x)\n",
    "    \n",
    "    loss = F.cross_entropy(logits, y)\n",
    "    print(split, loss.item())\n",
    "\n",
    "split_loss('train')\n",
    "split_loss('val')"
   ]
  },
  {
   "cell_type": "markdown",
   "id": "961d265e",
   "metadata": {},
   "source": [
    "**Performance log:**\n",
    "\n",
    "|                                              |train|val  |\n",
    "| -------------------------------------------- | --- | --- |\n",
    "| original (3 characters, 12K params)          |2.058|2.105|\n",
    "| context: 3 $\\rightarrow$ 8 (22K params)      |1.918|2.033|\n",
    "| flat $\\rightarrow$ hierarchical (22K params) |1.942|2.029|\n",
    "| fix bug in batchnorm (22K params)            |1.911|2.019|\n",
    "| scale up the network (76K params)            |1.769|1.993|"
   ]
  },
  {
   "cell_type": "code",
   "execution_count": 172,
   "id": "52211f08",
   "metadata": {},
   "outputs": [
    {
     "name": "stdout",
     "output_type": "stream",
     "text": [
      "apoljwah.\n",
      "tayone.\n",
      "jossadette.\n",
      "helejwa.\n",
      "jamyah.\n",
      "abrsei.\n",
      "loge.\n",
      "brennet.\n",
      "blayah.\n",
      "aragras.\n",
      "anny.\n",
      "annayvi.\n",
      "aurah.\n",
      "jayce.\n",
      "nodine.\n",
      "remit.\n",
      "dniya.\n",
      "ganiyla.\n",
      "demary.\n",
      "anaya.\n"
     ]
    }
   ],
   "source": [
    "# Sample from the model\n",
    "for _ in range(20):\n",
    "    \n",
    "    out = []\n",
    "    context = [0] * block_size # initialize with all ...\n",
    "    while True:\n",
    "      # Forward pass though the neural net\n",
    "      logits = model(torch.tensor([context]))\n",
    "      probs = F.softmax(logits, dim=1)\n",
    "      # Sample from the distribution\n",
    "      ix = torch.multinomial(probs, num_samples=1).item()\n",
    "      # Shift the context window and track the samples\n",
    "      context = context[1:] + [ix]\n",
    "      out.append(ix)\n",
    "      # As soon as we sample the special '.' token, break\n",
    "      if ix == 0:\n",
    "        break\n",
    "    \n",
    "    # Decode and print the generated words (Inferences)\n",
    "    print(''.join(itos[i] for i in out))"
   ]
  },
  {
   "cell_type": "markdown",
   "id": "2a7aae9c",
   "metadata": {},
   "source": [
    "Normally, you would look deeply at both training loss and validation loss during model optimization.<br>\n",
    "We didn't do that, just taking the graph with the training loss as some sort of guide was sufficient for our purposes.<br>\n",
    "Technically, we now implemented the method laid out in the [WaveNet](https://arxiv.org/abs/1609.03499) paper.\n",
    "\n",
    "You can name what we just did by its more familiar name: **Simple 1D convolutions.** \n",
    "\n",
    "![](https://media.tenor.com/Vr9P0tRw8QIAAAAM/look-holy.gif)"
   ]
  },
  {
   "cell_type": "markdown",
   "id": "4b0e086b",
   "metadata": {},
   "source": [
    "## Development Process of Deep Neural Networks\n",
    "\n",
    "1. We spent a lot of time in the documentation page of [PyTorch](https://pytorch.org/docs/stable/nn.html) (actually, this documentation is not that good)\n",
    "2. There's a lot of gymnastics around these multidimensional arrays we trickle through a model (3D, 2D, what input shapes, what output shapes, what hidden traps)\n",
    "3. Prototyping shapes and layers in Jupyter notebooks, put VS Code and Jupyter Notebook on the side\n",
    "\n",
    "### Rough Roadmap\n",
    "\n",
    "We'll consider using the 'real' `torch.nn` to be an unlocked achievement from now on.<br>\n",
    "We know what it's doing in complex enough terms. **RNNs and LSTMs will follow.**\n",
    "\n",
    "### Challenge for now\n",
    "\n",
    "Beat the $1.993$ validation loss of the last model through changing the model and/or its parameters."
   ]
  },
  {
   "cell_type": "code",
   "execution_count": 175,
   "id": "1efeaf1e",
   "metadata": {},
   "outputs": [
    {
     "name": "stdout",
     "output_type": "stream",
     "text": [
      "77145\n"
     ]
    }
   ],
   "source": [
    "n_embd = 26    # RAISED Dimensionality of the character embedding vectors\n",
    "n_hidden = 128 # Number of neurons in the hidden layer of the MLP\n",
    "\n",
    "# This sets up the actual network's design\n",
    "model = Sequential([\n",
    "    Embedding(vocab_size, n_embd),   # Previously C = torch.randn((vocab_size, n_embd))\n",
    "    # The new layer at work now (block_size was 8 before)\n",
    "    FlattenConsecutive(2), Linear(n_embd * 2, n_hidden, bias=False), BatchNorm1d(n_hidden), Tanh(),\n",
    "    FlattenConsecutive(2), Linear(n_hidden * 2, n_hidden, bias=False), BatchNorm1d(n_hidden), Tanh(),\n",
    "    FlattenConsecutive(2), Linear(n_hidden * 2, n_hidden, bias=False), BatchNorm1d(n_hidden), Tanh(),\n",
    "    Linear(n_hidden, vocab_size),\n",
    "])\n",
    "\n",
    "# Parameter init\n",
    "with torch.no_grad():\n",
    "  layers[-1].weight *= 0.1 # Making last layer less confident\n",
    "\n",
    "# before: [p for layer in layers for p in layer.parameters()]\n",
    "parameters = model.parameters()\n",
    "print(sum(p.nelement() for p in parameters)) # Number of parameters in total\n",
    "for p in parameters:\n",
    "  p.requires_grad = True"
   ]
  },
  {
   "cell_type": "code",
   "execution_count": 176,
   "id": "b4f29a7d",
   "metadata": {},
   "outputs": [
    {
     "name": "stdout",
     "output_type": "stream",
     "text": [
      "      0/ 200000: 3.3710\n",
      "  10000/ 200000: 2.2575\n",
      "  20000/ 200000: 2.4482\n",
      "  30000/ 200000: 1.9136\n",
      "  40000/ 200000: 2.3482\n",
      "  50000/ 200000: 1.9565\n",
      "  60000/ 200000: 1.8290\n",
      "  70000/ 200000: 1.7270\n",
      "  80000/ 200000: 1.8911\n",
      "  90000/ 200000: 1.6795\n",
      " 100000/ 200000: 2.0539\n",
      " 110000/ 200000: 2.2396\n",
      " 120000/ 200000: 2.2207\n",
      " 130000/ 200000: 1.3878\n",
      " 140000/ 200000: 1.5571\n",
      " 150000/ 200000: 1.8661\n",
      " 160000/ 200000: 1.4331\n",
      " 170000/ 200000: 2.0536\n",
      " 180000/ 200000: 1.9294\n",
      " 190000/ 200000: 1.8688\n"
     ]
    }
   ],
   "source": [
    "# Full Training\n",
    "# Same optimization as last time (written a bit differently)\n",
    "max_steps = 200000\n",
    "batch_size = 32\n",
    "lossi = []\n",
    "\n",
    "for i in range(max_steps):\n",
    "    \n",
    "    # Mini-batch construct\n",
    "    ix = torch.randint(0, Xtr.shape[0], (batch_size,))\n",
    "    Xb, Yb = Xtr[ix], Ytr[ix] # X,Y's of this batch\n",
    "    \n",
    "    # Forward-Pass\n",
    "    logits = model(Xb)\n",
    "    loss = F.cross_entropy(logits, Yb)  # Loss function\n",
    "    \n",
    "    # Backward-Pass\n",
    "    for p in parameters:\n",
    "        # Making sure that prior iteration's gradients are gone\n",
    "        p.grad = None\n",
    "    loss.backward() # This calculates the current (new) gradients\n",
    "    \n",
    "    # Update (SGD with no fluff)\n",
    "    lr = 0.1 if i < 150000 else 0.01 if i < 180000 else 0.001 # Learning rate decay\n",
    "    for p in parameters:\n",
    "        p.data += -lr * p.grad\n",
    "\n",
    "    # Printing track stats every once in a while\n",
    "    if i % 10000 == 0:\n",
    "        print(f'{i:7d}/{max_steps:7d}: {loss.item():.4f}')\n",
    "    \n",
    "    # Adding current loss value to historic losses set (for later display)\n",
    "    lossi.append(loss.log10().item())\n",
    "    \n",
    "    #break # We see if this works first"
   ]
  },
  {
   "cell_type": "code",
   "execution_count": 177,
   "id": "052bc248",
   "metadata": {},
   "outputs": [
    {
     "name": "stdout",
     "output_type": "stream",
     "text": [
      "train 1.7690072059631348\n",
      "val 1.984166145324707\n"
     ]
    },
    {
     "data": {
      "image/png": "[encoded data removed]",
      "text/plain": [
       "<Figure size 640x480 with 1 Axes>"
      ]
     },
     "metadata": {},
     "output_type": "display_data"
    }
   ],
   "source": [
    "plt.plot(torch.tensor(lossi).view(-1, 1000).mean(1));\n",
    "\n",
    "# Put layers into evaluation mode (needed esp. for batchnorm)\n",
    "for layer in model.layers:\n",
    "    layer.training = False\n",
    "\n",
    "# Evaluate the loss\n",
    "# See Makemore #2. We did this before but it's refactored here for convenience:\n",
    "@torch.no_grad() # Decorator, disables gradient tracking (no \"book-keeping\" on torch's side for this function)\n",
    "def split_loss(split):\n",
    "    x, y = {\n",
    "        'train': (Xtr, Ytr),\n",
    "        'val': (Xdev, Ydev),\n",
    "        'test': (Xte, Yte),\n",
    "    }[split]   # That's a switch!\n",
    "    \n",
    "    logits = model(x)\n",
    "    \n",
    "    loss = F.cross_entropy(logits, y)\n",
    "    print(split, loss.item())\n",
    "\n",
    "split_loss('train')\n",
    "split_loss('val')"
   ]
  },
  {
   "cell_type": "markdown",
   "id": "cb0acc2a",
   "metadata": {},
   "source": [
    "<center>Notebook by <a href=\"https://github.com/mk2112\" target=\"_blank\">mk2112</a>.</center>"
   ]
  }
 ],
 "metadata": {
  "kernelspec": {
   "display_name": "Python 3 (ipykernel)",
   "language": "python",
   "name": "python3"
  },
  "language_info": {
   "codemirror_mode": {
    "name": "ipython",
    "version": 3
   },
   "file_extension": ".py",
   "mimetype": "text/x-python",
   "name": "python",
   "nbconvert_exporter": "python",
   "pygments_lexer": "ipython3",
   "version": "3.10.12"
  },
  "vscode": {
   "interpreter": {
    "hash": "e2277cd2c28b4b86c92dac38c2e6de867ac05bb102342d6ba35d1a43ffc78954"
   }
  }
 },
 "nbformat": 4,
 "nbformat_minor": 5
}
