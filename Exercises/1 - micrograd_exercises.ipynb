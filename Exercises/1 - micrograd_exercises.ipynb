{
 "cells": [
  {
   "cell_type": "markdown",
   "metadata": {
    "id": "JnGHatCI51JP"
   },
   "source": [
    "# micrograd exercises\n",
    "\n",
    "My notes on the exercises from the [building micrograd video](https://www.youtube.com/watch?v=VMj-3S1tku0).<br>\n",
    "Feel free to try on your own first, using [this empty notebook](https://colab.research.google.com/drive/1FPTx1RXtBfc4MaTkf7viZZD4U2F9gtKN?usp=sharing).\n",
    "\n",
    "1. Watch the [building micrograd video](https://www.youtube.com/watch?v=VMj-3S1tku0) on YouTube\n",
    "2. Come back and complete these exercises to level up :)"
   ]
  },
  {
   "cell_type": "markdown",
   "metadata": {
    "id": "OFt6NKOz6iBZ"
   },
   "source": [
    "## Section 1: Derivatives\n",
    "\n",
    "Here is a mathematical expression that takes 3 inputs and produces one output:"
   ]
  },
  {
   "cell_type": "code",
   "execution_count": 2,
   "metadata": {
    "id": "3Jx9fCXl5xHd"
   },
   "outputs": [
    {
     "name": "stdout",
     "output_type": "stream",
     "text": [
      "6.336362190988558\n"
     ]
    }
   ],
   "source": [
    "import matplotlib.pyplot as plt\n",
    "import numpy as np\n",
    "from math import sin, cos, exp, log\n",
    "\n",
    "def f(a, b, c):\n",
    "  return -a**3 + sin(3*b) - 1.0/c + b**2.5 - a**0.5\n",
    "\n",
    "print(f(2, 3, 4))"
   ]
  },
  {
   "cell_type": "markdown",
   "metadata": {},
   "source": [
    "Write the function $df$ that returns the analytical gradient of $f$ i.e. use your skills from calculus to take the derivative, then implement the formula.<br>\n",
    "If you do not calculus, feel free to ask wolframalpha, e.g.: https://www.wolframalpha.com/input?i=d%2Fda%28sin%283*a%29%29%29"
   ]
  },
  {
   "cell_type": "code",
   "execution_count": 3,
   "metadata": {
    "id": "qXaH59eL9zxf"
   },
   "outputs": [
    {
     "name": "stdout",
     "output_type": "stream",
     "text": [
      "OK for dim 0: expected -12.353553390593273, yours returns -12.353553390593273\n",
      "OK for dim 1: expected 10.25699027111255, yours returns 10.25699027111255\n",
      "OK for dim 2: expected 0.0625, yours returns 0.0625\n"
     ]
    }
   ],
   "source": [
    "def gradf(a, b, c):\n",
    "  df_da = -3*a**2 - 0.5*a**(-0.5)\n",
    "  df_db = 3*cos(3*b) + 2.5*b**1.5\n",
    "  df_dc = 1.0/c**2\n",
    "  return [df_da, df_db, df_dc] # returns [df/da, df/db, df/dc]\n",
    "\n",
    "# Expected answer is the list of\n",
    "ans = [-12.353553390593273, 10.25699027111255, 0.0625]\n",
    "yours = gradf(2, 3, 4)\n",
    "for dim in range(3):\n",
    "  ok = 'OK' if abs(yours[dim] - ans[dim]) < 1e-5 else 'WRONG!'\n",
    "  print(f\"{ok} for dim {dim}: expected {ans[dim]}, yours returns {yours[dim]}\")\n"
   ]
  },
  {
   "cell_type": "markdown",
   "metadata": {},
   "source": [
    "Now estimate the gradient numerically without any calculus, using the approximation we used in the video.<br>\n",
    "You should not call the function `df` from the last cell."
   ]
  },
  {
   "cell_type": "code",
   "execution_count": 4,
   "metadata": {
    "id": "_27n-KTA9Qla"
   },
   "outputs": [
    {
     "name": "stdout",
     "output_type": "stream",
     "text": [
      "OK for dim 0: expected -12.353553390593273, yours returns -12.353559348809995\n",
      "OK for dim 1: expected 10.25699027111255, yours returns 10.256991666679482\n",
      "OK for dim 2: expected 0.0625, yours returns 0.062499984743169534\n"
     ]
    }
   ],
   "source": [
    "# We discussed the approximation of the derivative/gradient as being:\n",
    "# ~f'(x) = (f(x + h) - f(h)) / h\n",
    "# This can be written into a lambda expression and applied to each dimension of the function\n",
    "\n",
    "df_approx = lambda f, x, h: (f(x + h) - f(x)) / h\n",
    "\n",
    "# Step size, i.e. the difference between x and x + h \n",
    "# -> the smaller the more precise approximation (until numerical imprecisions hit that is)\n",
    "h = 1e-6\n",
    "\n",
    "df_a = df_approx(lambda a: f(a, 3, 4), 2, h)\n",
    "df_b = df_approx(lambda b: f(2, b, 4), 3, h)\n",
    "df_c = df_approx(lambda c: f(2, 3, c), 4, h)\n",
    "\n",
    "# -----------\n",
    "numerical_grad = [df_a, df_b, df_c]\n",
    "# -----------\n",
    "\n",
    "for dim in range(3):\n",
    "  ok = 'OK' if abs(numerical_grad[dim] - ans[dim]) < 1e-5 else 'WRONG!'\n",
    "  print(f\"{ok} for dim {dim}: expected {ans[dim]}, yours returns {numerical_grad[dim]}\")"
   ]
  },
  {
   "cell_type": "markdown",
   "metadata": {},
   "source": [
    "There is an alternative formula that provides a much better numerical approximation to the derivative of a function.<br>\n",
    "Learn about it here: https://en.wikipedia.org/wiki/Symmetric_derivative\n",
    "\n",
    "**Implement it.**<br><br>\n",
    "Confirm that for the *same step size $h$* this version gives a better approximation."
   ]
  },
  {
   "cell_type": "code",
   "execution_count": 5,
   "metadata": {},
   "outputs": [
    {
     "name": "stdout",
     "output_type": "stream",
     "text": [
      "OK for dim 0: expected -12.353553390593273, yours returns -12.353553390820336\n",
      "OK for dim 1: expected 10.25699027111255, yours returns 10.256990271617639\n",
      "OK for dim 2: expected 0.0625, yours returns 0.06250000001983835\n"
     ]
    }
   ],
   "source": [
    "df_approx = lambda f, x, h: (f(x+h) - f(x-h)) / (2*h)\n",
    "\n",
    "df_da = df_approx(lambda a: f(a, 3, 4), 2, 1e-5)\n",
    "df_db = df_approx(lambda b: f(2, b, 4), 3, 1e-5)\n",
    "df_dc = df_approx(lambda c: f(2, 3, c), 4, 1e-5)\n",
    "\n",
    "# -----------\n",
    "numerical_grad2 = [df_da, df_db, df_dc]\n",
    "# -----------\n",
    "\n",
    "for dim in range(3):\n",
    "  ok = 'OK' if abs(numerical_grad2[dim] - ans[dim]) < 1e-5 else 'WRONG!'\n",
    "  print(f\"{ok} for dim {dim}: expected {ans[dim]}, yours returns {numerical_grad2[dim]}\")\n"
   ]
  },
  {
   "cell_type": "markdown",
   "metadata": {},
   "source": [
    "### Why is this approximation better?"
   ]
  },
  {
   "cell_type": "markdown",
   "metadata": {},
   "source": [
    "The forward difference approximation $\\frac{f(x+h)-f(x)}{h}$ worked for our simple problem setting, but there are limitations in its accuracy.<br>\n",
    "This approximation only considers the function's behavior to the right of $x$, which can inhibit approximations for what is actually happening at $x$ itself in terms of slope.<br>\n",
    "The slope of $x$ is not only informed by what comes after it, but also by what came before it in the function's graph. We don't consider this yet.\n",
    "\n",
    "A more balanced approach is the central difference approximation method, $\\frac{f(x+h)-f(x-h)}{2h}$.<br>\n",
    "This approach considers the function's behavior on both sides of $x$, effectively taking a step $h$ not only forward, but also backward.\n",
    "\n",
    "Let's see for a visual example on how the forward difference approximation might come around and bite us:\n",
    "- We'll use an example function $f(x) = x^2$\n",
    "- Our goal is to estimate the gradient at $x=0$ (the <p style=\"font-weight: bold; display: inline; color: #02FF02\">green dot</p> in the plot)\n",
    "- We'll use an exaggerated $h=1$ for the approximation to show how error might accumulate\n",
    "- Our *old* approximation $\\frac{f(x+h)-f(x)}{h}$ will be shown as a <p style=\"font-weight: bold; display: inline; color: #0055FF\">blue line</p>\n",
    "- An *improved and textbook* approximation $\\frac{f(x+h)-f(x-h)}{2h}$ will be shown as a <p style=\"font-weight: bold; display: inline; color: #FF2200\">red line</p>\n",
    "- The true gradient is shown as a <p style=\"font-weight: bold; display: inline; color: #02FF02\">green line</p>"
   ]
  },
  {
   "cell_type": "code",
   "execution_count": 11,
   "metadata": {},
   "outputs": [
    {
     "data": {
      "image/png": "[encoded data removed]",
      "text/plain": [
       "<Figure size 600x400 with 1 Axes>"
      ]
     },
     "metadata": {},
     "output_type": "display_data"
    }
   ],
   "source": [
    "# Generate a function that has a plateau at 0,0\n",
    "def f(x): return x**2\n",
    "def df_old(a, h, x): return ((f(a + h) - f(a)) / h) * x + f(a)\n",
    "def df_new(a, h, x): return ((f(a + h) - f(a - h)) / (2 * h)) * x + f(a)\n",
    "def df_true(a, x): return (2 * a) * x + f(a)\n",
    "\n",
    "# Prepare (x,y) lists to layout functions\n",
    "x = np.linspace(-np.pi, np.pi, 100)\n",
    "y = f(x)\n",
    "poi = (0, f(0))\n",
    "old, new, tru = df_old(poi[0], h, x), df_new(poi[0], h, x), df_true(poi[0], x)\n",
    "h = 1\n",
    "\n",
    "# Plot the function, approximations and reference point\n",
    "fig = plt.figure(figsize=(6, 4))\n",
    "\n",
    "ax = fig.add_subplot(111)\n",
    "ax.plot(x, y)\n",
    "ax.plot(poi[0], poi[1], 'go')\n",
    "ax.plot(x, old, 'b--', label='old')\n",
    "ax.plot(x, new, 'r-', label='new')\n",
    "ax.plot(x, tru, 'g--', label='true')\n",
    "ax.grid(True)\n",
    "ax.legend()\n",
    "\n",
    "plt.title(\"Comparison of Gradient Approximations\")\n",
    "plt.xlabel(\"x\")\n",
    "plt.ylabel(\"y\")\n",
    "plt.show()"
   ]
  },
  {
   "cell_type": "markdown",
   "metadata": {},
   "source": [
    "You can see that only considering $x$ and $x+h$ for calculating the slope/derivative/gradient at $x$ is just insufficient.<br>\n",
    "Taking not only $x+h$, but also $x-h$ into account helps to address this."
   ]
  },
  {
   "cell_type": "markdown",
   "metadata": {
    "id": "tklF9s_4AtlI"
   },
   "source": [
    "## Section 2: Support for Softmax"
   ]
  },
  {
   "cell_type": "markdown",
   "metadata": {},
   "source": [
    "Without referencing the code/video __too__ much, make the following two cells work.\n",
    "\n",
    "You'll have to implement (in some cases re-implemented) a number of functions of the Value object, similar to what we've seen in the video.<br>\n",
    "Instead of the squared error loss, this implements the __negative log likelihood loss__, which is very often used in classification."
   ]
  },
  {
   "cell_type": "markdown",
   "metadata": {},
   "source": [
    "Here's how I approached this.\n",
    "\n",
    "1. I ran the code as-is, finding that the first hick-up was that `Value.exp()` is missing.\n",
    "2. Implemented `.exp()`, re-ran and found `unsupported operand type(s) for +: 'int' and 'Value'` $\\rightarrow$ `__radd__()` is missing.\n",
    "3. Implemented `__radd__()`, re-ran and found `unsupported operand type(s) for /: 'Value' and 'Value'` $\\rightarrow$ `__truediv__()` is missing.\n",
    "4. Implemented `__truediv__()`, which required implementing `__pow__()`, which required implementing `__mul__()`; re-ran and found `'Value' object has no attribute 'log'`.\n",
    "5. Implemented `log()`, re-ran and found `bad operand type for unary -: 'Value'` $\\rightarrow$ `__neg__()` is missing.\n",
    "6. Implemented `__neg__()`, re-ran and found `unsupported operand type(s) for *: 'int' and 'Value'` $\\rightarrow$ `__rmul__()` is missing.\n",
    "7. Implemented `__rmul__()`, re-ran and I was done."
   ]
  },
  {
   "cell_type": "code",
   "execution_count": 95,
   "metadata": {
    "id": "nAPe_RVrCTeO"
   },
   "outputs": [],
   "source": [
    "# Value class starter code, with many functions taken out\n",
    "class Value:\n",
    "\n",
    "  def __init__(self, data, _children=(), _op='', label=''):\n",
    "    self.data = data\n",
    "    self.grad = 0.0\n",
    "    self._backward = lambda: None\n",
    "    self._prev = set(_children)\n",
    "    self._op = _op\n",
    "    self.label = label\n",
    "\n",
    "  def __repr__(self):\n",
    "    return f\"Value(data={self.data})\"\n",
    "\n",
    "  def __add__(self, other): # exactly as in the video\n",
    "    other = other if isinstance(other, Value) else Value(other)\n",
    "    out = Value(self.data + other.data, (self, other), '+')\n",
    "\n",
    "    def _backward():\n",
    "      # Gradient 'Splitter'\n",
    "      self.grad += 1.0 * out.grad\n",
    "      other.grad += 1.0 * out.grad\n",
    "    out._backward = _backward\n",
    "\n",
    "    return out\n",
    "\n",
    "  # ------\n",
    "  # re-implement all the other functions needed for the exercises below\n",
    "  # your code here\n",
    "  # ------\n",
    "\n",
    "  def exp(self):\n",
    "    # Applying exp creates a child/result Value\n",
    "    out = Value(exp(self.data), (self, ), 'exp')\n",
    "    # out.data is self's gradient, as exp(x) means e^x -> gradient is e^x = out.data\n",
    "    # out.grad is the gradient accumulated from earlier operations with out\n",
    "    # out.data * out.grad is added as the accumulated gradient scaled by the self's gradient (chain rule)\n",
    "    def _backward(): self.grad += out.data * out.grad\n",
    "    out._backward = _backward\n",
    "    return out\n",
    "\n",
    "  def __radd__(self, other):\n",
    "    # Just reverse the other + self notion\n",
    "    return self + other\n",
    "\n",
    "  def __truediv__(self, other):\n",
    "    return self * other**-1\n",
    "\n",
    "  def __pow__(self, other): # self ** other\n",
    "    assert isinstance(other, (int, float)), \"only supporting int/float powers (for now)\"\n",
    "    out = Value(self.data ** other, (self,), f'**{other}')\n",
    "    def _backward(): self.grad += other * (self.data ** (other - 1)) * out.grad\n",
    "    out._backward = _backward\n",
    "    return out\n",
    "  \n",
    "  def __mul__(self, other):\n",
    "    other = other if isinstance(other, Value) else Value(other)\n",
    "    out = Value(self.data * other.data, (self, other), '*')\n",
    "    def _backward():\n",
    "      self.grad += out.grad * other.data\n",
    "      other.grad += out.grad * self.data\n",
    "    out._backward = _backward\n",
    "    return out\n",
    "  \n",
    "  def log(self):\n",
    "    if self.data <= 0:\n",
    "      raise ValueError(\"Cannot calculate log for non-positive Value\")\n",
    "    out = Value(log(self.data), (self,), 'log')\n",
    "    def _backward(): self.grad += (1 / self.data) * out.grad\n",
    "    out._backward = _backward\n",
    "    return out\n",
    "\n",
    "  def __neg__(self):\n",
    "    return -1 * self\n",
    "\n",
    "  def __rmul__(self, other):\n",
    "    return self * other\n",
    "\n",
    "  # ------\n",
    "\n",
    "  def backward(self): \n",
    "    # exactly as in video\n",
    "    topo = []\n",
    "    visited = set()\n",
    "    def build_topo(v):\n",
    "      if v not in visited:\n",
    "        visited.add(v)\n",
    "        for child in v._prev:\n",
    "          build_topo(child)\n",
    "        topo.append(v)\n",
    "    build_topo(self)\n",
    "\n",
    "    self.grad = 1.0\n",
    "    for node in reversed(topo):\n",
    "      node._backward()"
   ]
  },
  {
   "cell_type": "code",
   "execution_count": 108,
   "metadata": {
    "id": "VgWvwVQNAvnI"
   },
   "outputs": [
    {
     "name": "stdout",
     "output_type": "stream",
     "text": [
      "2.1755153626167147 \n",
      "\n",
      "OK for dim 0: expected 0.041772570515350445, yours returns 0.041772570515350445\n",
      "OK for dim 1: expected 0.8390245074625319, yours returns 0.8390245074625319\n",
      "OK for dim 2: expected 0.005653302662216329, yours returns 0.005653302662216329\n",
      "OK for dim 3: expected -0.8864503806400986, yours returns -0.8864503806400986\n"
     ]
    }
   ],
   "source": [
    "# this is the softmax function\n",
    "# https://en.wikipedia.org/wiki/Softmax_function\n",
    "def softmax(logits):\n",
    "  counts = [logit.exp() for logit in logits]\n",
    "  denominator = sum(counts)\n",
    "  out = [c / denominator for c in counts]\n",
    "  return out\n",
    "\n",
    "# this is the negative log likelihood loss function, pervasive in classification\n",
    "logits = [Value(0.0), Value(3.0), Value(-2.0), Value(1.0)]\n",
    "probs = softmax(logits)\n",
    "loss = -probs[3].log() # dim 3 acts as the label for this input example\n",
    "loss.backward()\n",
    "print(loss.data, '\\n')\n",
    "loss_approx = loss.data\n",
    "\n",
    "ans = [0.041772570515350445, 0.8390245074625319, 0.005653302662216329, -0.8864503806400986]\n",
    "for dim in range(4):\n",
    "  ok = 'OK' if abs(logits[dim].grad - ans[dim]) < 1e-5 else 'WRONG!'\n",
    "  print(f\"{ok} for dim {dim}: expected {ans[dim]}, yours returns {logits[dim].grad}\")"
   ]
  },
  {
   "cell_type": "markdown",
   "metadata": {},
   "source": [
    "Verify: The gradient using the library `torch` should be nearly exactly the same."
   ]
  },
  {
   "cell_type": "code",
   "execution_count": null,
   "metadata": {
    "id": "q7ca1SVAGG1S"
   },
   "outputs": [
    {
     "name": "stdout",
     "output_type": "stream",
     "text": [
      "OK for loss: 2.1755154132843018\n"
     ]
    }
   ],
   "source": [
    "import torch\n",
    "\n",
    "logits = torch.tensor([0.0, 3.0, -2.0, 1.0], requires_grad=True)\n",
    "probs = torch.nn.functional.softmax(logits, dim=0)\n",
    "loss = -probs[3].log()\n",
    "loss.backward()\n",
    "print('OK' if torch.allclose(loss, torch.tensor(loss_approx)) else 'FALSE', 'for loss:', loss.item())"
   ]
  },
  {
   "cell_type": "markdown",
   "metadata": {},
   "source": [
    "<b>Congrats! You leveled up!</b>"
   ]
  },
  {
   "cell_type": "markdown",
   "metadata": {},
   "source": [
    "<center><br><br>Notebook by <a href=\"https://github.com/mk2112\" target=\"_blank\">mk2112</a>.</center>"
   ]
  }
 ],
 "metadata": {
  "colab": {
   "provenance": []
  },
  "kernelspec": {
   "display_name": "ai",
   "language": "python",
   "name": "python3"
  },
  "language_info": {
   "codemirror_mode": {
    "name": "ipython",
    "version": 3
   },
   "file_extension": ".py",
   "mimetype": "text/x-python",
   "name": "python",
   "nbconvert_exporter": "python",
   "pygments_lexer": "ipython3",
   "version": "3.12.2"
  }
 },
 "nbformat": 4,
 "nbformat_minor": 0
}
