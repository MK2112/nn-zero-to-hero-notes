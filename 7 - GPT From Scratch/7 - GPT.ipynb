{
 "cells": [
  {
   "attachments": {},
   "cell_type": "markdown",
   "metadata": {},
   "source": [
    "# Generative Pre-Trained Transformers\n",
    "\n",
    "[Video](https://www.youtube.com/watch?v=kCc8FmEb1nY)<br>\n",
    "[Repository](https://github.com/karpathy/ng-video-lecture)<br>\n",
    "[Eureka Labs Discord](https://discord.com/invite/3zy8kqD9Cp)\n",
    "\n",
    "## Table of Contents\n",
    "- [Outline](#outline)\n",
    "- [Building the Dataset](#building-the-dataset)\n",
    "- [Digression - Tiktoken](#digression---tiktoken)\n",
    "- [Tokenizing the Dataset](#tokenizing-the-dataset)\n",
    "- [Splitting the Dataset](#splitting-the-dataset)\n",
    "    - [What can we actually train on?](#what-can-we-actually-train-on)\n",
    "- [Embedding Layer](#embedding-layer)\n",
    "- [Setting up a Loss Function](#setting-up-a-loss-function)\n",
    "- [Producing The First Text](#producing-the-first-text)\n",
    "- [The mathematical trick in self-attention](#the-mathematical-trick-in-self-attention)\n",
    "    - [Tangent: Understanding the Softmax trick](#tangent-understanding-the-softmax-trick)\n",
    "- [Building Self-Attention](#building-self-attention)\n",
    "    - [Tangent: Residual Connections](#tangent-residual-connections)\n",
    "    - [Tangent: Add and Norm](#tangent-add-and-norm)\n",
    "- [Concolusion](#concolusion)\n",
    "    - [ChatGPT?!](#chatgpt) "
   ]
  },
  {
   "attachments": {},
   "cell_type": "markdown",
   "metadata": {},
   "source": [
    "ChatGPT is interesting. It sequentially generates text based on prompts.<br>\n",
    "And it does so slightly differently every time.\n",
    "\n",
    "Also, its prompt acceptance technically seems to not be limited by anything.<br>\n",
    "ChatGPT is a probabilistic system, a language model.<br>\n",
    "It continues a sequence started by our prompt by modeling a continuing sequence of words.\n",
    "\n",
    "How does this work? What kind of model is applied under the hood?<br>\n",
    "[Attention Is All You Need](https://arxiv.org/pdf/1706.03762.pdf) proposed the Transformer model architecture.\n",
    "\n",
    "Transformers really took over the field of AI by now..."
   ]
  },
  {
   "attachments": {},
   "cell_type": "markdown",
   "metadata": {},
   "source": [
    "## Outline\n",
    "\n",
    "We will train a transformer-based, character-level language model on [Tiny-Shakespeare](https://raw.githubusercontent.com/jcjohnson/torch-rnn/master/data/tiny-shakespeare.txt) (all of Shakespeare in a single file).<br>\n",
    "Put differently, we will re-implement [nanoGPT](https://github.com/karpathy/nanoGPT).\n",
    "\n",
    "Given a chunk of text from Tiny Shakespeare, the transformer will decide on what character will follow.<br>\n",
    "GPT is state-of-the-art (2022) in language modeling."
   ]
  },
  {
   "cell_type": "code",
   "execution_count": 1,
   "metadata": {},
   "outputs": [],
   "source": [
    "import torch\n",
    "import torch.nn as nn\n",
    "from torch.nn import functional as F\n",
    "import tiktoken"
   ]
  },
  {
   "attachments": {},
   "cell_type": "markdown",
   "metadata": {},
   "source": [
    "## Building the Dataset\n",
    "\n",
    "Let's first look at the contents of the dataset:"
   ]
  },
  {
   "cell_type": "code",
   "execution_count": 2,
   "metadata": {},
   "outputs": [
    {
     "name": "stdout",
     "output_type": "stream",
     "text": [
      "Length of dataset: 1115394 \n",
      "\n",
      "First Citizen:\n",
      "Before we proceed any further, hear me speak.\n",
      "\n",
      "All:\n",
      "Speak, speak.\n",
      "\n",
      "First Citizen:\n",
      "You\n"
     ]
    }
   ],
   "source": [
    "# Read the txt file to inspect it\n",
    "with open('../tiny-shakespeare.txt', 'r') as f:\n",
    "    text = f.read()\n",
    "\n",
    "print(\"Length of dataset:\", len(text), \"\\n\")\n",
    "print(text[:100]) # First 100 characters"
   ]
  },
  {
   "attachments": {},
   "cell_type": "markdown",
   "metadata": {},
   "source": [
    "We can find the unique characters by interpreting the entire text as a set of characters.<br>\n",
    "This makes each character unique in the set.\n",
    "\n",
    "We go on to convert it to a list and sort it alphabetically.<br>\n",
    "Counting this list's length gives us the number of unique characters in the dataset:"
   ]
  },
  {
   "cell_type": "code",
   "execution_count": 3,
   "metadata": {},
   "outputs": [
    {
     "name": "stdout",
     "output_type": "stream",
     "text": [
      "\n",
      " !$&',-.3:;?ABCDEFGHIJKLMNOPQRSTUVWXYZabcdefghijklmnopqrstuvwxyz\n",
      "\n",
      "Vocabulary size: 65\n"
     ]
    }
   ],
   "source": [
    "chars = sorted(list(set(text))) # Get all unique characters in the text\n",
    "vocab_size = len(chars)         # Length of the vocabulary (this includes the space character)\n",
    "print(''.join(chars))\n",
    "print(f'\\nVocabulary size: {vocab_size}')"
   ]
  },
  {
   "attachments": {},
   "cell_type": "markdown",
   "metadata": {},
   "source": [
    "This set of characters makes up what our model will produce.<br>\n",
    "Characters are hard to train on though.<br>\n",
    "We will tokenize the characters by mapping them to integers.<br>\n",
    "\n",
    "The integer represents the index of the character in the list `chars`."
   ]
  },
  {
   "cell_type": "code",
   "execution_count": 4,
   "metadata": {},
   "outputs": [
    {
     "name": "stdout",
     "output_type": "stream",
     "text": [
      "[46, 47, 47, 1, 58, 46, 43, 56, 43]\n",
      "hii there\n"
     ]
    }
   ],
   "source": [
    "# This is both encoder and decoder\n",
    "stoi = { ch:i for i,ch in enumerate(chars) }     # Character to index mapping\n",
    "itos = { i:ch for i,ch in enumerate(chars) }     # Index to character mapping\n",
    "\n",
    "encode = lambda s: [stoi[c] for c in s]          # Encode a string to a list of integers\n",
    "decode = lambda l: ''.join([itos[i] for i in l]) # Decode a list of integers to a string\n",
    "\n",
    "msg = \"hii there\"\n",
    "token_list = encode(msg)\n",
    "print(token_list)\n",
    "print(decode(token_list))"
   ]
  },
  {
   "attachments": {},
   "cell_type": "markdown",
   "metadata": {},
   "source": [
    "## Digression - Tiktoken"
   ]
  },
  {
   "attachments": {},
   "cell_type": "markdown",
   "metadata": {},
   "source": [
    "Different systems use different approaches to encoding/decoding.<br>\n",
    "For example, OpenAI uses byte-pair encoding (BPE) with their GPT-2 model.\n",
    "\n",
    "BPE is a subword tokenization technique.<br>\n",
    "It is a bit more complex than what we will do here, but its shown here nonetheless for a little bit:"
   ]
  },
  {
   "cell_type": "code",
   "execution_count": 5,
   "metadata": {},
   "outputs": [
    {
     "name": "stdout",
     "output_type": "stream",
     "text": [
      "[71, 4178, 612]\n",
      "hii there\n",
      "50257\n"
     ]
    }
   ],
   "source": [
    "enc = tiktoken.get_encoding('gpt2')\n",
    "\n",
    "msg = \"hii there\"\n",
    "token_list = enc.encode(msg)\n",
    "print(token_list) # BPE returns fewer tokens than the character encoding\n",
    "print(enc.decode(enc.encode(\"hii there\")))\n",
    "\n",
    "print(enc.n_vocab) # total amount of tokens in the vocabulary"
   ]
  },
  {
   "attachments": {},
   "cell_type": "markdown",
   "metadata": {},
   "source": [
    "Tiktoken shows that there is a trade-off between the length of the encoding and the amount of tokens.<br>\n",
    "We can have short sequences of tokens with very large vocabulary, or we can just as well have long sequences of tokens with a small vocabulary.\n",
    "\n",
    "This BPE approach is used widely for NLP tasks nowadays."
   ]
  },
  {
   "attachments": {},
   "cell_type": "markdown",
   "metadata": {},
   "source": [
    "## Tokenizing the Dataset\n",
    "\n",
    "Let's now tokenize our Shakespeare dataset with our character-to-index mapping:"
   ]
  },
  {
   "cell_type": "code",
   "execution_count": 6,
   "metadata": {},
   "outputs": [
    {
     "name": "stdout",
     "output_type": "stream",
     "text": [
      "Total size: torch.Size([1115394]) elements of type torch.int64\n",
      "First 10 tokens from the dataset: tensor([18, 47, 56, 57, 58,  1, 15, 47, 58, 47])\n"
     ]
    }
   ],
   "source": [
    "# Encode the text into a tensor of integers\n",
    "data = torch.tensor(encode(text), dtype=torch.long)\n",
    "print(f'Total size: {data.shape} elements of type {data.dtype}')\n",
    "print('First 10 tokens from the dataset:', data[:10])"
   ]
  },
  {
   "attachments": {},
   "cell_type": "markdown",
   "metadata": {},
   "source": [
    "## Splitting the Dataset\n",
    "\n",
    "The entire Tiny-Shakespeare text is now represented as a sequence of integers.<br>\n",
    "We can start separating the data into training and validation sets."
   ]
  },
  {
   "cell_type": "code",
   "execution_count": 7,
   "metadata": {},
   "outputs": [],
   "source": [
    "n = int(0.9 * len(data)) # 90% of the data will be used for training and 10% for validation\n",
    "train_data = data[:n]    # 0 to 90-th percentile\n",
    "val_data = data[n:]      # 90-th percentile to the end"
   ]
  },
  {
   "attachments": {},
   "cell_type": "markdown",
   "metadata": {},
   "source": [
    "Let's prepare the model. We will never feed our model the entire sequence of tokens as prompt at once.<br>\n",
    "Instead, we will feed it **a randomly drawn but consecutive sequence of tokens**.<br>\n",
    "The model will then predict the next token in the sequence from this prompt.<br>\n",
    "\n",
    "> We call these consecutive, size-limited input sequences of tokens **blocks**.<br>\n",
    "> Size-limited means that blocks can have a length of up to `block_size`."
   ]
  },
  {
   "cell_type": "code",
   "execution_count": 8,
   "metadata": {},
   "outputs": [
    {
     "data": {
      "text/plain": [
       "tensor([18, 47, 56, 57, 58,  1, 15, 47, 58])"
      ]
     },
     "execution_count": 8,
     "metadata": {},
     "output_type": "execute_result"
    }
   ],
   "source": [
    "block_size = 8              # Upper limit on the length of the text sequences\n",
    "train_data[:block_size + 1] # First 9 characters (8 + 1 for the target)"
   ]
  },
  {
   "attachments": {},
   "cell_type": "markdown",
   "metadata": {},
   "source": [
    "### What can we actually train on?\n",
    "\n",
    "If you zoom out, this block is just a sequence of 'correctly' aligned tokens.<br>\n",
    "Given $[18, 47, 56, 57, 58, 1, 15, 47, 58]$, we have $8$ different trainable examples:<br>\n",
    "- $[18] \\rightarrow 47$\n",
    "- $[18, 47] \\rightarrow  56$\n",
    "- $[18, 47, 56] \\rightarrow 57$ etc.\n",
    "\n",
    "Let's illustrate this with a small example:"
   ]
  },
  {
   "cell_type": "code",
   "execution_count": 9,
   "metadata": {},
   "outputs": [
    {
     "name": "stdout",
     "output_type": "stream",
     "text": [
      "When the prompt is tensor([18]), predict 47\n",
      "When the prompt is tensor([18, 47]), predict 56\n",
      "When the prompt is tensor([18, 47, 56]), predict 57\n",
      "When the prompt is tensor([18, 47, 56, 57]), predict 58\n",
      "When the prompt is tensor([18, 47, 56, 57, 58]), predict 1\n",
      "When the prompt is tensor([18, 47, 56, 57, 58,  1]), predict 15\n",
      "When the prompt is tensor([18, 47, 56, 57, 58,  1, 15]), predict 47\n",
      "When the prompt is tensor([18, 47, 56, 57, 58,  1, 15, 47]), predict 58\n"
     ]
    }
   ],
   "source": [
    "# first block of tokens\n",
    "x = train_data[:block_size]    # e.g. [1, 2, 3, 4, 5, 6, 7, 8]\n",
    "# individual tokens shifted by one (also including the very last token now)\n",
    "y = train_data[1:block_size+1] # e.g. [2, 3, 4, 5, 6, 7, 8, 9]\n",
    "\n",
    "for t in range(block_size):\n",
    "    context = x[:t+1] # context means the prompt\n",
    "    target = y[t]     # the token we want to predict\n",
    "    print(f'When the prompt is {context}, predict {target}')"
   ]
  },
  {
   "attachments": {},
   "cell_type": "markdown",
   "metadata": {},
   "source": [
    "We have context sizes $1$ to $8$.<br>\n",
    "\n",
    "> Training on each of the possible contect sizes makes the model more robust to differently sized inputs.\n",
    "\n",
    "For prompts **above** `block_size`, we will start truncating the prompt to `block_size` or less sized prompts.\n",
    "\n",
    "In theory, we could train on a single sequence at a time. We could input this sequence into the model, get the prediction, and then update the model's parameters.<br>\n",
    "However, from the vast set of possible sequences it becomes clear that this is **not very efficient**.\n",
    "\n",
    "For more efficient GPU usage, we will train on multiple sequences (each of *exactly* size `block_size`) at once.\n",
    "\n",
    "This is called **mini-batching**."
   ]
  },
  {
   "cell_type": "code",
   "execution_count": 10,
   "metadata": {},
   "outputs": [],
   "source": [
    "torch.manual_seed(1337)\n",
    "batch_size = 4  # number of sequences in a batch / processed in parallel\n",
    "block_size = 8  # maximum length of the sequence serving as a prompt/context"
   ]
  },
  {
   "cell_type": "code",
   "execution_count": 11,
   "metadata": {},
   "outputs": [
    {
     "name": "stdout",
     "output_type": "stream",
     "text": [
      "inputs shape:  torch.Size([4, 8])\n",
      "tensor([[24, 43, 58,  5, 57,  1, 46, 43],\n",
      "        [44, 53, 56,  1, 58, 46, 39, 58],\n",
      "        [52, 58,  1, 58, 46, 39, 58,  1],\n",
      "        [25, 17, 27, 10,  0, 21,  1, 54]]) \n",
      "\n",
      "targets shape:  torch.Size([4, 8])\n",
      "tensor([[43, 58,  5, 57,  1, 46, 43, 39],\n",
      "        [53, 56,  1, 58, 46, 39, 58,  1],\n",
      "        [58,  1, 58, 46, 39, 58,  1, 46],\n",
      "        [17, 27, 10,  0, 21,  1, 54, 39]]) \n",
      "\n",
      "When the prompt is tensor([24]), predict 43\n",
      "When the prompt is tensor([24, 43]), predict 58\n",
      "When the prompt is tensor([24, 43, 58]), predict 5\n",
      "When the prompt is tensor([24, 43, 58,  5]), predict 57\n",
      "When the prompt is tensor([24, 43, 58,  5, 57]), predict 1\n",
      "When the prompt is tensor([24, 43, 58,  5, 57,  1]), predict 46\n",
      "When the prompt is tensor([24, 43, 58,  5, 57,  1, 46]), predict 43\n",
      "When the prompt is tensor([24, 43, 58,  5, 57,  1, 46, 43]), predict 39\n",
      "When the prompt is tensor([44]), predict 53\n",
      "When the prompt is tensor([44, 53]), predict 56\n",
      "When the prompt is tensor([44, 53, 56]), predict 1\n",
      "When the prompt is tensor([44, 53, 56,  1]), predict 58\n",
      "When the prompt is tensor([44, 53, 56,  1, 58]), predict 46\n",
      "When the prompt is tensor([44, 53, 56,  1, 58, 46]), predict 39\n",
      "When the prompt is tensor([44, 53, 56,  1, 58, 46, 39]), predict 58\n",
      "When the prompt is tensor([44, 53, 56,  1, 58, 46, 39, 58]), predict 1\n",
      "When the prompt is tensor([52]), predict 58\n",
      "When the prompt is tensor([52, 58]), predict 1\n",
      "When the prompt is tensor([52, 58,  1]), predict 58\n",
      "When the prompt is tensor([52, 58,  1, 58]), predict 46\n",
      "When the prompt is tensor([52, 58,  1, 58, 46]), predict 39\n",
      "When the prompt is tensor([52, 58,  1, 58, 46, 39]), predict 58\n",
      "When the prompt is tensor([52, 58,  1, 58, 46, 39, 58]), predict 1\n",
      "When the prompt is tensor([52, 58,  1, 58, 46, 39, 58,  1]), predict 46\n",
      "When the prompt is tensor([25]), predict 17\n",
      "When the prompt is tensor([25, 17]), predict 27\n",
      "When the prompt is tensor([25, 17, 27]), predict 10\n",
      "When the prompt is tensor([25, 17, 27, 10]), predict 0\n",
      "When the prompt is tensor([25, 17, 27, 10,  0]), predict 21\n",
      "When the prompt is tensor([25, 17, 27, 10,  0, 21]), predict 1\n",
      "When the prompt is tensor([25, 17, 27, 10,  0, 21,  1]), predict 54\n",
      "When the prompt is tensor([25, 17, 27, 10,  0, 21,  1, 54]), predict 39\n"
     ]
    }
   ],
   "source": [
    "def get_batch(split, batch_size):\n",
    "    # Generate a batch of inputs/prompts x and respective targets y\n",
    "    # batches are always of shape (batch_size, block_size)\n",
    "    data = train_data if split == 'train' else val_data\n",
    "    # Tensor of shape (batch_size,) with random sequence start indices between 0 and len(data) - block_size\n",
    "    ix = torch.randint(len(data) - block_size, (batch_size,))\n",
    "    # Accumulate and add each sequence of this batch to form a tensor\n",
    "    x = torch.stack([data[i:i+block_size] for i in ix])\n",
    "    # Same as x but shifted by one token\n",
    "    y = torch.stack([data[i+1:i+block_size+1] for i in ix])\n",
    "    return x, y # x is (4,8), y is (4,8) too\n",
    "\n",
    "# Get a batch of inputs and targets\n",
    "xb, yb = get_batch('train', batch_size)\n",
    "\n",
    "# Print the shape of the batch and the actual data\n",
    "print('inputs shape: ', xb.shape)\n",
    "print(xb,'\\n')\n",
    "print('targets shape: ', yb.shape)\n",
    "print(yb, '\\n')\n",
    "\n",
    "# Print the first batch\n",
    "for b in range(batch_size):     # batch dimension, number of sequences in the batch (batch_size)\n",
    "    for t in range(block_size): # time dimension, number of tokens in the sequence  (block_size)\n",
    "        context = xb[b, :t+1]   # context means prompt, taking the first t+1 tokens from the b-th sequence in the batch\n",
    "        target = yb[b, t]       # we take the t-th token from the b-th sequence in the batch for the target (the token we want to predict)\n",
    "        print(f'When the prompt is {context}, predict {target}')\n",
    "        # This context <-> target pair is what we feed to the model, it's variable in length"
   ]
  },
  {
   "attachments": {},
   "cell_type": "markdown",
   "metadata": {},
   "source": [
    "## Embedding Layer\n",
    "\n",
    "An input batch consists of tensors `xb` and `yb`.<br>\n",
    "Both `xb` and `yb` are of size $batch\\_size \\times block\\_size$.\n",
    "\n",
    "The batch is used as basis for 'sub-batching'.\n",
    "\n",
    "Because `yb` is just `xb` shifted by one token, we can use `yb` to train<br>\n",
    "on multiple examples *within a batches' partial sequences*, each being of different context size.\n",
    "\n",
    "These 'sub-batches' are called `context` and `target`. They are the pairs that we will feed into the model.\n",
    "\n",
    "For now, we can start focusing on the model itself and feed `xb` and later on `yb` into it.<br>\n",
    "We'll start building a bigram model, like before in the Makemore series.\n",
    "\n",
    "This is a model that predicts the next token based on the previous token:"
   ]
  },
  {
   "cell_type": "code",
   "execution_count": 12,
   "metadata": {},
   "outputs": [
    {
     "name": "stdout",
     "output_type": "stream",
     "text": [
      "Vocabulary size: 65\n",
      "torch.Size([4, 8, 65])\n"
     ]
    }
   ],
   "source": [
    "torch.manual_seed(1337) # for reproducibility\n",
    "\n",
    "# Not really an LM at this stage, but we will get there...\n",
    "class BigramLM(nn.Module):\n",
    "\n",
    "    def __init__(self, vocab_size):\n",
    "        super().__init__()\n",
    "        # Embedding the vocabulary\n",
    "        # Every one of the vocab_size tokens is represented by a vector of size vocab_size\n",
    "        self.embed = nn.Embedding(vocab_size, vocab_size) # 65 unique 65-dim vectors\n",
    "\n",
    "    def forward(self, idx, targets):\n",
    "        # idx is of shape (batch_size, block_size)\n",
    "        # targets is of shape (batch_size, block_size)\n",
    "        # Embed the input indices, shape is now (batch_size, block_size, vocab_size) (B, T, C)\n",
    "        logits = self.embed(idx)\n",
    "        return logits\n",
    "\n",
    "\n",
    "print('Vocabulary size:', vocab_size)  # Length of the vocabulary list (this includes the space character)\n",
    "m = BigramLM(vocab_size)  # Instantiate the model\n",
    "out = m(xb, yb)           # Forward pass (yb remains unused for now)\n",
    "print(out.shape)          # (batch_size, block_size, vocab_size) -> 4 times 8 characters, each embedded as a 65-dim vector"
   ]
  },
  {
   "attachments": {},
   "cell_type": "markdown",
   "metadata": {},
   "source": [
    "Every integer of our tokenized text is now represented by an embedding vector of size `vocab_size`.<br>\n",
    "We do this by using an embedding layer. This layer is effectively a lookup table that maps<br>\n",
    "each possible (`vocab_size` are possible in total) character-representing index to a unique vector of size `vocab_size`.\n",
    "\n",
    "The `logits` are the outputs of the model.<br>\n",
    "We just treat the embedded tokens of the input batch as the logits.<br>\n",
    "This `logits` tensor holds all the embedded identities of the tokens in the input batch -> ($batch\\_size \\times block\\_size \\times vocab\\_size$).\n",
    "\n",
    "We are *not yet* interconnecting the tokens with any sort of model/logic.<br>\n",
    "We are not yet training or predicting *anything*.\n",
    "\n",
    "This is about to change."
   ]
  },
  {
   "attachments": {},
   "cell_type": "markdown",
   "metadata": {},
   "source": [
    "## Setting up a Loss Function"
   ]
  },
  {
   "cell_type": "code",
   "execution_count": 13,
   "metadata": {},
   "outputs": [
    {
     "name": "stdout",
     "output_type": "stream",
     "text": [
      "torch.Size([32, 65])\n",
      "4.878634929656982\n"
     ]
    }
   ],
   "source": [
    "torch.manual_seed(1337)\n",
    "\n",
    "class BigramLM(nn.Module):\n",
    "\n",
    "    def __init__(self, vocab_size):\n",
    "        super().__init__()\n",
    "        self.embed = nn.Embedding(vocab_size, vocab_size)  # Embedding the vocabulary, each individual token is represented by a vector of size vocab_size\n",
    "\n",
    "    def forward(self, idx, targets):\n",
    "        logits = self.embed(idx)      # Embed the input indices, shape is now (batch_size, block_size, vocab_size) (B, T, C)\n",
    "        B, T, C = logits.shape        # B = batch_size, T = block_size, C = vocab_size\n",
    "        logits = logits.view(B*T, C)  # Transpose logits to (B*T, C)\n",
    "        # This is the first time we actively use the targets:\n",
    "        targets = targets.view(B*T)   # Transpose targets to (B*T) (targets contains the next token's index for each input sequence in the batch)\n",
    "        loss = F.cross_entropy(logits, targets)  # Calculating cross entropy loss across all tokens in the batch (using targets to plug out the correct token for each input sequence)\n",
    "        return logits, loss\n",
    "\n",
    "\n",
    "m = BigramLM(vocab_size)  # Instantiate the model\n",
    "logits, loss = m(xb, yb)  # Forward pass (xb becomes embedded, yb is used to calculate the loss)\n",
    "print(logits.shape)       # (batch_size * block_size, vocab_size)\n",
    "print(loss.item())        # Loss value"
   ]
  },
  {
   "attachments": {},
   "cell_type": "markdown",
   "metadata": {},
   "source": [
    "Given that we have the identities of the next character through `yb`, how well does the model predict them through the `logits`? The `loss` is the measurement of prediction quality.\n",
    "\n",
    "We want the index within `yb` to be the same as the most likely/active index within `logits`.<br>\n",
    "The loss is measured as the average of this across all the tokens in the input batch.\n",
    "\n",
    "We know the `vocab_size` is $65$.<br>\n",
    "We can calculate what the loss should be if we were to predict the next token totally randomly:\n",
    "\n",
    "$$-ln(\\frac{1}{65}) = 4.1743872699$$\n",
    "\n",
    "Our calculated loss is **higher/worse**, because we are not predicting perfectly randomly to begin with.<br>\n",
    "The initial predictions are not perfectly spread out across the `vocab_size`.<br>\n",
    "They aren't super diffuse and contain a bit of entropy.<br>\n",
    "We haven't yet learned uniform distribution across the `vocab_size`.\n",
    "\n",
    "![](https://images.squarespace-cdn.com/content/56316c94e4b098620a45e78a/1457973972468-D5XJVA1ABFXSD0AH9RZC/?content-type=image%2Fpng)\n",
    "<br>Source: [Shiken](https://shiken.ai/chemistry/entropy)\n",
    "\n",
    "The `loss` is to be minimized.<br>\n",
    "We will need the model to make predictions of individual next tokens.<br>\n",
    "\n",
    "Let's append the current model with a function `generate` that takes in the last token of a sequence and returns the next token however many times we want:"
   ]
  },
  {
   "cell_type": "code",
   "execution_count": 14,
   "metadata": {},
   "outputs": [
    {
     "name": "stdout",
     "output_type": "stream",
     "text": [
      "torch.Size([32, 65])\n",
      "tensor(4.8786, grad_fn=<NllLossBackward0>)\n"
     ]
    }
   ],
   "source": [
    "torch.manual_seed(1337)\n",
    "\n",
    "class BigramLM(nn.Module):\n",
    "\n",
    "    def __init__(self, vocab_size):\n",
    "        super().__init__()\n",
    "        self.embed = nn.Embedding(vocab_size, vocab_size)      # Embedding the vocabulary, each individual token is represented by a vector of size vocab_size\n",
    "\n",
    "    def forward(self, idx, targets=None):\n",
    "        logits = self.embed(idx)                               # Embed the input indices, shape is now (batch_size, block_size, vocab_size) (B, T, C)\n",
    "        if targets is None:\n",
    "            loss = None\n",
    "        else:\n",
    "            B, T, C = logits.shape\n",
    "            logits = logits.view(B*T, C)                       # Transpose logits to (B, C, T) (B=batch_size, T=block_size, C=vocab_size)\n",
    "            targets = targets.view(B*T)                        # Transpose targets to (B, T)\n",
    "            loss = F.cross_entropy(logits, targets)            # Calculating cross entropy loss across all tokens in the batch\n",
    "        return logits, loss\n",
    "\n",
    "    # Generate new tokens based on respective last token of a sequence\n",
    "    def generate(self, idx, max_new_tokens):\n",
    "        for _ in range(max_new_tokens):\n",
    "            logits, _ = self(idx)                              # Forward pass (this is the forward function) with the current sequence of characters idx, results in (B, T, C)\n",
    "            logits = logits[:, -1, :]                          # Focus on the last token from the logits (B, T, C) -> (B, C)\n",
    "            probs = F.softmax(logits, dim=-1)                  # Calculate the probability distribution for the next token based on this last token, results in (B, C)\n",
    "            idx_next = torch.multinomial(probs, num_samples=1) # Sample the next token (B, 1), the token with the highest probability is sampled most likely\n",
    "            idx = torch.cat((idx, idx_next), dim=1)            # Add the new token to the sequence (B, T+1) for the next iteration\n",
    "        return idx                                             # Return the sequence of tokens (B, T+1), these are characters\n",
    "\n",
    "m = BigramLM(vocab_size)  # Instantiate the model\n",
    "logits, loss = m(xb, yb)  # Forward pass\n",
    "\n",
    "print(logits.shape)       # (batch_size, block_size, vocab_size)\n",
    "print(loss) # Loss value"
   ]
  },
  {
   "attachments": {},
   "cell_type": "markdown",
   "metadata": {},
   "source": [
    "Let's recap this `generate` function:<br>\n",
    "The function takes in a batch of tokens `xb` and a number of tokens to generate `n`. \n",
    "\n",
    "Repeated over `n` times, it will:\n",
    "- forward pass through the model with tokens `xb` to get `logits`\n",
    "- disregard everything but the last token of `xb`\n",
    "- calculate the probability of each possible token in the vocabulary to be the token after this last `xb` token; this is done with `F.softmax`\n",
    "- sample a token from the probability distribution with `torch.multinomial`, this returns an index of the token that we can use to look up the token itself in the vocabulary if we wanted\n",
    "- append the sampled token to the tokens `xb`\n",
    "- repeat\n",
    "\n",
    "See that `self(idx)` calls the `forward` function of the model.<br>`forward` is adapted accordingly above to also take a call with just `idx`.\n",
    "\n",
    "Let's run this model."
   ]
  },
  {
   "attachments": {},
   "cell_type": "markdown",
   "metadata": {},
   "source": [
    "## Producing The First Text"
   ]
  },
  {
   "cell_type": "code",
   "execution_count": 15,
   "metadata": {},
   "outputs": [
    {
     "name": "stdout",
     "output_type": "stream",
     "text": [
      "torch.Size([1, 101])\n",
      "\n",
      "SKIcLT;AcELMoTbvZv C?nq-QE33:CJqkOKH-q;:la!oiywkHjgChzbQ?u!3bLIgwevmyFJGUGp\n",
      "wnYWmnxKWWev-tDqXErVKLgJ\n"
     ]
    }
   ],
   "source": [
    "ix = torch.zeros((1, 1), dtype=torch.long)  # Start with a single tensor of shape (1, 1) holding a 0 (new line)\n",
    "tokens = m.generate(ix, max_new_tokens=100) # Generate 100 tokens as a sequence of indices\n",
    "print(tokens.shape)                         # Print the shape of the resulting sequence of tokens\n",
    "print(decode(tokens[0].tolist()))           # Decode the resulting sequence of indices to a string"
   ]
  },
  {
   "attachments": {},
   "cell_type": "markdown",
   "metadata": {},
   "source": [
    "We do the most basic generative task here:<br>\n",
    "We feed the model a prompt of just the newline character and let it iteratively<br>\n",
    "generate $100$ 'most probable' characters as a follow-up.<br>\n",
    "\n",
    "Within the print-statement there is the `[0]` call. This is **not** because we are only interested in a first character of the generated text or anything like that.<br>\n",
    "It is because `generate` returns a tensor of size `batch_size x 101`. We only have a `batch_size` of $1$ here, so we can just take the first element of the array and convert it to a string.\n",
    "\n",
    "\n",
    "The generation as is right now is not very good.<br>\n",
    "The `generate` function loops, increases the `context_size` and always re-feeds itself with this growing context.<br>\n",
    "Yet, with the logits generated from that we are not taking anything beyond/prior the logits of the last token from the context as basis for our prediction.\n",
    "\n",
    "For the current approach, our context could be of fixed size. With the current (bigram) model, we are not using the context to its full potential. This will be addressed soon.\n",
    "\n",
    "For now, let's train!"
   ]
  },
  {
   "cell_type": "code",
   "execution_count": 16,
   "metadata": {},
   "outputs": [],
   "source": [
    "# Create a PyTorch Optimizer\n",
    "# Instantiate AdamW optimizer with the model parameters (weights) \n",
    "# and a learning rate of 0.001 (often used value for *small* networks)\n",
    "opt = torch.optim.AdamW(m.parameters(), lr=1e-3)"
   ]
  },
  {
   "cell_type": "code",
   "execution_count": 17,
   "metadata": {},
   "outputs": [
    {
     "name": "stdout",
     "output_type": "stream",
     "text": [
      "Loss at step 0: 4.692410945892334\n",
      "Loss at step 100: 4.621085166931152\n",
      "Loss at step 200: 4.549462795257568\n",
      "Loss at step 300: 4.345612049102783\n",
      "Loss at step 400: 4.25573205947876\n",
      "Loss at step 500: 4.214480876922607\n",
      "Loss at step 600: 4.124096870422363\n",
      "Loss at step 700: 3.9863951206207275\n",
      "Loss at step 800: 3.9517807960510254\n",
      "Loss at step 900: 3.837888717651367\n",
      "Loss at step 1000: 3.7637593746185303\n",
      "Loss at step 1100: 3.6824679374694824\n",
      "Loss at step 1200: 3.533822536468506\n",
      "Loss at step 1300: 3.513597011566162\n",
      "Loss at step 1400: 3.4971799850463867\n",
      "Loss at step 1500: 3.3378093242645264\n",
      "Loss at step 1600: 3.3668529987335205\n",
      "Loss at step 1700: 3.2826082706451416\n",
      "Loss at step 1800: 3.1327052116394043\n",
      "Loss at step 1900: 3.160909652709961\n",
      "Loss at step 2000: 3.2342259883880615\n",
      "Loss at step 2100: 2.9978363513946533\n",
      "Loss at step 2200: 3.094273090362549\n",
      "Loss at step 2300: 2.9780406951904297\n",
      "Loss at step 2400: 2.890953302383423\n",
      "Loss at step 2500: 2.9391205310821533\n",
      "Loss at step 2600: 2.8254294395446777\n",
      "Loss at step 2700: 2.921311378479004\n",
      "Loss at step 2800: 2.886559247970581\n",
      "Loss at step 2900: 2.8697657585144043\n",
      "Loss at step 3000: 2.892245292663574\n",
      "Loss at step 3100: 2.7563703060150146\n",
      "Loss at step 3200: 2.6004953384399414\n",
      "Loss at step 3300: 2.627633810043335\n",
      "Loss at step 3400: 2.7147138118743896\n",
      "Loss at step 3500: 2.718297004699707\n",
      "Loss at step 3600: 2.714982748031616\n",
      "Loss at step 3700: 2.606290817260742\n",
      "Loss at step 3800: 2.723785161972046\n",
      "Loss at step 3900: 2.606304883956909\n",
      "Loss at step 4000: 2.703908920288086\n",
      "Loss at step 4100: 2.7407634258270264\n",
      "Loss at step 4200: 2.6153860092163086\n",
      "Loss at step 4300: 2.6925723552703857\n",
      "Loss at step 4400: 2.5623557567596436\n",
      "Loss at step 4500: 2.6690523624420166\n",
      "Loss at step 4600: 2.595306396484375\n",
      "Loss at step 4700: 2.5762505531311035\n",
      "Loss at step 4800: 2.5814590454101562\n",
      "Loss at step 4900: 2.531094789505005\n",
      "Loss at step 5000: 2.5153486728668213\n",
      "Loss at step 5100: 2.4976727962493896\n",
      "Loss at step 5200: 2.5762481689453125\n",
      "Loss at step 5300: 2.6668245792388916\n",
      "Loss at step 5400: 2.5578126907348633\n",
      "Loss at step 5500: 2.557616710662842\n",
      "Loss at step 5600: 2.5119683742523193\n",
      "Loss at step 5700: 2.5358903408050537\n",
      "Loss at step 5800: 2.5115206241607666\n",
      "Loss at step 5900: 2.539799213409424\n",
      "Loss at step 6000: 2.4889943599700928\n",
      "Loss at step 6100: 2.5222768783569336\n",
      "Loss at step 6200: 2.5372188091278076\n",
      "Loss at step 6300: 2.5158963203430176\n",
      "Loss at step 6400: 2.50382924079895\n",
      "Loss at step 6500: 2.4178597927093506\n",
      "Loss at step 6600: 2.540128707885742\n",
      "Loss at step 6700: 2.4389612674713135\n",
      "Loss at step 6800: 2.6755778789520264\n",
      "Loss at step 6900: 2.3983147144317627\n",
      "Loss at step 7000: 2.514069080352783\n",
      "Loss at step 7100: 2.465423583984375\n",
      "Loss at step 7200: 2.4735515117645264\n",
      "Loss at step 7300: 2.483755588531494\n",
      "Loss at step 7400: 2.444798707962036\n",
      "Loss at step 7500: 2.5974466800689697\n",
      "Loss at step 7600: 2.4312326908111572\n",
      "Loss at step 7700: 2.465223789215088\n",
      "Loss at step 7800: 2.4884133338928223\n",
      "Loss at step 7900: 2.5662145614624023\n",
      "Loss at step 8000: 2.44449782371521\n",
      "Loss at step 8100: 2.5472488403320312\n",
      "Loss at step 8200: 2.4675867557525635\n",
      "Loss at step 8300: 2.5351293087005615\n",
      "Loss at step 8400: 2.3684191703796387\n",
      "Loss at step 8500: 2.417297124862671\n",
      "Loss at step 8600: 2.5745158195495605\n",
      "Loss at step 8700: 2.4143502712249756\n",
      "Loss at step 8800: 2.418973445892334\n",
      "Loss at step 8900: 2.494617462158203\n",
      "Loss at step 9000: 2.3975775241851807\n",
      "Loss at step 9100: 2.5384695529937744\n",
      "Loss at step 9200: 2.539673089981079\n",
      "Loss at step 9300: 2.563826560974121\n",
      "Loss at step 9400: 2.363532304763794\n",
      "Loss at step 9500: 2.384711742401123\n",
      "Loss at step 9600: 2.497910499572754\n",
      "Loss at step 9700: 2.4720048904418945\n",
      "Loss at step 9800: 2.4446794986724854\n",
      "Loss at step 9900: 2.555168628692627\n"
     ]
    }
   ],
   "source": [
    "batch_size = 32 # Increasing the batch size from 4 to 32\n",
    "losses = []\n",
    "\n",
    "# Train for 10000 steps/batches\n",
    "for steps in range(10000):\n",
    "    xb, yb = get_batch('train', batch_size) # Sample a batch of data\n",
    "    logits, loss = m(xb, yb)                # Forward pass, calculate the loss\n",
    "    loss.backward()                         # Backprop with PyTorch's autograd \n",
    "                                            # (effectively just updating the logits/the embedding vectors)\n",
    "    opt.step()                              # Update the weights\n",
    "    opt.zero_grad()                         # Set the gradients to zero\n",
    "\n",
    "    # Print the loss every 100 steps\n",
    "    if steps % 100 == 0:\n",
    "        print(f'Loss at step {steps}: {loss.item()}')\n",
    "        losses.append(loss.item())"
   ]
  },
  {
   "attachments": {},
   "cell_type": "markdown",
   "metadata": {},
   "source": [
    "Let's now sample from the model and see how it performs:"
   ]
  },
  {
   "cell_type": "code",
   "execution_count": 18,
   "metadata": {},
   "outputs": [
    {
     "name": "stdout",
     "output_type": "stream",
     "text": [
      "\n",
      "lso br. ave aviasurf my, yxMPZI ivee iuedrd whar ksth y h bora s be hese, woweee; the! KI 'de, ulseecherd d o blllando;LUCEO, oraingofof win!\n",
      "RIfans picspeserer hee tha,\n",
      "TOFonk? me ain ckntoty ded. bo'llll st ta d:\n",
      "ELIS me hurf lal y, ma dus pe athouo\n",
      "BEY:! Indy; by s afreanoo adicererupa anse tecorro llaus a!\n",
      "OLeneerithesinthengove fal amas trr\n",
      "TI ar I t, mes, n IUSt my w, fredeeyove\n",
      "THek' merer, dd\n",
      "We ntem lud engitheso; cer ize helorowaginte the?\n",
      "Thak orblyoruldvicee chot, p,\n",
      "Bealivolde Th li\n"
     ]
    }
   ],
   "source": [
    "print(decode(m.generate(torch.zeros((1, 1), dtype=torch.long), max_new_tokens=500)[0].tolist()))"
   ]
  },
  {
   "attachments": {},
   "cell_type": "markdown",
   "metadata": {},
   "source": [
    "We currently exclusively embed the tokens into randomly generated 65-dimensional vectors.<br>\n",
    "When we then enter a batch of $4$ token sequences, where each sequence is $8$ character indices long.<br>\n",
    "We embed the indices to receive a tensor of size $[4 \\times 8 \\times 65]$.<br>\n",
    "We then reshape this tensor to $[32 \\times 65]$ and compare that with the target tensor of (also reshaped) size $32$.<br>\n",
    "The loss is then the determined by the `CrossEntropyLoss` function, which effectively plugs out the probability of the target token from the `logits` with index of the target token and then takes the negative logarithm of that.<br>\n",
    "The loss is then averaged across all the tokens in the batch. A scalar value is returned.\n",
    "\n",
    "We build a model that optimizes the embedding vectors to carry the highest probabilities for the most likely next token(s)."
   ]
  },
  {
   "attachments": {},
   "cell_type": "markdown",
   "metadata": {},
   "source": [
    "Remember, we only increased `batch_size` and trained for more epochs.<br>\n",
    "The model is still the same. We still only predict the next token based on the previous token.\n",
    "\n",
    "**There is one thing to say about the loss:**<br>\n",
    "At this point, the loss is very noisy. This is due to every batch being (independently) more or less lucky with predictions.<br>\n",
    "Viewed across the entire training, the loss is not really comparable across batches, making the loss jumpy."
   ]
  },
  {
   "cell_type": "code",
   "execution_count": 19,
   "metadata": {},
   "outputs": [
    {
     "data": {
      "image/png": "[encoded data removed]",
      "text/plain": [
       "<Figure size 640x480 with 1 Axes>"
      ]
     },
     "metadata": {},
     "output_type": "display_data"
    }
   ],
   "source": [
    "from matplotlib import pyplot as plt\n",
    "plt.plot(losses);"
   ]
  },
  {
   "attachments": {},
   "cell_type": "markdown",
   "metadata": {},
   "source": [
    "Consider that this is sampled loss after every $100$ steps.<br>\n",
    "The loss we visualize here is too batch-specific and each batch is too small to be representative of the entire training.<br>\n",
    "We see a trend though. At this point, switch over to `bigram.py` to see our code in execution-optimized script form.<br>\n",
    "There, this loss interpretation problem is addressed like so:"
   ]
  },
  {
   "cell_type": "code",
   "execution_count": 20,
   "metadata": {},
   "outputs": [
    {
     "name": "stdout",
     "output_type": "stream",
     "text": [
      "Iter    0 | Train Loss 2.4653 | Val Loss 2.4886\n",
      "Iter  500 | Train Loss 2.4742 | Val Loss 2.4727\n",
      "Iter 1000 | Train Loss 2.4654 | Val Loss 2.4810\n",
      "Iter 1500 | Train Loss 2.4587 | Val Loss 2.4703\n",
      "Iter 2000 | Train Loss 2.4539 | Val Loss 2.4912\n",
      "Iter 2500 | Train Loss 2.4517 | Val Loss 2.4801\n",
      "Iter 3000 | Train Loss 2.4634 | Val Loss 2.4788\n",
      "Iter 3500 | Train Loss 2.4557 | Val Loss 2.4851\n",
      "Iter 4000 | Train Loss 2.4622 | Val Loss 2.4873\n",
      "Iter 4500 | Train Loss 2.4475 | Val Loss 2.4838\n",
      "Iter 5000 | Train Loss 2.4483 | Val Loss 2.4757\n",
      "Iter 5500 | Train Loss 2.4622 | Val Loss 2.4837\n",
      "Iter 6000 | Train Loss 2.4517 | Val Loss 2.4863\n",
      "Iter 6500 | Train Loss 2.4567 | Val Loss 2.4837\n",
      "Iter 7000 | Train Loss 2.4525 | Val Loss 2.4908\n",
      "Iter 7500 | Train Loss 2.4663 | Val Loss 2.4820\n",
      "Iter 8000 | Train Loss 2.4542 | Val Loss 2.4769\n",
      "Iter 8500 | Train Loss 2.4480 | Val Loss 2.4832\n",
      "Iter 9000 | Train Loss 2.4602 | Val Loss 2.4832\n",
      "Iter 9500 | Train Loss 2.4514 | Val Loss 2.4857\n",
      "\n",
      "Risaveld s,\n",
      "\n",
      "NGES t y s;\n",
      "IUKI e ysinse hane Ifencethe nk anownk pres iningor d hote MARERD:\n",
      "DUSBe, anor wofr had shyounurig cea sthay s\n",
      "Heve archerod\n",
      "ORM:\n",
      "Fot t f wed, acous whasand ot qunontyeallongnd d hin:\n",
      "RGow chiked an, t e nck:\n",
      "Din soous t t theralyourthe du yofore he t t rapst ace Morayofaventhe ourd haghit hinorone t. asthiche! ad hiea ndsthaiosheain y h withe.\n",
      "Puse w d yon A e tiseren\n",
      "Go byod g'd te al po ather furd bumpaind;\n",
      "UGoritr t l tide verthe h 'stamen ilame e'sat s d t\n",
      "M:\n",
      "Berk n\n"
     ]
    }
   ],
   "source": [
    "eval_iters = 200\n",
    "max_iters = 10000\n",
    "eval_interval = 500\n",
    "\n",
    "@torch.no_grad() # Disable gradient calculation for this function\n",
    "def evaluate_loss():\n",
    "    out = {}\n",
    "    m.eval() # Set model to evaluation mode\n",
    "    for split in ['train', 'val']:\n",
    "        losses = torch.zeros(eval_iters)\n",
    "        for k in range(eval_iters):\n",
    "            X, Y = get_batch(split, batch_size)\n",
    "            _, loss = m(X, Y)\n",
    "            losses[k] = loss.item()\n",
    "        out[split] = losses.mean()\n",
    "    m.train() # Set model back to training mode\n",
    "    return out\n",
    "\n",
    "train_losses = []\n",
    "\n",
    "# Training\n",
    "for iter in range(max_iters):\n",
    "    xb, yb = get_batch('train', batch_size) # Get batch\n",
    "    logits, loss = m(xb, yb)                # Forward pass\n",
    "    loss.backward()                         # Backward pass\n",
    "    opt.step()                        # Update parameters\n",
    "    opt.zero_grad(set_to_none=True)   # Reset gradients\n",
    "\n",
    "    if iter % eval_interval == 0:\n",
    "        losses = evaluate_loss()\n",
    "        train_losses.append(losses[\"train\"].item())\n",
    "        print(f'Iter {iter:4d} | Train Loss {losses[\"train\"]:6.4f} | Val Loss {losses[\"val\"]:6.4f}')\n",
    "\n",
    "# Generate text from the model\n",
    "context = torch.zeros((1, 1), dtype=torch.long) # Start with a zero context\n",
    "print(decode(m.generate(context, max_new_tokens=500)[0].tolist()))"
   ]
  },
  {
   "cell_type": "code",
   "execution_count": 21,
   "metadata": {},
   "outputs": [
    {
     "data": {
      "image/png": "[encoded data removed]",
      "text/plain": [
       "<Figure size 640x480 with 1 Axes>"
      ]
     },
     "metadata": {},
     "output_type": "display_data"
    }
   ],
   "source": [
    "plt.plot(train_losses);"
   ]
  },
  {
   "attachments": {},
   "cell_type": "markdown",
   "metadata": {},
   "source": [
    "Instead of just printing the loss batch-wise, `evaluate_loss` averages the loss across `eval_iter` batches.<br>\n",
    "For `eval_iter` times, `evaluate_loss` will sample a batch of tokens, run the current model on it and average the loss.\n",
    "\n",
    "This is done for both the training and validation set.\n",
    "\n",
    "It is more accurate to do this, because now we start to see the trend of the loss in context of multiple, randomly sampled batches and thus a broader representation of the dataset.<br>\n",
    "As the loss is averaged over multiple batches, it is also less noisy.\n",
    "\n",
    "With all of this, our `bigram.py` script is a great starter for bulding a GPT."
   ]
  },
  {
   "attachments": {},
   "cell_type": "markdown",
   "metadata": {},
   "source": [
    "## The mathematical trick in self-attention\n",
    "\n",
    "We are *almost* ready to start implementing a self-attention block.<br>\n",
    "There is one thing that we need to understand first: **The trick in Self-attention**.<br>\n",
    "It will look confusing at first, but it is actually *very* simple.\n",
    "\n",
    "Let's dive in. Consider the following example, where the `vocab_size` is just $2$:"
   ]
  },
  {
   "cell_type": "code",
   "execution_count": 22,
   "metadata": {},
   "outputs": [],
   "source": [
    "torch.manual_seed(1337)  # Set seed for reproducibility\n",
    "B, T, C = 4, 8, 2        # Batch size, block size, vocab size\n",
    "x = torch.randn(B, T, C) # Random numbers form a tensor of shape (B, T, C)"
   ]
  },
  {
   "attachments": {},
   "cell_type": "markdown",
   "metadata": {},
   "source": [
    "Here we have $8$ tokens, each of which is a vector of size $2$.<br>\n",
    "They are not talking to each other / are not related to each other in any way.\n",
    "\n",
    "We'd like to couple them so that e.g. the 3rd token can only communicate with the tokens in the 2nd and 1st location, but **not** with a future token in the 4th location.\n",
    "\n",
    "> **Information has to be able to flow, but exclusively in one direction.**\n",
    "\n",
    "We can do this in a most simple way by averaging preceding tokens, including the `current_token`.<br>\n",
    "This would, in essence, summarize `current_token` in the context of `current_token`'s history.\n",
    "\n",
    "For every $t^{th}$ token, we'd like to get the average of all the vectors of previous tokens and the current one ($t$) as well:"
   ]
  },
  {
   "cell_type": "code",
   "execution_count": 23,
   "metadata": {},
   "outputs": [
    {
     "name": "stdout",
     "output_type": "stream",
     "text": [
      "Batch [0]:\n",
      " tensor([[ 0.1808, -0.0700],\n",
      "        [-0.3596, -0.9152],\n",
      "        [ 0.6258,  0.0255],\n",
      "        [ 0.9545,  0.0643],\n",
      "        [ 0.3612,  1.1679],\n",
      "        [-1.3499, -0.5102],\n",
      "        [ 0.2360, -0.2398],\n",
      "        [-0.9211,  1.5433]]) \n",
      "\n",
      "Running Averages:\n",
      " tensor([[ 0.1808, -0.0700],\n",
      "        [-0.0894, -0.4926],\n",
      "        [ 0.1490, -0.3199],\n",
      "        [ 0.3504, -0.2238],\n",
      "        [ 0.3525,  0.0545],\n",
      "        [ 0.0688, -0.0396],\n",
      "        [ 0.0927, -0.0682],\n",
      "        [-0.0341,  0.1332]])\n"
     ]
    }
   ],
   "source": [
    "# We want x[b, t] = mean_{i <= t} x[b, i]\n",
    "xbow = torch.zeros((B, T, C))          # Create tensor of zeros of shape (B, T, C) (bag of words representation of the input)\n",
    "for b in range(B):                     # For all batches\n",
    "    for t in range(T):                 # For all tokens in the batch\n",
    "        xprev = x[b, :t+1]             # Get all tokens up to and including the current token (t, C)\n",
    "        xbow[b, t] = xprev.mean(dim=0) # Calculate the mean of the tokens up to and including the current token\n",
    "\n",
    "print('Batch [0]:\\n', x[0], \"\\n\")     # First batch of 8 tokens, each of size 2\n",
    "print('Running Averages:\\n', xbow[0]) # Running averages of the first batch of 8 tokens, each of size 2"
   ]
  },
  {
   "attachments": {},
   "cell_type": "markdown",
   "metadata": {},
   "source": [
    "Due to the loops, this is relatively inefficient.<br>**The trick is that we can build a running average like this using<br>\n",
    "much faster matrix multiplication:**"
   ]
  },
  {
   "cell_type": "code",
   "execution_count": 24,
   "metadata": {},
   "outputs": [
    {
     "name": "stdout",
     "output_type": "stream",
     "text": [
      "a (ones) =\n",
      "tensor([[1., 1., 1.],\n",
      "        [1., 1., 1.],\n",
      "        [1., 1., 1.]])\n",
      "\n",
      "b (random) =\n",
      "tensor([[2., 7.],\n",
      "        [6., 4.],\n",
      "        [6., 5.]])\n",
      "\n",
      "c = a @ b =\n",
      "tensor([[14., 16.],\n",
      "        [14., 16.],\n",
      "        [14., 16.]])\n",
      "\n"
     ]
    }
   ],
   "source": [
    "# Consider the following example\n",
    "\n",
    "torch.manual_seed(42)\n",
    "a = torch.ones(3, 3)                        # 3x3 matrix of ones\n",
    "b = torch.randint(0, 10, (3, 2)).float()    # 3x2 matrix of random integers between 0 and 9\n",
    "c = a @ b                                   # Matrix multiplication of a and b\n",
    "print(f'a (ones) =\\n{a}\\n')\n",
    "print(f'b (random) =\\n{b}\\n')\n",
    "print(f'c = a @ b =\\n{c}\\n')"
   ]
  },
  {
   "attachments": {},
   "cell_type": "markdown",
   "metadata": {},
   "source": [
    "Just a recap on what's going on behind the scenes:\n",
    "<center><img src=\"https://www.mscroggs.co.uk/img/full/multiply_matrices.gif\"/></center>\n",
    "\n",
    "Now, consider the torch function `torch.tril`.<br>\n",
    "It returns the lower triangular part of a matrix (2D tensor).<br>\n",
    "Applying `torch.tril` to matrix `a` will calculate the running column-wise sum of `a`:"
   ]
  },
  {
   "cell_type": "code",
   "execution_count": 25,
   "metadata": {},
   "outputs": [
    {
     "name": "stdout",
     "output_type": "stream",
     "text": [
      "a (ones + tril) =\n",
      "tensor([[1., 0., 0.],\n",
      "        [1., 1., 0.],\n",
      "        [1., 1., 1.]])\n",
      "\n",
      "b (random) =\n",
      "tensor([[2., 7.],\n",
      "        [6., 4.],\n",
      "        [6., 5.]])\n",
      "\n",
      "c = a @ b =\n",
      "tensor([[ 2.,  7.],\n",
      "        [ 8., 11.],\n",
      "        [14., 16.]])\n",
      "\n"
     ]
    }
   ],
   "source": [
    "torch.manual_seed(42)\n",
    "a = torch.tril(torch.ones(3, 3))            # Lower triangular matrix of ones (tril used here)\n",
    "b = torch.randint(0, 10, (3, 2)).float()    # 3x2 matrix of random integers between 0 and 9\n",
    "c = a @ b                                   # Matrix multiplication of a and b\n",
    "\n",
    "print(f'a (ones + tril) =\\n{a}\\n')\n",
    "print(f'b (random) =\\n{b}\\n')\n",
    "print(f'c = a @ b =\\n{c}\\n')"
   ]
  },
  {
   "attachments": {},
   "cell_type": "markdown",
   "metadata": {},
   "source": [
    "If we now normalize the `torch.tril`'ed matrix `a` by dividing by the number of tokens in the batch, we get the running average of `a`:"
   ]
  },
  {
   "cell_type": "code",
   "execution_count": 26,
   "metadata": {},
   "outputs": [
    {
     "name": "stdout",
     "output_type": "stream",
     "text": [
      "a (ones + tril + avg) =\n",
      "tensor([[1.0000, 0.0000, 0.0000],\n",
      "        [0.5000, 0.5000, 0.0000],\n",
      "        [0.3333, 0.3333, 0.3333]])\n",
      "\n",
      "b (random) =\n",
      "tensor([[2., 7.],\n",
      "        [6., 4.],\n",
      "        [6., 5.]])\n",
      "\n",
      "c = a @ b =\n",
      "tensor([[2.0000, 7.0000],\n",
      "        [4.0000, 5.5000],\n",
      "        [4.6667, 5.3333]])\n",
      "\n"
     ]
    }
   ],
   "source": [
    "torch.manual_seed(42)\n",
    "a = torch.tril(torch.ones(3, 3))   # Lower triangular matrix of ones\n",
    "a = a / a.sum(dim=1, keepdim=True) # Normalize the matrix by dividing along each row\n",
    "b = torch.randint(0, 10, (3, 2)).float() # 3x2 matrix of random integers between 0 and 9\n",
    "c = a @ b                                # Matrix multiplication of a and b\n",
    "\n",
    "print(f'a (ones + tril + avg) =\\n{a}\\n')\n",
    "print(f'b (random) =\\n{b}\\n')\n",
    "print(f'c = a @ b =\\n{c}\\n')"
   ]
  },
  {
   "attachments": {},
   "cell_type": "markdown",
   "metadata": {},
   "source": [
    "Transfered to our context, this means that we can calculate the running average of the tokens in the batch<br>\n",
    "by multiplying the batch with the `torch.tril`'ed matrix `a`:"
   ]
  },
  {
   "cell_type": "code",
   "execution_count": 27,
   "metadata": {},
   "outputs": [
    {
     "data": {
      "text/plain": [
       "True"
      ]
     },
     "execution_count": 27,
     "metadata": {},
     "output_type": "execute_result"
    }
   ],
   "source": [
    "#Goal: We want x[b, t] to be mean_{i <= t} for x[b, i]\n",
    "B, T, C = 4, 8, 2        # Batch size, block size, vocab size\n",
    "x = torch.randn(B, T, C) # Random input of shape (B, T, C)\n",
    "\n",
    "# Old:\n",
    "xbow = torch.zeros((B, T, C))          # Create tensor of zeros of shape (B, T, C) (bag of words representation of the input)\n",
    "for b in range(B):                     # For all batches\n",
    "    for t in range(T):                 # For all tokens in the batch\n",
    "        xprev = x[b, :t+1]             # Get all tokens up to and including the current token (t, C)\n",
    "        xbow[b, t] = xprev.mean(dim=0) # Calculate the mean of the tokens up to and including the current token\n",
    "\n",
    "# New:\n",
    "wei = torch.tril(torch.ones(T, T))       # Lower triangular matrix of ones\n",
    "wei = wei / wei.sum(dim=1, keepdim=True) # Normalizing wei by dividing by the sum of each row\n",
    "xbow2 = wei @ x # (T, T) @ (B, T, C) -> PyTorch's Auto-Stride -> (B, T, T) @ (B, T, C) = (B, T, C)\n",
    "\n",
    "torch.allclose(xbow, xbow2) # True"
   ]
  },
  {
   "attachments": {},
   "cell_type": "markdown",
   "metadata": {},
   "source": [
    "The matrix multiplication step in this implementation indirectly uses<br>\n",
    "PyTorch's ability to 'bolster' the matrix `wei` to the dimensionailty of the batch `x`.<br>\n",
    "Beacause of that, we effectively apply the same matrix `wei` for every batch `B` in the dataset.<br>\n",
    "And this enables us to build a running average of the entire batch **in one go**.\n",
    "\n",
    "Think of `wei` as being a mask of `(block_size, block_size)` or `(characters_per_input, characters_per_input)`.<br>\n",
    "Now, in parallel, we apply `wei` to each and every batch entry.<br>\n",
    "And due to PyTorch replicating `wei` along the batch-dimension, in one take, we get the running average of the entire batch.<br>\n",
    "**That's the trick**.\n",
    "\n",
    "With that out of the way, we can now add softmax to the matrix multiplication step, stepping closer to the self-attention block:"
   ]
  },
  {
   "cell_type": "code",
   "execution_count": 28,
   "metadata": {},
   "outputs": [
    {
     "data": {
      "text/plain": [
       "True"
      ]
     },
     "execution_count": 28,
     "metadata": {},
     "output_type": "execute_result"
    }
   ],
   "source": [
    "# New:\n",
    "wei = torch.tril(torch.ones(T, T))       # Lower triangular matrix of ones\n",
    "wei = wei / wei.sum(dim=1, keepdim=True) # Normalizing wei by dividing by the sum of each row\n",
    "xbow2 = wei @ x                          # (T, T) @ (B, T, C) -> (B, T, T) @ (B, T, C) = (B, T, C)\n",
    "\n",
    "# Newer:\n",
    "tril = torch.tril(torch.ones(T, T))             # Lower triangular matrix of ones\n",
    "\n",
    "wei = torch.zeros((T, T))                       # (T, T)\n",
    "wei = wei.masked_fill(tril == 0, float('-inf')) # Masking all values in wei where tril == 0 with -inf\n",
    "wei = F.softmax(wei, dim=-1)                    # (T, T)\n",
    "\n",
    "xbow3 = wei @ x                                 # (T, T) @ (B, T, C) -> (B, T, T) @ (B, T, C) = (B, T, C)\n",
    "\n",
    "torch.allclose(xbow2, xbow3)                     # True"
   ]
  },
  {
   "attachments": {},
   "cell_type": "markdown",
   "metadata": {},
   "source": [
    "### Tangent: Understanding the Softmax trick\n",
    "\n",
    "Let's take a look at the softmax function. Up until now, we have made some steps before we apply softmax to the matrix multiplication step:\n",
    "\n",
    "- Create a tril matrix `tril` of ones with dimensions `(T, T)` where `T = block_size`\n",
    "- Create a matrix `wei` of all zeros with dimensions (T, T)\n",
    "- For every entry in `tril` that is 0: Set the corresponding entry in `wei` to `-inf`\n",
    "\n",
    "We now apply softmax row-wise to `wei`, which does the following:"
   ]
  },
  {
   "cell_type": "code",
   "execution_count": 29,
   "metadata": {},
   "outputs": [
    {
     "name": "stdout",
     "output_type": "stream",
     "text": [
      "tensor([[0.5000, 0.5000, 0.0000, 0.0000, 0.0000, 0.0000, 0.0000],\n",
      "        [0.3333, 0.3333, 0.3333, 0.0000, 0.0000, 0.0000, 0.0000]])\n"
     ]
    }
   ],
   "source": [
    "exwei = torch.tensor([[0, 0, float('-inf'), float('-inf'), float('-inf'), float('-inf'), float('-inf')], \n",
    "                      [0, 0, 0, float('-inf'), float('-inf'), float('-inf'), float('-inf')]])\n",
    "exsof = F.softmax(exwei, dim=-1) # -1 means the last dimension\n",
    "print(exsof)"
   ]
  },
  {
   "attachments": {},
   "cell_type": "markdown",
   "metadata": {},
   "source": [
    "**Why is softmax behaving like this?**<br>\n",
    "\n",
    "$$softmax(x_i) = \\frac{e^{x_i}}{\\sum_{j=1}^{n}e^{x_j}}$$\n",
    "\n",
    "```python\n",
    "def softmax(x):\n",
    "    return np.exp(x) / np.sum(np.exp(x), axis=0)\n",
    "```\n",
    "\n",
    "From a row-wise perspective, `wei` holds a bunch of values that we want to turn into probabilities - our probability mask `wei` as we know it.<br>\n",
    "Enter softmax. Row-wise, it squashes all values down into a probability distribution. It does this by raising each value to the power of $e$, then dividing that by the sum of all the values of the row raised to the power of $e$. This normalizes the values so that they all add up to $1$. We created a probability distribution.\n",
    "\n",
    "Now, the entries of `wei` that are not in the lower triangular part are $-inf$.<br>\n",
    "This means that softmax will set the probability of these entries to be most unlikely / $0$.<br>\n",
    "With the rest of the entries being all the same ($0$), softmax will distribute the total probability of $1$ across the remaining entries.\n",
    "\n",
    "This suggests that we get the masking effect that we want with `wei`. This is indeed the case:"
   ]
  },
  {
   "cell_type": "code",
   "execution_count": 30,
   "metadata": {},
   "outputs": [
    {
     "name": "stdout",
     "output_type": "stream",
     "text": [
      "tensor([[1.0000, 0.0000, 0.0000, 0.0000, 0.0000, 0.0000, 0.0000, 0.0000],\n",
      "        [0.5000, 0.5000, 0.0000, 0.0000, 0.0000, 0.0000, 0.0000, 0.0000],\n",
      "        [0.3333, 0.3333, 0.3333, 0.0000, 0.0000, 0.0000, 0.0000, 0.0000]])\n"
     ]
    }
   ],
   "source": [
    "tril = torch.tril(torch.ones(T, T))             # Lower triangular matrix of ones\n",
    "wei = torch.zeros((T, T))                       # (T, T)\n",
    "wei = wei.masked_fill(tril == 0, float('-inf')) # Masking all values in wei where tril == 0 with -inf\n",
    "wei = F.softmax(wei, dim=-1)                    # (T, T)\n",
    "xbow3 = wei @ x                                 # (T, T) @ (B, T, C) -> (B, T, T) @ (B, T, C) = (B, T, C)\n",
    "\n",
    "print(wei[0:3])"
   ]
  },
  {
   "attachments": {},
   "cell_type": "markdown",
   "metadata": {},
   "source": [
    "Zooming out, this softmax trick is very illustrating.<br>\n",
    "Effectively, `wei.masked_fill(tril == 0, float('-inf'))` states that tokens from the *future* should be disregarded in the attention calculation.<br>\n",
    "\n",
    "**Spoiler:** The probabilities left in `wei` are the attention weights or *affinities*. They will be trained.\n",
    "\n",
    "**Key Takeaway** is still that we can now do weighted aggregation of the past tokens by using matrix multiplication with `tril`, where the lower elements will tell how much a past or current token should be influencing the choice of the next token. Let's restructure the model for this in `gpt.py`.\n",
    "\n",
    "**Changelogs compared to `bigram.py`:**\n",
    "\n",
    "- `__init__` now takes no arguments (`vocab_size` is now a global variable)\n",
    "- Intermediate phase added before logit embedding:\n",
    "    - Changed embedding layer dimensions from `(vocab_size, vocab_size)` to `(vocab_size, n_embd)`\n",
    "        - `n_embd` is the now arbitrary size of the vector into which the token is embedded\n",
    "    - Added a linear layer for the logit embedding of dimensions `(n_embd, vocab_size)` so that we can do the weighted aggregation of the past tokens with size `(n_embd, n_embd)`\n",
    "- Added positional embeddings\n",
    "    - `position_embd` is an Embedding Layer of dimensions `(vocab_size, n_embd)`, embeds the token position in the sequence\n",
    "    - `pos_embd` is the positional embedding of the current token, which is added (+) to the embedding of the current token information\n",
    "    - this sum is then passed to the linear layer for the logit embedding\n",
    "\n",
    "These changes do *not yet* affect anything, because we are still missing the self-attention block and still run the trusty bigram model. But the model works still."
   ]
  },
  {
   "attachments": {},
   "cell_type": "markdown",
   "metadata": {},
   "source": [
    "## Building Self-Attention\n",
    "\n",
    "We build a self-attention block for a single, individual head for simplicity.<br>\n",
    "To do that, we'll continue with our 'running average' trick from before. I already hinted at it: We don't want the probabilities of `wei` to be row-wise uniform.\n",
    "\n",
    "Different tokens should find different other tokens more or less important/interesting.<br>\n",
    "**And [this](https://www.youtube.com/watch?v=ZoHfX_Os344) should be learned by the model.**\n",
    "\n",
    "> Gather information from the past, but do so in a data-dependent way and improve based on training.\n",
    "\n",
    "With Self-Attention, every single token in the batch emits two vectors: `query` and `key`:\n",
    "- The **`query` vector** is the token-specific \"What am I looking for?\" information\n",
    "- The **`key` vector** is the token-specific \"What do I contain?\" information\n",
    "\n",
    "To establish **affinity** (high interrelation and high influence on the sampling decision) between tokens of the batch, \n",
    "we calculate the dot product of the `query` and `key` vectors of each token with each other token in the batch.<br>\n",
    "**This is the `affinity` matrix or in our case `wei`.**\n",
    "\n",
    "If during dot product calculateion the `key` and the `query` turn out to be well aligned or similar, the affinity will be high. If they are not, the affinity will be low.\n",
    "\n",
    "Let's build the individual head:"
   ]
  },
  {
   "cell_type": "code",
   "execution_count": 31,
   "metadata": {},
   "outputs": [
    {
     "name": "stdout",
     "output_type": "stream",
     "text": [
      "tensor([[1.0000, 0.0000, 0.0000, 0.0000, 0.0000, 0.0000, 0.0000, 0.0000],\n",
      "        [0.1574, 0.8426, 0.0000, 0.0000, 0.0000, 0.0000, 0.0000, 0.0000],\n",
      "        [0.2088, 0.1646, 0.6266, 0.0000, 0.0000, 0.0000, 0.0000, 0.0000],\n",
      "        [0.5792, 0.1187, 0.1889, 0.1131, 0.0000, 0.0000, 0.0000, 0.0000],\n",
      "        [0.0294, 0.1052, 0.0469, 0.0276, 0.7909, 0.0000, 0.0000, 0.0000],\n",
      "        [0.0176, 0.2689, 0.0215, 0.0089, 0.6812, 0.0019, 0.0000, 0.0000],\n",
      "        [0.1691, 0.4066, 0.0438, 0.0416, 0.1048, 0.2012, 0.0329, 0.0000],\n",
      "        [0.0210, 0.0843, 0.0555, 0.2297, 0.0573, 0.0709, 0.2423, 0.2391]],\n",
      "       grad_fn=<SelectBackward0>)\n"
     ]
    }
   ],
   "source": [
    "# Version 4: Self-Attention\n",
    "torch.manual_seed(1337)\n",
    "\n",
    "B, T, C = 4, 8, 32        # Batch size, block size, vocab size (each token is a vector of size 32)\n",
    "x = torch.randn(B, T, C)  # Random input of shape (B, T, C)\n",
    "\n",
    "head_size = 16\n",
    "key = nn.Linear(C, head_size, bias=False)   # No bias so that solely fixed weight matrix multiplication is performed\n",
    "query = nn.Linear(C, head_size, bias=False) # No bias so that solely fixed weight matrix multiplication is performed\n",
    "value = nn.Linear(C, head_size, bias=False) # No bias so that solely fixed weight matrix multiplication is performed\n",
    "\n",
    "k = key(x)   # (B, T, C) -> (B, T, head_size)\n",
    "q = query(x) # (B, T, C) -> (B, T, head_size)\n",
    "\n",
    "wei = q @ k.transpose(-2, -1)  # (B, T, head_size) @ (B, head_size, T) = (B, T, T) (T is the block_size)\n",
    "\n",
    "tril = torch.tril(torch.ones(T, T))             # Lower triangular matrix of ones\n",
    "#wei = torch.zeros((T, T))                      # (T, T)\n",
    "wei = wei.masked_fill(tril == 0, float('-inf')) # Masking all values in wei where tril == 0 with -inf\n",
    "wei = F.softmax(wei, dim=-1)                    # (T, T)\n",
    "#out = wei @ x  # (T, T) @ (B, T, C) -> (B, T, T) @ (B, T, C) = (B, T, C)\n",
    "\n",
    "v = value(x)   # (B, T, C) -> (B, T, head_size)\n",
    "out = wei @ v  # (B, T, T) @ (B, T, head_size) = (B, T, head_size)\n",
    "\n",
    "print(wei[0])"
   ]
  },
  {
   "attachments": {},
   "cell_type": "markdown",
   "metadata": {},
   "source": [
    "When we `forward()` the Linear layers `key` and `query` by passing in the `x` batch, we get per `C` in `x = (B, T, C)` the trained `query` vector and `key` vector.<br>\n",
    "Thus, applying `x` to the linear layers gets us `query` and `key` *at once* for each token in each block of each batch.<br>\n",
    "This is why `k` and `q` are both `(B, T, head_size)`. Note that producing `query` and `key` vectors happens still independently for all tokens in the batch.\n",
    "\n",
    "The communication happens through calculating the `affinity` matrix `wei`.<br>\n",
    "We take the dot product of the `query` and `key` vectors of each token with each other token in the batch. To do so, we transpose `k` to `(B, head_size, T)` first and get `wei` of dimensions `(B, T, T)`.<br>\n",
    "For every row of `B`, we have a $T \\times T$ `(block_size x block_size)` matrix of affinities between all tokens in the batch. \n",
    "\n",
    "Because of $T$ as height- and width-dimension, we can use the softmax trick like before to mask out future tokens. The thing is, we now *don't* start out with a `wei` of all zeros, but with learnable affinities already in place.\n",
    "Softmax thus will not distribute the probability of $1$ evenly across all tokens, but will distribute it based on the learnable affinities that we already have in place. **That's the whole point of self-attention.**"
   ]
  },
  {
   "attachments": {},
   "cell_type": "markdown",
   "metadata": {},
   "source": [
    "Let's view the `wei` value at the eighth token in the first batch.<br>\n",
    "It is $0.2391$. The eighth token knows what its content is and what position it is in. Based on that, it creates a `query`.<br>\n",
    "\n",
    "The `query` vector of the eighth token is:<br>\n",
    "\"I'm looking for consonants that are at max four positions away from me.\"\n",
    "\n",
    "The `key` vector of the eighth token is:<br>\n",
    "\"I'm a vowel in the eigth position, I am a bunch of information about this vowel in the eighth position, a business card if you will.\"\n",
    "\n",
    "The `key` vector of the fifth token is:<br>\n",
    "\"I'm a consonant in the fifth position, I am a business card with a bunch of information about this consonant in the fifth position.\"\n",
    "\n",
    "With this information, the eighth token can calculate the affinity with the fifth token. It does so by taking the dot product of its `query` and the fifth token's `key`.<br>\n",
    "This dot product will be high, because the `query` and `key` are well aligned. With high affinity, the fifth token becomes more likely to be chosen as the next token."
   ]
  },
  {
   "attachments": {},
   "cell_type": "markdown",
   "metadata": {},
   "source": [
    "Ok, now let's address the value `v`.<br>\n",
    "`v` is the value vector of the token. It is the token-specific \"What can I communicate to you?\" information.\n",
    "\n",
    "Notice that we now only interact with `x` indirectly through `k` and `q`. Therefore we could say:\n",
    "- `x` is the \"Who am I talking to?\" information"
   ]
  },
  {
   "attachments": {},
   "cell_type": "markdown",
   "metadata": {},
   "source": [
    "\n",
    "<center><img src=\"https://www.techiedelight.com/wp-content/uploads/Eulerian-path-for-directed-graphs.png\"/></center>\n",
    "\n",
    "- Attention is a **communication mechanism**. It can be seen as nodes in a directed graph looking at each other, aggregating their information via a weighted sum from all nodes pointing to them, with data-dependent weights.\n",
    "    - With our graph, we have 8 nodes/tokens. The first nodes is pointed to by itself only. The second node is pointed to by the first node and itself and so on.\n",
    "- There is **no notion of space** as attention just acts over a set of vectors. This is why we need to positionally encode tokens so that the model can learn to attend to tokens in a certain order.\n",
    "- Each example across batch dimension is of course processed completely independently and never \"talks\" to other examples in the batch.\n",
    "- Our block (see above) is called a \"decoder\" attention block because it has triangular masking. This is usually applied in autoregressive settings, like language modeling.\n",
    "    - In an \"encoder\" attention block just delete the single line that does masking with `tril`, allowing all tokens to communicate. \n",
    "- \"self-attention\" just means that the keys and values are produced from the same source as queries ($x$ in our case) \n",
    "    - In \"cross-attention\", the queries still get produced from $x$, but the keys and values come from some other, external source (e.g. an encoder module)\n",
    "- \"Scaled\" attention additional divides `wei` by 1/sqrt(head_size). This makes it so when input `Q`,`K` are unit variance, `wei` will be unit variance too and Softmax will stay diffuse and not saturate too much.<br> \n",
    "  Illustration below:"
   ]
  },
  {
   "cell_type": "code",
   "execution_count": 32,
   "metadata": {},
   "outputs": [
    {
     "name": "stdout",
     "output_type": "stream",
     "text": [
      "1.0449\n",
      "1.0700\n",
      "1.0918\n"
     ]
    }
   ],
   "source": [
    "k = torch.randn(B, T, head_size)\n",
    "q = torch.randn(B, T, head_size)\n",
    "wei = q @ k.transpose(-2, -1) * (head_size ** -0.5) # This is the scaled attention, avoiding exploding variance which would sharpen the softmax distributions (and thus make the attention more deterministic)\n",
    "\n",
    "print(k.var().item().__format__('.4f'))   # The variance is like before\n",
    "print(q.var().item().__format__('.4f'))   # The variance is like before\n",
    "print(wei.var().item().__format__('.4f')) # The variance is now much smaller"
   ]
  },
  {
   "cell_type": "markdown",
   "metadata": {},
   "source": [
    "We now take this self-attention concept for a spin in `gpt.py`.\n",
    "\n",
    "**Changelog:**\n",
    "- Defined and added a `Head` module to the model that contains the `query`, `key` and `value` linear layers and the `affinity` matrix calculation.\n",
    "- Added multiple `Head`s in parallel to the model.\n",
    "- Added `FeedForward` module to the model that contains the `intermediate` and `output` linear layers.\n",
    "    - We had the multi-head attention module before, but calculating the logits happend too early. We now have a `FeedForward` module that takes the output of the multi-head attention module and calculates the logits. This is better, because `FeedForward` enables the tokens to think on what they have seen from the multi-head attention module.\n",
    "    - Applying `FeedForward` further reduces loss and improves perplexity.\n",
    "- Added `Block` module to the model that contains the `Head` and `FeedForward` modules and can be stacked $N$ times like in \"Attention is all you need\":\n",
    "\n",
    "![](./images/transformer.png)"
   ]
  },
  {
   "attachments": {},
   "cell_type": "markdown",
   "metadata": {},
   "source": [
    "### Tangent: Residual Connections\n",
    "\n",
    "Deep and very deep neural networks are hard to train. They suffer from optimization issues like vanishing and exploding gradients. Residual connections help with that.<br>\n",
    "They are applied in \"Attention is all you need\" and we will apply them here too. Originally, the idea of residual connections was introduced in \"Deep Residual Learning for Image Recognition\".\n",
    "\n",
    "**It basically goes like this:**<br>\n",
    "You may transform the data through weight layers, but then you add the original data values onto the now transformed data values. To an extend, you are now free to fork off the residual pathway and apply the transformation to it. You don't have to, you can steer the intensity of the residual connection with a learnable parameter. This is called a `Skip Connection`.\n",
    "\n",
    "The reason this structure addresses the training problem is that addition is a linear operation. Addition distributes gradients equally across all inputs.<br>The gradients from the loss basically 'hop' from the output to the input while remaining more effective. Also they propagate into the residual pathway, which is a good thing.\n",
    "\n",
    "> With residual connections, you basically have a gradient superhighway, from supervision to input. Unimpeded by the weight layers in between.\n",
    "> The residual blocks initially contribute very little to the residual pathway. During optimization, the residual blocks learn to contribute more and more to the residual pathway.\n",
    "\n",
    "\n",
    "### Tangent: Add and Norm\n",
    "\n",
    "In the image above, there is this `Add & Norm` part. The `Add` is the residual connection. See above.<br>\n",
    "The `Norm` is a normalization layer of type `LayerNorm`. Yes, this is very close to what we discussed in Makemore 3. \n",
    "\n",
    "> Batch Normalization made sure that the data is normalized across the **batch dimension**. Any individual neuron had unit gaussian distribution, with $0$ mean and $1$ stddev.\n",
    "> Layer Normalization makes sure that the data is normalized across the **feature dimension**. Any individual feature (e.g. a value in a vector) has unit gaussian distribution, with $0$ mean and $1$ stddev.\n",
    "\n",
    "`LayerNorm` is applied *after* the residual connection to normalize the data. It is applied to the output of the residual connection. It is applied to the output of the multi-head attention module and the output of the feed-forward module. It is applied to the output of the block. It is applied to the output of the model.\n",
    "\n",
    "Let's build up `LayerNorm` from our previous Makemore 3 work:"
   ]
  },
  {
   "cell_type": "code",
   "execution_count": 33,
   "metadata": {},
   "outputs": [
    {
     "name": "stdout",
     "output_type": "stream",
     "text": [
      "tensor(0.1392) tensor(0.8899)\n",
      "tensor(7.4506e-09) tensor(1.0000)\n",
      "tensor([ 0.0468, -0.1209, -0.1358,  0.6035, -0.0515])\n",
      "torch.Size([32, 100])\n"
     ]
    }
   ],
   "source": [
    "# Makemore 3's BatchNorm1d\n",
    "class BatchNorm1d:\n",
    "  \n",
    "  def __init__(self, dim, eps=1e-5, momentum=0.1):\n",
    "    self.eps = eps                        # Epsilon set to PyTorch default, you may change it\n",
    "    self.momentum = momentum              # Momemtum set to PyTorch default, you may change it\n",
    "    self.training = True\n",
    "    # Initialize Parameters (trained with backprop)\n",
    "    # (bngain -> gamma, bnbias -> beta)\n",
    "    self.gamma = torch.ones(dim)\n",
    "    self.beta = torch.zeros(dim)\n",
    "    # Initialize Buffers \n",
    "    # (Trained with a running 'momentum update')\n",
    "    self.running_mean = torch.zeros(dim)\n",
    "    self.running_var = torch.ones(dim)\n",
    "\n",
    "  def __call__(self, x):\n",
    "    # Forward-Pass\n",
    "    if self.training:\n",
    "      xmean = x.mean(0, keepdim=True) # Batch mean\n",
    "      xvar = x.var(0, keepdim=True)   # Batch variance\n",
    "    else:\n",
    "      xmean = self.running_mean # Using the running mean as basis\n",
    "      xvar = self.running_var   # Using the running variance as basis\n",
    "    \n",
    "    # Normalize to unit variance\n",
    "    xhat = (x - xmean) / torch.sqrt(xvar + self.eps)\n",
    "    self.out = self.gamma * xhat + self.beta  # Apply batch gain and bias\n",
    "    \n",
    "    # Update the running buffers\n",
    "    if self.training:\n",
    "      with torch.no_grad():\n",
    "        self.running_mean = (1 - self.momentum) * self.running_mean + self.momentum * xmean\n",
    "        self.running_var = (1 - self.momentum) * self.running_var + self.momentum * xvar\n",
    "    \n",
    "    return self.out\n",
    "\n",
    "  def parameters(self):\n",
    "    return [self.gamma, self.beta] # return layer's tensors\n",
    "\n",
    "torch.manual_seed(1337)\n",
    "module = BatchNorm1d(100)\n",
    "x = torch.randn(32, 100)           # Batch size 32, 100 features (100-dimensional vectors)\n",
    "print(x[:,0].mean(), x[:,0].std()) # Old mean and standard deviation of the first feature across the batch (not 0 and 1)\n",
    "x = module(x)                      # Forward pass\n",
    "print(x[:,0].mean(), x[:,0].std()) # New mean and standard deviation of the first feature across the batch (should be 0 and 1)\n",
    "print(x[:5,0])                     # See how the feature indicates the normalization feature-wise across the batch, not sample-wise across the features\n",
    "print(x.shape)                     # Output shape should is the same as input shape"
   ]
  },
  {
   "attachments": {},
   "cell_type": "markdown",
   "metadata": {},
   "source": [
    "With `LayerNorm`, we now normalize the samples, across the features, instead of the features, across the batch.<br>\n",
    "There are tons of changes needed to be applied to the code of `BatchNorm1d` for that.\n",
    "\n",
    "Just kidding: We just need to change the `mean` and `std` calculation to be across the features, instead of the batch."
   ]
  },
  {
   "cell_type": "code",
   "execution_count": 34,
   "metadata": {},
   "outputs": [
    {
     "name": "stdout",
     "output_type": "stream",
     "text": [
      "tensor(0.0409) tensor(1.0476)\n",
      "tensor(-9.5367e-09) tensor(1.0000)\n",
      "tensor([ 0.1335, -0.1059, -0.3824, -0.9127,  0.5583])\n",
      "torch.Size([32, 100])\n"
     ]
    }
   ],
   "source": [
    "# LayerNorm\n",
    "class LayerNorm:\n",
    "  \n",
    "  def __init__(self, dim, eps=1e-5, momentum=0.1):\n",
    "    self.eps = eps                        # Epsilon set to PyTorch default, you may change it\n",
    "    self.gamma = torch.ones(dim)          # Initialize gain\n",
    "    self.beta = torch.zeros(dim)          # Initialize bias\n",
    "\n",
    "  def __call__(self, x):\n",
    "    # Forward-Pass\n",
    "    xmean = x.mean(1, keepdim=True) # Sample mean (across the features)\n",
    "    xvar = x.var(1, keepdim=True)   # Sample variance (across the features)\n",
    "    xhat = (x - xmean) / torch.sqrt(xvar + self.eps) # Normalize x to unit variance\n",
    "    self.out = self.gamma * xhat + self.beta         # Apply feature gain and bias\n",
    "\n",
    "    return self.out\n",
    "\n",
    "  def parameters(self):\n",
    "    return [self.gamma, self.beta] # return layer's tensors\n",
    "\n",
    "torch.manual_seed(1337)\n",
    "module = LayerNorm(100)\n",
    "x = torch.randn(32, 100)           # Batch size 32, 100 features (100-dimensional vectors)\n",
    "print(x[0,:].mean(), x[0,:].std()) # Old mean and standard deviation of the first feature across the batch (not 0 and 1)\n",
    "x = module(x)                      # Forward pass\n",
    "print(x[0,:].mean(), x[0,:].std()) # New mean and standard deviation of the first feature across the batch (should be 0 and 1)\n",
    "print(x[0,:5])                     # See how the features indicate the normalization sample-wise across the features, not feature-wise across the batch\n",
    "print(x.shape)                     # Output shape should is the same as input shape"
   ]
  },
  {
   "attachments": {},
   "cell_type": "markdown",
   "metadata": {},
   "source": [
    "Because the calculations inside `LayerNorm` don't span across the batch dimension, we can remove the buffers `running_mean` and `running_var`. There also is no distinction between training and eval mode anymore. We can remove the `train` parameter. The training process will determine the deviation from the unit gaussian distribution as seen fit by the optimizer.\n",
    "\n",
    "With the changes in place, we can now add `LayerNorm` to the model. But **note that we deviate from the original paper** here. <br>\n",
    "It is a bit more common to apply the `LayerNorm` before the before the transformation, instead of after.\n",
    "\n",
    "This is because the `LayerNorm` is more expensive than the transformation. We want to apply the `LayerNorm` as early as possible, so that we can skip it in the residual connection if the transformation is skipped. This is called \"pre-norm\" formulation.<br>\n",
    "\n",
    "At this point, `gpt.py` was updated to include `LayerNorm`. The validation loss after $5,000$ steps is $2.06$.\n",
    "\n",
    "To scale this model further, Dropout is applied to both the `MultiHeadAttention` and `Sequential` modules and after the softmax in the `Head` module.<br>\n",
    "If applied per step, we train a randomly selected subset of neurons / a subnetwork. At test time, we have a \"stacked ensemble\" of subnetworks with the original architecture, all working together, more evenly distributing the load.\n",
    "\n",
    "*Here I trained the full model in `gpt.py` in original configuration. Training on a GPU-enabled Colab notebook took $1$ hour and $36$ minutes. The validation loss after $5,000$ steps is $1.48$.*\n",
    "\n",
    "This is the output of the large scale decoder after training:"
   ]
  },
  {
   "attachments": {},
   "cell_type": "markdown",
   "metadata": {},
   "source": [
    "---\n",
    "\n",
    "But with pricept, and unseek thine eyes merely.\n",
    "\n",
    "KING HENRY VI:\n",
    "Love hath bore the king, after live over. Here's iron, Mistinius.\n",
    "At the blows fellow me slain in, thus any other\n",
    "As will I have: all the accordations him.\n",
    "Therefore, they 'll chedge clook you, look upon:\n",
    "Whose admition-for Henry, who farewell.\n",
    "I clear thee--Lo this is, in resolved.\n",
    "\n",
    "ISABELLA:\n",
    "A guest!\n",
    "\n",
    "DUKE VINCENTIO:\n",
    "An's barr'd leave prodigy,\n",
    "I hath asleepency with this city believed.\n",
    "Even this tyrant; this farther mules\n",
    "For muna\n",
    "\n",
    "---\n",
    "\n",
    "You may load the model up and use it for inference like this:\n",
    "\n",
    "```python\n",
    "# Load the model architecture\n",
    "model = BigramLanguageModel()\n",
    "model.load_state_dict(torch.load(\"model_5000.pt\"))\n",
    "model.eval()\n",
    "```"
   ]
  },
  {
   "attachments": {
    "image-2.png": {
     "image/png": "[encoded data removed]"
    },
    "image-3.png": {
     "image/png": "[encoded data removed]"
    }
   },
   "cell_type": "markdown",
   "metadata": {},
   "source": [
    "## Conclusion\n",
    "\n",
    "Let's go back the the diagram from \"Attention is all you need\" and see how we did:<br>\n",
    "![](./images/transformer.png)\n",
    "\n",
    "With the above, we implemented a **decoder-only transformer model**. It is a decoder, because we apply triangular masking to the attention matrix `wei`. The encoder part is missing.<br>\n",
    "Our model only consists of the Self-Attention block and the Feed-Forward block. The 'encoder-fusing' cross-attention part is missing.<br>\n",
    "\n",
    "We are just generating text based on an initial prompt, thus basically 'blabbering on' without further reference to anything.<br>\n",
    "The original paper proposes an encoder-decoder architecture for machine translation: \n",
    "- The encoder part is a transformer model, too. It is trained to encode the source language into a fixed-size vector\n",
    "- The decoder part is trained to decode the fixed-size vector into the target language\n",
    "- Both encoder and decoder are trained to work together\n",
    "\n",
    "| Encode | Decode |\n",
    "| --- | --- |\n",
    "| les chats sont mignons | <START>the cats are cute<END> |\n",
    "\n",
    "Unlike what we did, the generation will be influenced by additional information, meaning the source language input.<br>\n",
    "Within the encoder, **no** triangular masking is applied. The encoder is allowed to look at all the input tokens, time-wise.<br>\n",
    "Feeding that into the decoder, the decoder is conditioned not only on the past of the current decoding, but also on the fully encoded input.<br>\n",
    "\n",
    "\n",
    "### ChatGPT?!\n",
    "\n",
    "How does ChatGPT relate to what we did here?<br>\n",
    "To achieve a system like ChatGPT, two steps have to be taken: Pre-Training a Decoder-Only Transformer to 'babbel text' and then fine-tuning it on prompt-response pairs.<br>\n",
    "\n",
    "With the context we now have, this should look familiar:<br>\n",
    "![image.png](attachment:image-2.png)\n",
    "\n",
    "We have around $300,000$ tokens in our dataset. OpenAI has around $300,000,000,000$ tokens in their training dataset. And that is still small by today's (trillions) standards.\n",
    "\n",
    "**TL;DR:** OpenAI takes the transformer and blows it up to the max training- and finetuning-wise.<br>\n",
    "The challenge OpenAI faces is thus not only one of building the AI, but maintaining an infrastructure that can handle the training and fine-tuning of such a model.\n",
    "\n",
    "To now align the decoder-only 'babbeling' transformer with a task like chat generation, we need to add the encoder part and the cross-attention part.\n",
    "\n",
    "OpenAI does this like so:<br>\n",
    "![image.png](attachment:image-3.png)\n",
    "\n",
    "**Step 1:** Collect demonstration data and train a supervised policy\n",
    "- Collect (a way smaller set of) training data for code generation (e.g. a question and the answer set on programming tasks)\n",
    "- Fine-tune the model to focus on achieving a response that is as close as possible to the answer set. This aligns the model with the task of chat generation.\n",
    "\n",
    "**Step 2:** Collect comparison data and train a reward model\n",
    "- For one input, several iterations of outputs are collected and ranked by humans\n",
    "- This information is used to train a reward model that can rank the outputs of the model by itself on a large scale\n",
    "\n",
    "**Step 3:** Optimize a policy against the reward model using the [PPO](https://openai.com/blog/openai-baselines-ppo/) reinforcement learning algorithm\n",
    "- Again, we start with a prompt from the training data\n",
    "- Out trained (supervised policy) model takes the prompt and generates a response\n",
    "    - [PPO](https://openai.com/blog/openai-baselines-ppo/) is applied so that the outputs that are ranked higher by the reward model are more likely to be generated\n",
    "\n",
    "These steps take the model from being a 'blabby' decoder-only transformer to being a chat generator."
   ]
  },
  {
   "cell_type": "markdown",
   "metadata": {},
   "source": [
    "<center>Notebook by <a href=\"https://github.com/mk2112\" target=\"_blank\">mk2112</a>.</center>"
   ]
  }
 ],
 "metadata": {
  "kernelspec": {
   "display_name": "Python 3",
   "language": "python",
   "name": "python3"
  },
  "language_info": {
   "codemirror_mode": {
    "name": "ipython",
    "version": 3
   },
   "file_extension": ".py",
   "mimetype": "text/x-python",
   "name": "python",
   "nbconvert_exporter": "python",
   "pygments_lexer": "ipython3",
   "version": "3.10.8"
  },
  "orig_nbformat": 4,
  "vscode": {
   "interpreter": {
    "hash": "e2277cd2c28b4b86c92dac38c2e6de867ac05bb102342d6ba35d1a43ffc78954"
   }
  }
 },
 "nbformat": 4,
 "nbformat_minor": 2
}
