{
  "cells": [
    {
      "cell_type": "markdown",
      "metadata": {
        "id": "JUlwV-sFY5EK"
      },
      "source": [
        "# Makemore 3 - Exercises\n",
        "\n",
        "Notes on the exercises from the [makemore #3 video](https://www.youtube.com/watch?v=P6sfmUTpUmc).<br>\n",
        "The video description holds the exercises, which are also listed below.<br>\n",
        "Feel free to try solving on your own first using [this starter notebook](./N004%20-%20Makemore_3_Exercises.ipynb).\n",
        "\n",
        "1. Watch the [makemore #3 video](https://www.youtube.com/watch?v=P6sfmUTpUmc) on YouTube\n",
        "2. Come back and complete the exercises to level up :)"
      ]
    },
    {
      "cell_type": "code",
      "execution_count": 1,
      "metadata": {
        "id": "uI6YanNTY5ET"
      },
      "outputs": [],
      "source": [
        "import torch\n",
        "import random\n",
        "import torch.nn.functional as F\n",
        "import matplotlib.pyplot as plt\n",
        "\n",
        "%matplotlib inline"
      ]
    },
    {
      "cell_type": "markdown",
      "metadata": {
        "id": "hXUciZ_UY5Ea"
      },
      "source": [
        "## Exercise 1 - Dead or Alive?\n",
        "\n",
        "**Objective:** We did not get around to seeing what happens when you initialize all weights and biases to zero. Try this and train the neural net. You might think either that:\n",
        "1. the network trains just fine or\n",
        "2. the network doesn't train at all,\n",
        "3. the network trains but only partially, and achieves a pretty bad final performance.\n",
        "\n",
        "Inspect the gradients and activations to figure out what is happening and why the network (spoiler) is only partially training, and what part is being trained exactly (and why).\n",
        "\n",
        "Let's set up the training environment first:"
      ]
    },
    {
      "cell_type": "code",
      "execution_count": 63,
      "metadata": {
        "colab": {
          "base_uri": "https://localhost:8080/"
        },
        "id": "shF9gkMPY5Eb",
        "outputId": "ba3842e9-8106-4597-9eb6-02a2161b96a5"
      },
      "outputs": [
        {
          "name": "stdout",
          "output_type": "stream",
          "text": [
            "['emma', 'olivia', 'ava', 'isabella', 'sophia']\n",
            "32033 words\n"
          ]
        }
      ],
      "source": [
        "words = open('../names.txt', 'r').read().splitlines() # read in all the words\n",
        "print(words[:5])           # Show the first eight words\n",
        "print(len(words), 'words') # Total amount of words in our dataset"
      ]
    },
    {
      "cell_type": "code",
      "execution_count": 64,
      "metadata": {
        "id": "SO-fMFkTY5Ee"
      },
      "outputs": [],
      "source": [
        "# Build a vocabulary of characters map them to integers (these will be the index tokens)\n",
        "chars = sorted(list(set(''.join(words))))  # set(): Throwing out letter duplicates\n",
        "stoi = {s:i+1 for i,s in enumerate(chars)} # Make tupels of type (char, counter)\n",
        "stoi['.'] = 0                              # Add this special symbol's entry explicitly\n",
        "itos = {i:s for s,i in stoi.items()}       # Switch order of (char, counter) to (counter, char)\n",
        "vocab_size = len(itos)"
      ]
    },
    {
      "cell_type": "code",
      "execution_count": 65,
      "metadata": {
        "colab": {
          "base_uri": "https://localhost:8080/"
        },
        "id": "Tp5O-0-9Y5Ef",
        "outputId": "4bc138ea-2739-4510-f272-ee33fd749f44"
      },
      "outputs": [
        {
          "name": "stdout",
          "output_type": "stream",
          "text": [
            "torch.Size([182625, 3]) torch.Size([182625])\n",
            "torch.Size([22655, 3]) torch.Size([22655])\n",
            "torch.Size([22866, 3]) torch.Size([22866])\n"
          ]
        }
      ],
      "source": [
        "# Build the dataset\n",
        "block_size = 3 # Context length: We look at this many characters to predict the next one\n",
        "\n",
        "def build_dataset(words):\n",
        "  X, Y = [], []\n",
        "\n",
        "  for w in words:\n",
        "    context = [0] * block_size\n",
        "    for ch in w + '.':\n",
        "      ix = stoi[ch]\n",
        "      X.append(context)\n",
        "      Y.append(ix)\n",
        "      context = context[1:] + [ix] # Crop and append\n",
        "\n",
        "  X = torch.tensor(X)\n",
        "  Y = torch.tensor(Y)\n",
        "\n",
        "  print(X.shape, Y.shape)\n",
        "  return X, Y\n",
        "\n",
        "# Randomize the dataset (with reproducibility)\n",
        "random.seed(42)\n",
        "random.shuffle(words)\n",
        "\n",
        "# These are the \"markers\" we will use to divide the dataset\n",
        "n1 = int(0.8 * len(words))\n",
        "n2 = int(0.9 * len(words))\n",
        "\n",
        "# Dividing the dataset into train, dev and test splits\n",
        "Xtr, Ytr = build_dataset(words[:n1])     # 80%\n",
        "Xdev, Ydev = build_dataset(words[n1:n2]) # 10%\n",
        "Xte, Yte = build_dataset(words[n2:])     # 10%"
      ]
    },
    {
      "cell_type": "markdown",
      "metadata": {
        "id": "3Aqlum8i-gSP"
      },
      "source": [
        "For the model, we will modify the `Linear` class constructor, replacing the `torch.randn` call with the `torch.zeros` equivalent.<br>\n",
        "We won't change anything else about the logic itself. This way, we can most clearly trace the impact of zero-ed initial weights and biases."
      ]
    },
    {
      "cell_type": "code",
      "execution_count": 66,
      "metadata": {
        "id": "CWKfNjx2FP6f"
      },
      "outputs": [],
      "source": [
        "# Linear Layer Definition (mimicing torch.nn.Linear's structure)\n",
        "class Linear:\n",
        "\n",
        "  def __init__(self, fan_in, fan_out, bias=True):\n",
        "    #self.weight = torch.randn((fan_in, fan_out), generator=g) / fan_in ** 0.5\n",
        "    self.weight = torch.zeros(fan_in, fan_out)\n",
        "    self.bias = torch.zeros(fan_out) if bias else None # Biases are optional here\n",
        "\n",
        "  def __call__(self, x):\n",
        "    self.out = x @ self.weight # W*x\n",
        "    if self.bias is not None:  # Add biases if so desired\n",
        "      self.out += self.bias\n",
        "    return self.out\n",
        "\n",
        "  def parameters(self):\n",
        "    return [self.weight] + ([] if self.bias is None else [self.bias]) # return layer's tensors"
      ]
    },
    {
      "cell_type": "code",
      "execution_count": 67,
      "metadata": {
        "id": "ZMIWRR_4Fh4H"
      },
      "outputs": [],
      "source": [
        "class BatchNorm1d:\n",
        "\n",
        "  def __init__(self, dim, eps=1e-5, momentum=0.1):\n",
        "    self.eps = eps            # Epsilon set to PyTorch default, you may change it\n",
        "    self.momentum = momentum  # Momemtum set to PyTorch default, you may change it\n",
        "    self.training = True\n",
        "    # Initialize Parameters (trained with backprop)\n",
        "    # (bngain -> gamma, bnbias -> beta)\n",
        "    self.gamma = torch.ones(dim)\n",
        "    self.beta = torch.zeros(dim)\n",
        "    # Initialize Buffers\n",
        "    # (Trained with a running 'momentum update')\n",
        "    self.running_mean = torch.zeros(dim)\n",
        "    self.running_var = torch.ones(dim)\n",
        "\n",
        "\n",
        "  def __call__(self, x):\n",
        "    # Forward-Pass\n",
        "    if self.training:\n",
        "      xmean = x.mean(0, keepdim=True) # Batch mean\n",
        "      xvar = x.var(0, keepdim=True)   # Batch variance\n",
        "    else:\n",
        "      xmean = self.running_mean # Using the running mean as basis\n",
        "      xvar = self.running_var   # Using the running variance as basis\n",
        "\n",
        "    # Normalize to unit variance\n",
        "    xhat = (x - xmean) / torch.sqrt(xvar + self.eps)\n",
        "    self.out = self.gamma * xhat + self.beta  # Apply batch gain and bias\n",
        "\n",
        "    # Update the running buffers\n",
        "    if self.training:\n",
        "      with torch.no_grad():\n",
        "        self.running_mean = (1 - self.momentum) * self.running_mean + self.momentum * xmean\n",
        "        self.running_var = (1 - self.momentum) * self.running_var + self.momentum * xvar\n",
        "\n",
        "    return self.out\n",
        "\n",
        "\n",
        "  def parameters(self):\n",
        "    return [self.gamma, self.beta] # return layer's tensors"
      ]
    },
    {
      "cell_type": "code",
      "execution_count": 68,
      "metadata": {
        "id": "rCBqefS-FjsT"
      },
      "outputs": [],
      "source": [
        "# Similar to torch.tanh(), but Class-structure to make later steps easier\n",
        "class Tanh:\n",
        "  def __call__(self, x):\n",
        "    self.out = torch.tanh(x)\n",
        "    return self.out\n",
        "  def parameters(self):\n",
        "    return []"
      ]
    },
    {
      "cell_type": "code",
      "execution_count": 69,
      "metadata": {
        "colab": {
          "base_uri": "https://localhost:8080/"
        },
        "id": "DbsJ45XkEovX",
        "outputId": "6002c7c6-15a9-42de-eb12-462000f5d02b"
      },
      "outputs": [
        {
          "name": "stdout",
          "output_type": "stream",
          "text": [
            "47551\n"
          ]
        }
      ],
      "source": [
        "n_embd = 10 # the dimensionality of the character embedding vectors\n",
        "n_hidden = 100 # the number of neurons in the hidden layer of the MLP\n",
        "g = torch.Generator().manual_seed(2147483647) # for reproducibility\n",
        "\n",
        "C = torch.randn((vocab_size, n_embd), generator=g)\n",
        "\n",
        "layers = [Linear(n_embd * block_size, n_hidden), BatchNorm1d(n_hidden), Tanh(),\n",
        "          Linear(n_hidden, n_hidden), BatchNorm1d(n_hidden), Tanh(),\n",
        "          Linear(n_hidden, n_hidden), BatchNorm1d(n_hidden), Tanh(),\n",
        "          Linear(n_hidden, n_hidden), BatchNorm1d(n_hidden), Tanh(),\n",
        "          Linear(n_hidden, n_hidden), BatchNorm1d(n_hidden), Tanh(),\n",
        "          Linear(n_hidden, vocab_size), BatchNorm1d(vocab_size)]\n",
        "\n",
        "with torch.no_grad():\n",
        "  # Last layer: make less confident\n",
        "  layers[-1].gamma *= 0.1 # As last layer is a Batch-Normalization\n",
        "  # All other layers: apply gain\n",
        "  for layer in layers[:-1]:\n",
        "    if isinstance(layer, Linear):\n",
        "      layer.weight *= 1.0\n",
        "\n",
        "# Embedding matrix + all parameters in all layers = total involved parameters\n",
        "parameters = [C] + [p for layer in layers for p in layer.parameters()]\n",
        "print(f'Params: {sum(p.nelement() for p in parameters)}') # number of parameters in total\n",
        "\n",
        "# These parameters will be affected by backpropagation\n",
        "for p in parameters:\n",
        "  p.requires_grad = True"
      ]
    },
    {
      "cell_type": "code",
      "execution_count": 70,
      "metadata": {
        "colab": {
          "base_uri": "https://localhost:8080/"
        },
        "id": "3AbHwlROE1c0",
        "outputId": "f2f8e76c-92cc-4647-c331-ff45ed4b3d7c"
      },
      "outputs": [
        {
          "name": "stdout",
          "output_type": "stream",
          "text": [
            "      0/ 200000: 3.2958\n",
            "  10000/ 200000: 2.7882\n",
            "  20000/ 200000: 2.7518\n",
            "  30000/ 200000: 2.8506\n",
            "  40000/ 200000: 2.8221\n",
            "  50000/ 200000: 2.8987\n",
            "  60000/ 200000: 2.6038\n",
            "  70000/ 200000: 2.6751\n",
            "  80000/ 200000: 3.0131\n",
            "  90000/ 200000: 2.7753\n",
            " 100000/ 200000: 2.6079\n",
            " 110000/ 200000: 2.5273\n",
            " 120000/ 200000: 2.6690\n",
            " 130000/ 200000: 2.6426\n",
            " 140000/ 200000: 2.8423\n",
            " 150000/ 200000: 2.5484\n",
            " 160000/ 200000: 2.9788\n",
            " 170000/ 200000: 2.9535\n",
            " 180000/ 200000: 2.8622\n",
            " 190000/ 200000: 2.8513\n"
          ]
        }
      ],
      "source": [
        "# Same optimization as last time\n",
        "max_steps = 200000\n",
        "batch_size = 32\n",
        "lossi = [] # Keeping track of loss\n",
        "ud = []    # Keeping track of Update-to-Data ratio\n",
        "\n",
        "for i in range(max_steps):\n",
        "  # Minibatch construct\n",
        "  ix = torch.randint(0, Xtr.shape[0], (batch_size,), generator=g)\n",
        "  Xb, Yb = Xtr[ix], Ytr[ix] # batch X,Y\n",
        "\n",
        "  # Forward pass\n",
        "  emb = C[Xb] # embed the characters into vectors\n",
        "  x = emb.view(emb.shape[0], -1) # concatenate the vectors\n",
        "  for layer in layers:\n",
        "    x = layer(x)\n",
        "  loss = F.cross_entropy(x, Yb) # loss function\n",
        "\n",
        "  # Backward pass\n",
        "  for layer in layers:\n",
        "    layer.out.retain_grad() # AFTER_DEBUG: would take out retain_graph\n",
        "  for p in parameters:\n",
        "    p.grad = None\n",
        "  loss.backward()\n",
        "\n",
        "  # Update\n",
        "  lr = 0.1 if i < 150000 else 0.01 # step learning rate decay\n",
        "  for p in parameters:\n",
        "    p.data += -lr * p.grad\n",
        "\n",
        "  # Tracking the stats\n",
        "  if i % 10000 == 0: # Print every once in a while\n",
        "    print(f'{i:7d}/{max_steps:7d}: {loss.item():.4f}')\n",
        "  lossi.append(loss.log10().item())\n",
        "  with torch.no_grad():\n",
        "    ud.append([((lr*p.grad).std() / p.data.std()).log10().item() for p in parameters])"
      ]
    },
    {
      "cell_type": "markdown",
      "metadata": {
        "id": "K7-Cn2KRKlHS"
      },
      "source": [
        "This loss progression looks bad. The loss decreases from $3.2958$ at the start to approximately $2.5273$ at $110,000$ steps, but it then fluctuates in this region with no further improvement.\n",
        "\n",
        "However, this loss progression (be it a bad one) indicates some learning is happening. A completely non-functioning network would not show any improvement in loss."
      ]
    },
    {
      "cell_type": "code",
      "execution_count": 71,
      "metadata": {
        "colab": {
          "base_uri": "https://localhost:8080/",
          "height": 452
        },
        "id": "C3iGA_1pE3Op",
        "outputId": "5964c3ac-4207-4d16-efc8-d955a8423717"
      },
      "outputs": [
        {
          "name": "stdout",
          "output_type": "stream",
          "text": [
            "layer 2 (      Tanh): mean +0.00, std 0.00, saturated: 0.00%\n",
            "layer 5 (      Tanh): mean +0.00, std 0.00, saturated: 0.00%\n",
            "layer 8 (      Tanh): mean +0.00, std 0.00, saturated: 0.00%\n",
            "layer 11 (      Tanh): mean +0.00, std 0.00, saturated: 0.00%\n",
            "layer 14 (      Tanh): mean +0.00, std 0.00, saturated: 0.00%\n"
          ]
        },
        {
          "data": {
            "image/png": "[encoded data removed]",
            "text/plain": [
              "<Figure size 2000x400 with 1 Axes>"
            ]
          },
          "metadata": {},
          "output_type": "display_data"
        }
      ],
      "source": [
        "# Visualize histograms (forward pass activations) for the Tanh layers\n",
        "# This is the ideal graph, very homogeneous\n",
        "plt.figure(figsize=(20, 4)) # Width and height of the plot\n",
        "legends = []\n",
        "for i, layer in enumerate(layers[:-1]): # Note: Excluding the output layer\n",
        "  if isinstance(layer, Tanh):\n",
        "    t = layer.out\n",
        "    print('layer %d (%10s): mean %+.2f, std %.2f, saturated: %.2f%%' % (i, layer.__class__.__name__, t.mean(), t.std(), (t.abs() > 0.97).float().mean()*100))\n",
        "    hy, hx = torch.histogram(t, density=True)\n",
        "    plt.plot(hx[:-1].detach(), hy.detach())\n",
        "    legends.append(f'layer {i} ({layer.__class__.__name__})')\n",
        "plt.title('Activation Distribution')\n",
        "plt.legend(legends);"
      ]
    },
    {
      "cell_type": "markdown",
      "metadata": {
        "id": "yiy7RfoNNCN1"
      },
      "source": [
        "The activation distribution looks terrible, but we really called this upon ourselves. Here's why:\n",
        "\n",
        "Every `Linear` layer computes its output as $output = W\\cdot x + b$.<br>\n",
        "Since $W=0$ and $b=0$ for each `Linear` layer, this output is always zero, which is also zero when activated with $\\text{Tanh}$.\n",
        "\n",
        "The `Linear` neurons are not getting activated at all, at any point, and cannot contribute meaningful information to the network's output formulation, but just 'scream' zero any time we want anything from them."
      ]
    },
    {
      "cell_type": "code",
      "execution_count": 72,
      "metadata": {
        "colab": {
          "base_uri": "https://localhost:8080/",
          "height": 452
        },
        "id": "YbAcwyojE-Yr",
        "outputId": "fcba481c-fead-455e-92ab-848651960f6e"
      },
      "outputs": [
        {
          "name": "stdout",
          "output_type": "stream",
          "text": [
            "layer 2 (      Tanh): mean +0.000000, std 0.000000e+00\n",
            "layer 5 (      Tanh): mean +0.000000, std 0.000000e+00\n",
            "layer 8 (      Tanh): mean +0.000000, std 0.000000e+00\n",
            "layer 11 (      Tanh): mean +0.000000, std 0.000000e+00\n",
            "layer 14 (      Tanh): mean +0.000000, std 0.000000e+00\n"
          ]
        },
        {
          "data": {
            "image/png": "[encoded data removed]",
            "text/plain": [
              "<Figure size 2000x400 with 1 Axes>"
            ]
          },
          "metadata": {},
          "output_type": "display_data"
        }
      ],
      "source": [
        "# Visualize Gradient Histogram (this graph looks good)\n",
        "plt.figure(figsize=(20, 4)) # width and height of the plot\n",
        "legends = []\n",
        "for i, layer in enumerate(layers[:-1]): # note: exclude the output layer\n",
        "  if isinstance(layer, Tanh):\n",
        "    t = layer.out.grad\n",
        "    print('layer %d (%10s): mean %+f, std %e' % (i, layer.__class__.__name__, t.mean(), t.std()))\n",
        "    hy, hx = torch.histogram(t, density=True)\n",
        "    plt.plot(hx[:-1].detach(), hy.detach())\n",
        "    legends.append(f'layer {i} ({layer.__class__.__name__}')\n",
        "plt.title('Gradient Distribution')\n",
        "plt.legend(legends);"
      ]
    },
    {
      "cell_type": "markdown",
      "metadata": {
        "id": "xt9gQWnxOOCn"
      },
      "source": [
        "Since the `Linear` neurons always produce a zero (activated) output, the gradients flowing through these layers will also be multiplied to death with this $0$. Our model as it is right now consists of mostly dead layers, those being all the `Linear` ones.\n",
        "\n",
        "**But then why do we see some sort of decline in error during training?**\n",
        "\n",
        "The embedding matrix `C` is likely the primary contributor to learning.\n",
        "You may think that this can't be, because backprop would hit its head on all the zero-squashing `Linear` layers before even reaching and optimizing `C`.\n",
        "\n",
        "But we have batch normalization.\n",
        "\n",
        "More specifically, each `Linear` layer is directly followed by a `BatchNorm1d`, which itself introduces trainable parameters (`gamma` and `beta`).<br>\n",
        "Therefore, even if the weights in `Linear` layers are dead/stagnant/zero, the `BatchNorm1d` parameters may train and adapt, providing some tiny learning capacity to the (overall few) parameters in `C`.\n",
        "\n",
        "`BatchNorm1d` involuntarily helps some gradient information bypass the abyss that is each `Linear` layer. Therefore, training still indeed occurs in each `BatchNorm1d`'s `gramma` and `beta`, and because of that, a tiny amount of gradient information also propagates up to train `C`.\n",
        "\n",
        "We can thus conclude that out of the three possible outcomes, we observe the third one:<br>\n",
        "The network trains but only partially, and it achieves a pretty bad final performance."
      ]
    },
    {
      "cell_type": "markdown",
      "metadata": {
        "id": "GSmgjdHUY5Em"
      },
      "source": [
        "## Exercise 2 - Folding BatchNorm\n",
        "\n",
        "**Objective:** BatchNorm, unlike other normalization layers like LayerNorm/GroupNorm etc. has the big advantage that after training, the BatchNorm gamma/beta can be \"folded into\" the weights of the preceeding Linear layers, effectively erasing the need to forward it at test time.<br>\n",
        "- Set up a small $3$-layer MLP with BatchNorms,\n",
        "- Train the network, then\n",
        "- \"fold\" the BatchNorm gamma/beta into the preceeding `Linear` layer's $W,\\ b$ by creating a new $W2,\\ b2$ and erasing the BatchNorm.\n",
        "- Verify that this gives the same forward pass during inference.\n",
        "\n",
        "We will see that the BatchNorm is there just for stabilizing the training, and can be thrown out after training is done! pretty cool."
      ]
    },
    {
      "cell_type": "markdown",
      "metadata": {
        "id": "e5B93Yh-X4ZM"
      },
      "source": [
        "Going step by step, first, we should re-activate the `Linear` layer class from last exercise:"
      ]
    },
    {
      "cell_type": "code",
      "execution_count": 78,
      "metadata": {
        "id": "OxRbGV53X3ks"
      },
      "outputs": [],
      "source": [
        "# Linear Layer Definition (mimicing torch.nn.Linear's structure)\n",
        "class Linear:\n",
        "\n",
        "  def __init__(self, fan_in, fan_out, bias=True):\n",
        "    self.weight = torch.randn((fan_in, fan_out), generator=g) / fan_in ** 0.5\n",
        "    #self.weight = torch.zeros(fan_in, fan_out)\n",
        "    self.bias = torch.zeros(fan_out) if bias else None # Biases are optional here\n",
        "\n",
        "  def __call__(self, x):\n",
        "    self.out = x @ self.weight # W*x\n",
        "    if self.bias is not None:  # Add biases if so desired\n",
        "      self.out += self.bias\n",
        "    return self.out\n",
        "\n",
        "  def parameters(self):\n",
        "    return [self.weight] + ([] if self.bias is None else [self.bias]) # return layer's tensors"
      ]
    },
    {
      "cell_type": "markdown",
      "metadata": {
        "id": "kHQTEdJWYoyv"
      },
      "source": [
        "The $3$-layer model can be cut out of the above model like so:"
      ]
    },
    {
      "cell_type": "code",
      "execution_count": 79,
      "metadata": {
        "colab": {
          "base_uri": "https://localhost:8080/"
        },
        "id": "sbMDpHfjYCl1",
        "outputId": "62beb1aa-bdf8-4300-89ce-aa5fed259101"
      },
      "outputs": [
        {
          "name": "stdout",
          "output_type": "stream",
          "text": [
            "Params: 16651\n"
          ]
        }
      ],
      "source": [
        "n_embd = 10 # the dimensionality of the character embedding vectors\n",
        "n_hidden = 100 # the number of neurons in the hidden layer of the MLP\n",
        "g = torch.Generator().manual_seed(2147483647) # for reproducibility\n",
        "\n",
        "C = torch.randn((vocab_size, n_embd), generator=g)\n",
        "\n",
        "layers = [Linear(n_embd * block_size, n_hidden), BatchNorm1d(n_hidden), Tanh(),\n",
        "          Linear(n_hidden, n_hidden), BatchNorm1d(n_hidden), Tanh(),\n",
        "          Linear(n_hidden, vocab_size), BatchNorm1d(vocab_size)]\n",
        "\n",
        "with torch.no_grad():\n",
        "  # Last layer: make less confident\n",
        "  layers[-1].gamma *= 0.1 # As last layer is a Batch-Normalization\n",
        "  # All other layers: apply gain\n",
        "  for layer in layers[:-1]:\n",
        "    if isinstance(layer, Linear):\n",
        "      layer.weight *= 1.0\n",
        "\n",
        "# Embedding matrix + all parameters in all layers = total involved parameters\n",
        "parameters = [C] + [p for layer in layers for p in layer.parameters()]\n",
        "print(f'Params: {sum(p.nelement() for p in parameters)}') # number of parameters in total\n",
        "\n",
        "# These parameters will be affected by backpropagation\n",
        "for p in parameters:\n",
        "  p.requires_grad = True"
      ]
    },
    {
      "cell_type": "markdown",
      "metadata": {
        "id": "fUC8FezpY5qD"
      },
      "source": [
        "We apply the exact same training routine as before:"
      ]
    },
    {
      "cell_type": "code",
      "execution_count": 80,
      "metadata": {
        "colab": {
          "base_uri": "https://localhost:8080/"
        },
        "id": "rZmyb6FtYbxw",
        "outputId": "7caa69d3-f75d-433c-dac7-481637db170b"
      },
      "outputs": [
        {
          "name": "stdout",
          "output_type": "stream",
          "text": [
            "      0/ 200000: 3.3138\n",
            "  10000/ 200000: 2.7694\n",
            "  20000/ 200000: 2.2692\n",
            "  30000/ 200000: 2.2127\n",
            "  40000/ 200000: 2.2313\n",
            "  50000/ 200000: 2.0179\n",
            "  60000/ 200000: 1.7573\n",
            "  70000/ 200000: 2.0154\n",
            "  80000/ 200000: 2.2664\n",
            "  90000/ 200000: 1.8668\n",
            " 100000/ 200000: 1.9899\n",
            " 110000/ 200000: 1.9657\n",
            " 120000/ 200000: 2.3100\n",
            " 130000/ 200000: 1.9577\n",
            " 140000/ 200000: 1.8609\n",
            " 150000/ 200000: 1.9832\n",
            " 160000/ 200000: 2.2560\n",
            " 170000/ 200000: 1.8296\n",
            " 180000/ 200000: 2.3550\n",
            " 190000/ 200000: 2.1229\n"
          ]
        }
      ],
      "source": [
        "# Same optimization as last time\n",
        "max_steps = 200000\n",
        "batch_size = 32\n",
        "lossi = [] # Keeping track of loss\n",
        "ud = []    # Keeping track of Update-to-Data ratio\n",
        "\n",
        "for i in range(max_steps):\n",
        "  # Minibatch construct\n",
        "  ix = torch.randint(0, Xtr.shape[0], (batch_size,), generator=g)\n",
        "  Xb, Yb = Xtr[ix], Ytr[ix] # batch X,Y\n",
        "\n",
        "  # Forward pass\n",
        "  emb = C[Xb] # embed the characters into vectors\n",
        "  x = emb.view(emb.shape[0], -1) # concatenate the vectors\n",
        "  for layer in layers:\n",
        "    x = layer(x)\n",
        "  loss = F.cross_entropy(x, Yb) # loss function\n",
        "\n",
        "  # Backward pass\n",
        "  for layer in layers:\n",
        "    layer.out.retain_grad() # AFTER_DEBUG: would take out retain_graph\n",
        "  for p in parameters:\n",
        "    p.grad = None\n",
        "  loss.backward()\n",
        "\n",
        "  # Update\n",
        "  lr = 0.1 if i < 150000 else 0.01 # step learning rate decay\n",
        "  for p in parameters:\n",
        "    p.data += -lr * p.grad\n",
        "\n",
        "  # Tracking the stats\n",
        "  if i % 10000 == 0: # Print every once in a while\n",
        "    print(f'{i:7d}/{max_steps:7d}: {loss.item():.4f}')\n",
        "  lossi.append(loss.log10().item())\n",
        "  with torch.no_grad():\n",
        "    ud.append([((lr*p.grad).std() / p.data.std()).log10().item() for p in parameters])"
      ]
    },
    {
      "cell_type": "markdown",
      "metadata": {
        "id": "U0lPQ360ZNaB"
      },
      "source": [
        "**Now, what does it mean to fold the BatchNorm gamma/beta into the preceeding layer's weights and biases?**\n",
        "\n",
        "As a reminder, this is how BatchNorm is formulated:<br>\n",
        "![](./img/batch_norm_recipe.PNG)\n",
        "\n",
        "$\\gamma$ and $\\beta$ are the trainable parameters of the `BatchNorm1d` layer.<br>\n",
        "$\\mu$ and $\\sigma$ are the mean and standard deviation of the batch, respectively.<br>\n",
        "They are the statistics that are used to normalize the batch.\n",
        "\n",
        "The respectively preceeding linear layer is $y = W * x + b$.<br>\n",
        "Now, folding effectively combines the `BatchNorm1d` layer into the `Linear` layer, so that the dedicated `BatchNorm1d` layer is no longer needed.\n",
        "\n",
        "We can formulate such a folded layer as:<br>\n",
        "$W_{\\text{folded}} = W \\cdot (\\gamma / \\sqrt{\\sigma² + \\epsilon})$, which approximates $W_{\\text{folded}} = W \\cdot (\\gamma / \\sigma)$<br>\n",
        "$b_{\\text{folded}} = (b - \\mu) \\cdot (\\gamma / \\sqrt{\\sigma² + \\epsilon}) + \\beta$\n",
        "\n",
        "A more detailed description would be (also refer to [forums.fast.ai](https://forums.fast.ai/t/faster-inference-batch-normalization-folding/69161)):\n",
        "\n",
        "The linear layer $y = W * x + b$ is followed by the BatchNorm1d layer $BN(y) = \\gamma \\cdot \\frac{y - \\mu}{\\sqrt{\\sigma^2 + \\epsilon}} + \\beta$.<br>\n",
        "This succession is expressed as:<br>\n",
        "$BN(Wx + b) = \\gamma \\cdot \\frac{(Wx + b) - \\mu}{\\sqrt{\\sigma^2 + \\epsilon}} + \\beta$.<br>\n",
        "Re-arranging these terms to match the shape of $y = W * x + b$ yields:<br>\n",
        "$BN(Wx + b) = (\\gamma \\cdot \\frac{W}{\\sqrt{\\sigma^2 + \\epsilon}})x + (\\gamma \\cdot \\frac{b - \\mu}{\\sqrt{\\sigma^2 + \\epsilon}} + \\beta)$.<br><br>\n",
        "And finally, moving the terms $W$ and $(b - \\mu)$ outside the parentheses produces the terms from above:<br>\n",
        "$$BN(Wx + b) = \\underbrace{(W \\cdot (\\gamma / \\sqrt{\\sigma² + \\epsilon}))}_{W_{\\text{folded}}} * x + \\underbrace{((b - \\mu) \\cdot (\\gamma / \\sqrt{\\sigma² + \\epsilon}) + \\beta)}_{b_{\\text{folded}}}$$"
      ]
    },
    {
      "cell_type": "code",
      "execution_count": 108,
      "metadata": {
        "id": "vkcj0t9EZ8MX"
      },
      "outputs": [],
      "source": [
        "# Folding BatchNorm1d layers into their preceeding Linear layers\n",
        "folded_layers = []\n",
        "i = 0\n",
        "\n",
        "while i < len(layers):\n",
        "    if (isinstance(layers[i], Linear) and i + 1 < len(layers) and isinstance(layers[i + 1], BatchNorm1d)):\n",
        "        # Retrieve the Linear and BatchNorm1d layers\n",
        "        linear, bn = layers[i], layers[i + 1]\n",
        "        \n",
        "        # Turn off training mode for BatchNorm1d\n",
        "        bn.training = False\n",
        "\n",
        "        # Retrieve parameters, setup some space for the bias if not exists\n",
        "        W = linear.weight\n",
        "        b = linear.bias if linear.bias is not None else torch.zeros(linear.weight.shape[1])\n",
        "\n",
        "        # Compute the scaling factor\n",
        "        std = torch.sqrt(bn.running_var + bn.eps)\n",
        "        scale = bn.gamma / std\n",
        "\n",
        "        # Fold BatchNorm into Linear weights and biases\n",
        "        # Won't name them W2, b2; That would just make things more confusing\n",
        "        # W_folded and b_folded it is\n",
        "        W_folded = W * scale.view(1, -1) # Broadcasting across input dim\n",
        "        b_folded = (b - bn.running_mean) * scale + bn.beta\n",
        "\n",
        "        # Build new folded parameter Linear layer\n",
        "        folded_linear = Linear(W.shape[0], W.shape[1])\n",
        "        with torch.no_grad():\n",
        "            folded_linear.weight = torch.nn.Parameter(W_folded)\n",
        "            folded_linear.bias = torch.nn.Parameter(b_folded)\n",
        "\n",
        "        folded_layers.append(folded_linear)\n",
        "        i += 2  # Skip this procedure for the BatchNorm layer\n",
        "    else:\n",
        "        # Transfer the layer as-is, it's non-foldable\n",
        "        folded_layers.append(layers[i])\n",
        "        i += 1"
      ]
    },
    {
      "cell_type": "code",
      "execution_count": 109,
      "metadata": {
        "colab": {
          "base_uri": "https://localhost:8080/"
        },
        "id": "P5FbNCE8jjb3",
        "outputId": "d56b65d9-bf9d-499b-cbb7-4a7b5b3e1e50"
      },
      "outputs": [
        {
          "name": "stdout",
          "output_type": "stream",
          "text": [
            "Success! BatchNorm folding is correct.\n"
          ]
        }
      ],
      "source": [
        "# Some random input\n",
        "dummy_inp = torch.randn((batch_size, n_embd * block_size))\n",
        "\n",
        "# Verify the folding correctness\n",
        "with torch.no_grad():\n",
        "    # Set BatchNorm1d layers to eval mode while forward passing\n",
        "    x_unfolded = dummy_inp\n",
        "    for layer in layers:\n",
        "        if isinstance(layer, BatchNorm1d):\n",
        "            layer.training = False\n",
        "        x_unfolded = layer(x_unfolded)\n",
        "\n",
        "    # Forward pass through folded model\n",
        "    # No need for eval mode, as we deleted BatchNorm1d\n",
        "    x_folded = dummy_inp\n",
        "    for layer in folded_layers:\n",
        "        x_folded = layer(x_folded)\n",
        "\n",
        "    if torch.allclose(x_unfolded, x_folded, atol=1e-5):\n",
        "        print(\"Success! BatchNorm folding is correct.\")\n",
        "    else:\n",
        "        print(\"Failure! Outputs mismatch within tolerance.\")"
      ]
    },
    {
      "cell_type": "markdown",
      "metadata": {
        "id": "6tBJn2S0Y5Em"
      },
      "source": [
        "<center>Notebook by <a href=\"https://github.com/mk2112\" target=\"_blank\">mk2112</a>.</center>"
      ]
    }
  ],
  "metadata": {
    "colab": {
      "provenance": []
    },
    "kernelspec": {
      "display_name": "ai",
      "language": "python",
      "name": "python3"
    },
    "language_info": {
      "codemirror_mode": {
        "name": "ipython",
        "version": 3
      },
      "file_extension": ".py",
      "mimetype": "text/x-python",
      "name": "python",
      "nbconvert_exporter": "python",
      "pygments_lexer": "ipython3",
      "version": "3.12.2"
    }
  },
  "nbformat": 4,
  "nbformat_minor": 0
}
