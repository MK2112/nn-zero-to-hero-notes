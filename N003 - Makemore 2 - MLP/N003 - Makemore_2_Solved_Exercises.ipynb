{
  "cells": [
    {
      "cell_type": "markdown",
      "metadata": {
        "id": "xwY-4mSMSV67"
      },
      "source": [
        "# Makemore 2 - Exercises\n",
        "\n",
        "Notes on the exercises from the [makemore #2 video](https://www.youtube.com/watch?v=TCH_1BHY58I).<br>\n",
        "The video description holds the exercises, which are also listed below.<br>\n",
        "Feel free to try solving on your own first using [this starter notebook](./N003%20-%20Makemore_2_Exercises.ipynb).\n",
        "\n",
        "1. Watch the [makemore #2 video](https://www.youtube.com/watch?v=TCH_1BHY58I) on YouTube\n",
        "2. Come back and complete the exercises to level up :)"
      ]
    },
    {
      "cell_type": "markdown",
      "metadata": {
        "id": "g0QRD_J-SV6-"
      },
      "source": [
        "## Exercise 1 - Beating the Game\n",
        "\n",
        "**Objective:** Tune the hyperparameters of the training to beat Andrej's best validation loss of $2.2$.<br>\n",
        "Note that I already solved this in the documenting notebook with a validation loss of $2.15$. I will try to beat my own bar here."
      ]
    },
    {
      "cell_type": "code",
      "execution_count": 1,
      "metadata": {
        "id": "gvwxSgOSSV6_"
      },
      "outputs": [
        {
          "name": "stderr",
          "output_type": "stream",
          "text": [
            "Matplotlib is building the font cache; this may take a moment.\n"
          ]
        }
      ],
      "source": [
        "import tqdm\n",
        "import random\n",
        "import torch\n",
        "import torch.nn.functional as F\n",
        "import matplotlib.pyplot as plt\n",
        "%matplotlib inline\n",
        "\n",
        "device = torch.device(\"cuda:0\" if torch.cuda.is_available() else \"cpu\") # Use GPU if available"
      ]
    },
    {
      "cell_type": "code",
      "execution_count": 2,
      "metadata": {
        "colab": {
          "base_uri": "https://localhost:8080/"
        },
        "id": "4NdaQAYiSV7C",
        "outputId": "3617e214-0521-485c-eacd-d874b97f3cda"
      },
      "outputs": [
        {
          "name": "stdout",
          "output_type": "stream",
          "text": [
            "['emma', 'olivia', 'ava', 'isabella', 'sophia']\n",
            "32033\n"
          ]
        }
      ],
      "source": [
        "# read in all 32033 words\n",
        "words = open('../names.txt', 'r').read().splitlines()\n",
        "print(words[:5]) # show a sample of the first 8 names\n",
        "print(len(words)) # this many words in total"
      ]
    },
    {
      "cell_type": "code",
      "execution_count": 3,
      "metadata": {
        "id": "EGLxHhKDSV7F"
      },
      "outputs": [],
      "source": [
        "# build a vocabulary of characters map them to integers\n",
        "chars = sorted(list(set(''.join(words)))) # set(): Throwing out letter duplicates\n",
        "stoi = {s:i+1 for i,s in enumerate(chars)} # Make tupels of type (char, counter)\n",
        "stoi['.'] = 0 # Add this special symbol's entry explicitly\n",
        "itos = {i:s for s,i in stoi.items()} # Switch order of (char, counter) to (counter, char)"
      ]
    },
    {
      "cell_type": "code",
      "execution_count": 4,
      "metadata": {
        "colab": {
          "base_uri": "https://localhost:8080/"
        },
        "id": "EyyNJQWVSV7F",
        "outputId": "ff79eca4-07b2-4553-c863-bb6c43e13bc1"
      },
      "outputs": [
        {
          "name": "stdout",
          "output_type": "stream",
          "text": [
            "Training Set:\n",
            "X: torch.Size([182625, 3]) \tY: torch.Size([182625])\n",
            "Validation Set:\n",
            "X: torch.Size([22655, 3]) \tY: torch.Size([22655])\n",
            "Test Set:\n",
            "X: torch.Size([22866, 3]) \tY: torch.Size([22866])\n"
          ]
        }
      ],
      "source": [
        "block_size = 3\n",
        "\n",
        "def build_dataset(words):\n",
        "    X, Y = [], []\n",
        "\n",
        "    for w in words:\n",
        "        context = [0] * block_size\n",
        "        for ch in w + '.':\n",
        "            ix = stoi[ch]\n",
        "            X.append(context)\n",
        "            Y.append(ix)\n",
        "            context = context[1:] + [ix] # crop and append\n",
        "\n",
        "    X = torch.tensor(X)\n",
        "    Y = torch.tensor(Y)\n",
        "    print('X:', X.shape, '\\tY:', Y.shape)\n",
        "    return X,Y\n",
        "\n",
        "random.seed(42)          # for reproducibility\n",
        "random.shuffle(words)    # words is just the bare list of all names, from wayyy above\n",
        "n1 = int(0.8*len(words)) # index at 80% of all words (rounded for integer indexing)\n",
        "n2 = int(0.9*len(words)) # index at 90% of all words (rounded for integer indexing)\n",
        "\n",
        "print('Training Set:')\n",
        "Xtr, Ytr = build_dataset(words[:n1])     # The first 80% of all words\n",
        "print('Validation Set:')\n",
        "Xdev, Ydev = build_dataset(words[n1:n2]) # The 10% from 80% to 90% of all words\n",
        "print('Test Set:')\n",
        "Xte, Yte = build_dataset(words[n2:])     # The 10% from 90% to 100% of all words"
      ]
    },
    {
      "cell_type": "code",
      "execution_count": 97,
      "metadata": {
        "colab": {
          "base_uri": "https://localhost:8080/"
        },
        "id": "k4XtMZO1SV7H",
        "outputId": "37fd077b-4b27-42ae-a82d-0cb30661bddf"
      },
      "outputs": [
        {
          "name": "stdout",
          "output_type": "stream",
          "text": [
            "18167 parameters\n"
          ]
        }
      ],
      "source": [
        "g = torch.Generator().manual_seed(2147483647) # for reproducibility\n",
        "C = torch.randn((27, 20), generator=g)\n",
        "W1 = torch.randn((block_size * 20, 200), generator=g)\n",
        "b1 = torch.randn((200), generator=g)\n",
        "W2 = torch.randn((200,27), generator=g)\n",
        "b2 = torch.randn((27), generator=g)\n",
        "\n",
        "parameters = [C, W1, b1, W2, b2] # Cluster all parameters into one structure\n",
        "\n",
        "print(sum(p.nelement() for p in parameters), 'parameters')\n",
        "\n",
        "for p in parameters:\n",
        "    p.requires_grad = True\n",
        "\n",
        "lossi = []\n",
        "stepi = []"
      ]
    },
    {
      "cell_type": "code",
      "execution_count": 98,
      "metadata": {
        "colab": {
          "base_uri": "https://localhost:8080/"
        },
        "id": "agdzIB1sSV7I",
        "outputId": "d4705f10-d20e-417d-88d9-6135bc1bc5d4"
      },
      "outputs": [
        {
          "name": "stderr",
          "output_type": "stream",
          "text": [
            "100%|██████████| 400000/400000 [09:15<00:00, 720.38it/s]\n"
          ]
        }
      ],
      "source": [
        "epochs = 400_000\n",
        "\n",
        "for i in tqdm.tqdm(range(epochs)):\n",
        "    # mini-batch construct\n",
        "    ix = torch.randint(0, Xtr.shape[0], (128,)) # Batch size was 32 before, now 128\n",
        "\n",
        "    # Forward-Pass\n",
        "    emb = C[Xtr[ix]] # (32, 3, 10)\n",
        "    h1 = torch.tanh(emb.view(-1, block_size * 20) @ W1 + b1) # (32, 300)\n",
        "    logits = h1 @ W2 + b2 # (32, 50)\n",
        "    loss = F.cross_entropy(logits, Ytr[ix]) # (32,)\n",
        "\n",
        "    # Backward-Pass\n",
        "    for p in parameters:\n",
        "        p.grad = None\n",
        "    loss.backward()\n",
        "\n",
        "    if i < 0.1 * epochs:\n",
        "      lr = 0.3\n",
        "    elif i < 0.2 * epochs:\n",
        "      lr = 0.1\n",
        "    elif i < 0.4 * epochs:\n",
        "      lr = 0.06\n",
        "    else:\n",
        "      lr = 0.03\n",
        "\n",
        "    for p in parameters:\n",
        "        p.data += -lr * p.grad\n",
        "\n",
        "    stepi.append(i)\n",
        "    lossi.append(loss.log10().item())\n",
        "\n",
        "# print('Loss for current mini-batch:', loss.item())"
      ]
    },
    {
      "cell_type": "code",
      "execution_count": 99,
      "metadata": {
        "colab": {
          "base_uri": "https://localhost:8080/",
          "height": 430
        },
        "id": "mqMnY-nuSV7J",
        "outputId": "5a855626-cd6d-47e0-a8dc-c612d25c9bf8"
      },
      "outputs": [
        {
          "data": {
            "image/png": "[encoded data removed]",
            "text/plain": [
              "<Figure size 640x480 with 1 Axes>"
            ]
          },
          "metadata": {},
          "output_type": "display_data"
        }
      ],
      "source": [
        "plt.plot(stepi, lossi);"
      ]
    },
    {
      "cell_type": "code",
      "execution_count": 100,
      "metadata": {
        "colab": {
          "base_uri": "https://localhost:8080/"
        },
        "id": "vVf-jpopSV7J",
        "outputId": "a67b9685-9046-4d46-bb2e-eaea2b42016b"
      },
      "outputs": [
        {
          "name": "stdout",
          "output_type": "stream",
          "text": [
            "2.1354410648345947\n"
          ]
        }
      ],
      "source": [
        "# Validation loss\n",
        "emb = C[Xdev] # (32, 3, 2)\n",
        "h = torch.tanh(emb.view(-1, block_size * 20) @ W1 + b1) # (32, 300)\n",
        "logits = h @ W2 + b2 # (32, 27)\n",
        "loss = F.cross_entropy(logits, Ydev)\n",
        "print(loss.item())"
      ]
    },
    {
      "cell_type": "markdown",
      "metadata": {
        "id": "cSFOgdHt0GtP"
      },
      "source": [
        "I applied the following changes to my model and training setup:\n",
        "- Increased the head size from $30$ to $60$,\n",
        "- Increased overall learning rates,\n",
        "- Added another learning rate scheduling step,\n",
        "- Increased epoch count from $300\\text{k}$ to $400\\text{k}$.\n",
        "\n",
        "This gets us a validation loss of $2.135$."
      ]
    },
    {
      "cell_type": "markdown",
      "metadata": {
        "id": "ibAK6Xq_0sTW"
      },
      "source": [
        "## Exercise 2 - Weight Initialization\n",
        "\n",
        "**Objective:** I was not careful with the intialization of the network in this video.<br>\n",
        "**(1)** What is the loss you'd get if the predicted probabilities at initialization were perfectly uniform? What loss do we achieve?<br>\n",
        "**(2)** Can you tune the initialization to get a starting loss that is much more similar to (1)?"
      ]
    },
    {
      "cell_type": "markdown",
      "metadata": {
        "id": "AQyE_2eN2NtZ"
      },
      "source": [
        "A perfectly uniform setting would attribute a likelihood of $\\frac{1}{27}$ for picking any of the possible characters as next character. For the drawing of a single next character, we can calculate the expectable cross entropy loss as: $$-log(\\frac{1}{27}) = log(27) \\approx \\underline{\\underline{3.295837}}$$\n",
        "\n",
        "**Why did I write it like this?**<br>\n",
        "Generally, [cross-entropy loss is formulated like so](https://www.datacamp.com/tutorial/the-cross-entropy-loss-function-in-machine-learning):\n",
        "$$L = -\\sum_{c=1}^N y_c \\cdot log(p_c)$$\n",
        "\n",
        "where\n",
        "- $N$ is the count of different characters,\n",
        "- $y_c$ is the label, the ground truth probability for each possible class $c$,\n",
        "- $p_c$ is the predicted probability for the sample to be part of class $c$.\n",
        "\n",
        "The ground truth in our case clearly defines a single character to be the next character. This character class has $y_c = 1$, all others have $y_c = 0$. Therefore, the loss only really is derived from the difference of what $y_c$ on the correct class expects (which is a probability of $1$) versus what the model-assigned as probability $p_c$. And this is where the above writing style came from, because as this is the case for our setup, we can rewrite the cross-entropy loss as:\n",
        "$$L = -log(p_c)$$"
      ]
    },
    {
      "cell_type": "code",
      "execution_count": 102,
      "metadata": {
        "colab": {
          "base_uri": "https://localhost:8080/"
        },
        "id": "ah_srUDT73ij",
        "outputId": "900a1e1e-5fa5-4c58-e800-493468a820fc"
      },
      "outputs": [
        {
          "name": "stdout",
          "output_type": "stream",
          "text": [
            "Actual Initial Loss: 1.449777603149414\n"
          ]
        }
      ],
      "source": [
        "print(f'Actual Initial Loss: {lossi[0]}')"
      ]
    },
    {
      "cell_type": "markdown",
      "metadata": {
        "id": "F2oWnxkh7471"
      },
      "source": [
        "We happen to get a much better loss, but this indicates that from the start, without any information, the model contains some sort of non-uniform distribution that induces some random bias. We profit from that here, luckily enough, but this is rather uncontrollable behavior we have to overcome first to only then be able to thoroughly adapt the distributions to represent internals of the training data.<br>\n",
        "In short, we should get rid of this behavior."
      ]
    },
    {
      "cell_type": "markdown",
      "metadata": {
        "id": "DJb2vRXR831O"
      },
      "source": [
        "An intuitive way to combat unwanted weight distributions is to not give such distributions too large of a stage to occupy in the first place. In other words, we would scale our randomly initialized weights down to reduce the unwanted side effects and start out with fully zero-ed out biases. Unlike zero-ed out weight terms, these bias terms can still easily develop into meaningful expressions during training.\n",
        "\n",
        "If you want to learn more about this, refer to the documentation notebooks 3 and 5.\n",
        "\n",
        "Our updated, 'squashed' initialization looks like this now:"
      ]
    },
    {
      "cell_type": "code",
      "execution_count": 103,
      "metadata": {
        "colab": {
          "base_uri": "https://localhost:8080/"
        },
        "id": "AfFDWGyr9N-w",
        "outputId": "f41cec9f-7db7-498e-fc94-f6231ced26f8"
      },
      "outputs": [
        {
          "name": "stdout",
          "output_type": "stream",
          "text": [
            "18167 parameters\n"
          ]
        }
      ],
      "source": [
        "scaling_factor = 0.01\n",
        "g = torch.Generator().manual_seed(2147483647) # for reproducibility\n",
        "C = torch.randn((27, 20), generator=g) * scaling_factor\n",
        "W1 = torch.randn((block_size * 20, 200), generator=g) * scaling_factor\n",
        "b1 = torch.zeros((200))\n",
        "W2 = torch.randn((200, 27), generator=g) * scaling_factor\n",
        "b2 = torch.zeros((27))  # Zero biases\n",
        "\n",
        "parameters = [C, W1, b1, W2, b2] # Cluster all parameters into one structure\n",
        "\n",
        "print(sum(p.nelement() for p in parameters), 'parameters')\n",
        "\n",
        "for p in parameters:\n",
        "    p.requires_grad = True\n",
        "\n",
        "lossi = []\n",
        "stepi = []"
      ]
    },
    {
      "cell_type": "code",
      "execution_count": 104,
      "metadata": {
        "colab": {
          "base_uri": "https://localhost:8080/"
        },
        "id": "QJGSlRT2-pls",
        "outputId": "fd865f06-7405-486e-c8be-23f39eea9655"
      },
      "outputs": [
        {
          "name": "stderr",
          "output_type": "stream",
          "text": [
            "100%|██████████| 400000/400000 [09:37<00:00, 692.39it/s]\n"
          ]
        }
      ],
      "source": [
        "epochs = 400_000\n",
        "\n",
        "for i in tqdm.tqdm(range(epochs)):\n",
        "    # mini-batch construct\n",
        "    ix = torch.randint(0, Xtr.shape[0], (128,)) # Batch size was 32 before, now 128\n",
        "\n",
        "    # Forward-Pass\n",
        "    emb = C[Xtr[ix]] # (32, 3, 10)\n",
        "    h1 = torch.tanh(emb.view(-1, block_size * 20) @ W1 + b1) # (32, 300)\n",
        "    logits = h1 @ W2 + b2 # (32, 50)\n",
        "    loss = F.cross_entropy(logits, Ytr[ix]) # (32,)\n",
        "\n",
        "    # Backward-Pass\n",
        "    for p in parameters:\n",
        "        p.grad = None\n",
        "    loss.backward()\n",
        "\n",
        "    if i < 0.1 * epochs:\n",
        "      lr = 0.3\n",
        "    elif i < 0.2 * epochs:\n",
        "      lr = 0.1\n",
        "    elif i < 0.4 * epochs:\n",
        "      lr = 0.06\n",
        "    else:\n",
        "      lr = 0.03\n",
        "\n",
        "    for p in parameters:\n",
        "        p.data += -lr * p.grad\n",
        "\n",
        "    stepi.append(i)\n",
        "    lossi.append(loss.log10().item())"
      ]
    },
    {
      "cell_type": "code",
      "execution_count": 105,
      "metadata": {
        "colab": {
          "base_uri": "https://localhost:8080/",
          "height": 430
        },
        "id": "K2DvV38u-zPU",
        "outputId": "7e925998-afee-4ab1-8f66-7349292849ab"
      },
      "outputs": [
        {
          "data": {
            "image/png": "[encoded data removed]",
            "text/plain": [
              "<Figure size 640x480 with 1 Axes>"
            ]
          },
          "metadata": {},
          "output_type": "display_data"
        }
      ],
      "source": [
        "plt.plot(stepi, lossi);"
      ]
    },
    {
      "cell_type": "code",
      "execution_count": 106,
      "metadata": {
        "colab": {
          "base_uri": "https://localhost:8080/"
        },
        "id": "kNbgz8p--0ux",
        "outputId": "3550da40-140e-412e-f679-40aa41f73b08"
      },
      "outputs": [
        {
          "name": "stdout",
          "output_type": "stream",
          "text": [
            "2.107680320739746\n"
          ]
        }
      ],
      "source": [
        "# Validation loss\n",
        "emb = C[Xdev] # (32, 3, 2)\n",
        "h = torch.tanh(emb.view(-1, block_size * 20) @ W1 + b1) # (32, 300)\n",
        "logits = h @ W2 + b2 # (32, 27)\n",
        "loss = F.cross_entropy(logits, Ydev)\n",
        "print(loss.item())"
      ]
    },
    {
      "cell_type": "markdown",
      "metadata": {
        "id": "J5pU_Q8P_aRM"
      },
      "source": [
        "## Exercise 3 - A Neural Probabilistic Language Model (Bengio et al. 2003)\n",
        "\n"
      ]
    },
    {
      "cell_type": "markdown",
      "metadata": {
        "id": "V2ituoiTSV7K"
      },
      "source": [
        "**Objective:** Read the paper by [\\[Bengio et al. 2003\\]](https://jmlr.org/papers/volume3/bengio03a/bengio03a.pdf), implement and try any idea from the paper. Did it work?"
      ]
    },
    {
      "cell_type": "markdown",
      "metadata": {
        "id": "-NRGOvSD_361"
      },
      "source": [
        "I will extend the model with weight decay and layer-specific learning rate scheduling, both concepts applied in the paper as well. Nothing too fancy.<br>\n",
        "Also, I will use the 'squashed' weight initialization from the previous exercise."
      ]
    },
    {
      "cell_type": "code",
      "execution_count": 16,
      "metadata": {
        "colab": {
          "base_uri": "https://localhost:8080/"
        },
        "id": "9ongR0DTAkbh",
        "outputId": "6309c3b7-9993-4b5a-8743-c00d93cda71f"
      },
      "outputs": [
        {
          "name": "stdout",
          "output_type": "stream",
          "text": [
            "18167 parameters\n"
          ]
        }
      ],
      "source": [
        "scaling_factor = 0.01\n",
        "\n",
        "g = torch.Generator().manual_seed(2147483647) # for reproducibility\n",
        "C = torch.randn((27, 20), generator=g) * scaling_factor\n",
        "W1 = torch.randn((block_size * 20, 200), generator=g) * scaling_factor\n",
        "b1 = torch.zeros((200))\n",
        "W2 = torch.randn((200, 27), generator=g) * scaling_factor\n",
        "b2 = torch.zeros((27))  # Zero biases\n",
        "\n",
        "parameters = [C, W1, b1, W2, b2] # Cluster all parameters into one structure\n",
        "\n",
        "print(sum(p.nelement() for p in parameters), 'parameters')\n",
        "\n",
        "for p in parameters:\n",
        "    p.requires_grad = True\n",
        "\n",
        "lossi = []\n",
        "stepi = []"
      ]
    },
    {
      "cell_type": "code",
      "execution_count": 17,
      "metadata": {
        "colab": {
          "base_uri": "https://localhost:8080/"
        },
        "id": "Mk9V_HI1A07_",
        "outputId": "6435ffd1-031e-4a4e-f006-69b4861ccbce"
      },
      "outputs": [
        {
          "name": "stderr",
          "output_type": "stream",
          "text": [
            "100%|██████████| 400000/400000 [23:57<00:00, 278.22it/s] \n"
          ]
        }
      ],
      "source": [
        "epochs = 400_000\n",
        "weight_decay = 1e-5\n",
        "\n",
        "emb_params = [C]\n",
        "nn_params = [W1, b1, W2, b2]\n",
        "\n",
        "for i in tqdm.tqdm(range(epochs)):\n",
        "    # mini-batch construct\n",
        "    ix = torch.randint(0, Xtr.shape[0], (128,)) # Batch size was 32 before, now 256\n",
        "\n",
        "    # Forward-Pass\n",
        "    emb = C[Xtr[ix]] # (32, 3, 10)\n",
        "    h1 = torch.tanh(emb.view(-1, block_size * 20) @ W1 + b1) # (32, 300)\n",
        "    logits = h1 @ W2 + b2 # (32, 50)\n",
        "\n",
        "    # Loss with decayed l2 regularization term added\n",
        "    # L2 represents here what the (kind of ambivalent) regularization term R(θ) is in the paper\n",
        "    l2 = sum((p ** 2.0).sum() for p in parameters)\n",
        "    loss = F.cross_entropy(logits, Ytr[ix]) + weight_decay * l2\n",
        "\n",
        "    # Backward-Pass\n",
        "    for p in parameters:\n",
        "        p.grad = None\n",
        "    loss.backward()\n",
        "\n",
        "    # Different layers get different lr treatments\n",
        "    if i < 0.2 * epochs:\n",
        "        lr_emb, lr_nn = 0.1, 0.3\n",
        "    elif i < 0.3 * epochs:\n",
        "        lr_emb, lr_nn = 0.05, 0.1\n",
        "    elif i < 0.5 * epochs:\n",
        "        lr_emb, lr_nn = 0.03, 0.06\n",
        "    else:\n",
        "        lr_emb, lr_nn = 0.01, 0.03\n",
        "\n",
        "    # Update and decay weights of different layers\n",
        "    for p in emb_params:\n",
        "        p.data += -lr_emb * (p.grad + weight_decay * p)\n",
        "    for p in nn_params:\n",
        "        p.data += -lr_nn * (p.grad + weight_decay * p)\n",
        "\n",
        "    stepi.append(i)\n",
        "    lossi.append(loss.log10().item())"
      ]
    },
    {
      "cell_type": "code",
      "execution_count": 18,
      "metadata": {
        "colab": {
          "base_uri": "https://localhost:8080/",
          "height": 430
        },
        "id": "ZdIPS848A4gy",
        "outputId": "b9edc2e7-4cfb-4d38-d86d-560a053b535c"
      },
      "outputs": [
        {
          "data": {
            "image/png": "[encoded data removed]",
            "text/plain": [
              "<Figure size 640x480 with 1 Axes>"
            ]
          },
          "metadata": {},
          "output_type": "display_data"
        }
      ],
      "source": [
        "plt.plot(stepi, lossi);"
      ]
    },
    {
      "cell_type": "code",
      "execution_count": 19,
      "metadata": {
        "colab": {
          "base_uri": "https://localhost:8080/"
        },
        "id": "za9WIsKxA43W",
        "outputId": "0e7d56ff-3ac9-4ea2-9361-07bc5c26bd0c"
      },
      "outputs": [
        {
          "name": "stdout",
          "output_type": "stream",
          "text": [
            "2.091309070587158\n"
          ]
        }
      ],
      "source": [
        "# Validation loss\n",
        "emb = C[Xdev] # (32, 3, 2)\n",
        "h = torch.tanh(emb.view(-1, block_size * 20) @ W1 + b1) # (32, 300)\n",
        "logits = h @ W2 + b2 # (32, 27)\n",
        "loss = F.cross_entropy(logits, Ydev)\n",
        "print(loss.item())"
      ]
    },
    {
      "cell_type": "markdown",
      "metadata": {},
      "source": [
        "The model throughout training seems more flustered/forgetful, with the loss curve oscillating more noticably. Wonder why that is.<br>\n",
        "At a weight decay of $1e-4$, the validation loss was $2.12$. We can do better.<br>\n",
        "I pushed back the learning rate scheduling steps by increasing the step factors by $0.1$ each, dropping the validation loss to $2.09$."
      ]
    },
    {
      "cell_type": "markdown",
      "metadata": {
        "id": "jG1eVABHSV7L"
      },
      "source": [
        "<center>Notebook by <a href=\"https://github.com/mk2112\" target=\"_blank\">mk2112</a>.</center>"
      ]
    }
  ],
  "metadata": {
    "colab": {
      "provenance": []
    },
    "kernelspec": {
      "display_name": "ai",
      "language": "python",
      "name": "python3"
    },
    "language_info": {
      "codemirror_mode": {
        "name": "ipython",
        "version": 3
      },
      "file_extension": ".py",
      "mimetype": "text/x-python",
      "name": "python",
      "nbconvert_exporter": "python",
      "pygments_lexer": "ipython3",
      "version": "3.12.2"
    }
  },
  "nbformat": 4,
  "nbformat_minor": 0
}
