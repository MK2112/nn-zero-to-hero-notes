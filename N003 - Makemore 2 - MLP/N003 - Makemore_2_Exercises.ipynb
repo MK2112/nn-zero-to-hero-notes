{
  "cells": [
    {
      "cell_type": "markdown",
      "metadata": {
        "id": "xwY-4mSMSV67"
      },
      "source": [
        "# Makemore 2 - Exercises\n",
        "\n",
        "Exercises from the [makemore #2 video](https://www.youtube.com/watch?v=TCH_1BHY58I).<br>\n",
        "The video description holds the exercises, which are also listed below.\n",
        "\n",
        "1. Watch the [makemore #2 video](https://www.youtube.com/watch?v=TCH_1BHY58I) on YouTube\n",
        "2. Come back and complete the exercises to level up :)"
      ]
    },
    {
      "cell_type": "markdown",
      "metadata": {
        "id": "g0QRD_J-SV6-"
      },
      "source": [
        "## Exercise 1 - Beating the Game\n",
        "\n",
        "**Objective:** Tune the hyperparameters of the training to beat Andrej's best validation loss of $2.2$.\n",
        "\n",
        "Below is an unaltered version of the code from the video."
      ]
    },
    {
      "cell_type": "code",
      "execution_count": null,
      "metadata": {
        "id": "gvwxSgOSSV6_"
      },
      "outputs": [],
      "source": [
        "import random\n",
        "import torch\n",
        "import torch.nn.functional as F\n",
        "import matplotlib.pyplot as plt\n",
        "%matplotlib inline\n",
        "\n",
        "device = torch.device(\"cuda:0\" if torch.cuda.is_available() else \"cpu\") # Use GPU if available"
      ]
    },
    {
      "cell_type": "code",
      "execution_count": null,
      "metadata": {
        "colab": {
          "base_uri": "https://localhost:8080/"
        },
        "id": "4NdaQAYiSV7C",
        "outputId": "3617e214-0521-485c-eacd-d874b97f3cda"
      },
      "outputs": [],
      "source": [
        "# read in all 32033 words\n",
        "words = open('../names.txt', 'r').read().splitlines()\n",
        "print(words[:5]) # show a sample of the first 8 names\n",
        "print(len(words)) # this many words in total"
      ]
    },
    {
      "cell_type": "code",
      "execution_count": null,
      "metadata": {
        "id": "EGLxHhKDSV7F"
      },
      "outputs": [],
      "source": [
        "# build a vocabulary of characters map them to integers\n",
        "chars = sorted(list(set(''.join(words)))) # set(): Throwing out letter duplicates\n",
        "stoi = {s:i+1 for i,s in enumerate(chars)} # Make tuples of type (char, counter)\n",
        "stoi['.'] = 0 # Add this special symbol's entry explicitly\n",
        "itos = {i:s for s,i in stoi.items()} # Switch order of (char, counter) to (counter, char)"
      ]
    },
    {
      "cell_type": "code",
      "execution_count": null,
      "metadata": {
        "colab": {
          "base_uri": "https://localhost:8080/"
        },
        "id": "EyyNJQWVSV7F",
        "outputId": "ff79eca4-07b2-4553-c863-bb6c43e13bc1"
      },
      "outputs": [],
      "source": [
        "block_size = 3\n",
        "\n",
        "def build_dataset(words):\n",
        "    X, Y = [], []\n",
        "\n",
        "    for w in words:\n",
        "        context = [0] * block_size\n",
        "        for ch in w + '.':\n",
        "            ix = stoi[ch]\n",
        "            X.append(context)\n",
        "            Y.append(ix)\n",
        "            context = context[1:] + [ix] # crop and append\n",
        "\n",
        "    X = torch.tensor(X)\n",
        "    Y = torch.tensor(Y)\n",
        "    print('X:', X.shape, '\\tY:', Y.shape)\n",
        "    return X,Y\n",
        "\n",
        "random.seed(42)          # for reproducibility\n",
        "random.shuffle(words)    # words is just the bare list of all names, from wayyy above\n",
        "n1 = int(0.8*len(words)) # index at 80% of all words (rounded for integer indexing)\n",
        "n2 = int(0.9*len(words)) # index at 90% of all words (rounded for integer indexing)\n",
        "\n",
        "print('Training Set:')\n",
        "Xtr, Ytr = build_dataset(words[:n1])     # The first 80% of all words\n",
        "print('Validation Set:')\n",
        "Xdev, Ydev = build_dataset(words[n1:n2]) # The 10% from 80% to 90% of all words\n",
        "print('Test Set:')\n",
        "Xte, Yte = build_dataset(words[n2:])     # The 10% from 90% to 100% of all words"
      ]
    },
    {
      "cell_type": "code",
      "execution_count": null,
      "metadata": {
        "colab": {
          "base_uri": "https://localhost:8080/"
        },
        "id": "k4XtMZO1SV7H",
        "outputId": "37fd077b-4b27-42ae-a82d-0cb30661bddf"
      },
      "outputs": [],
      "source": [
        "g = torch.Generator().manual_seed(2147483647) # for reproducibility\n",
        "C = torch.randn((27,2), generator=g)\n",
        "W1 = torch.randn((6,300), generator=g)\n",
        "b1 = torch.randn((300), generator=g)\n",
        "W2 = torch.randn((300,27), generator=g)\n",
        "b2 = torch.randn((27), generator=g)\n",
        "\n",
        "parameters = [C, W1, b1, W2, b2] # Cluster all parameters into one structure\n",
        "\n",
        "print(sum(p.nelement() for p in parameters), 'parameters')\n",
        "\n",
        "for p in parameters:\n",
        "    p.requires_grad = True"
      ]
    },
    {
      "cell_type": "code",
      "execution_count": null,
      "metadata": {
        "colab": {
          "base_uri": "https://localhost:8080/"
        },
        "id": "agdzIB1sSV7I",
        "outputId": "d4705f10-d20e-417d-88d9-6135bc1bc5d4"
      },
      "outputs": [],
      "source": [
        "lossi = [] # list of losses per mini-batch\n",
        "stepi = [] # list of steps (mini-batches)\n",
        "\n",
        "for i in range(180000):\n",
        "    \n",
        "    # mini-batch construct\n",
        "    ix = torch.randint(0, Xtr.shape[0], (32,))\n",
        "    \n",
        "    # Forward-Pass\n",
        "    emb = C[Xtr[ix]] # (32, 3, 2)\n",
        "    h = torch.tanh(emb.view(-1, 6) @ W1 + b1) # (32, 100)\n",
        "    logits = h @ W2 + b2 # (32, 27)\n",
        "    loss = F.cross_entropy(logits, Ytr[ix]) \n",
        "    \n",
        "    # Backward-Pass\n",
        "    for p in parameters:\n",
        "        p.grad = None\n",
        "    \n",
        "    loss.backward()\n",
        "    \n",
        "    lr = 0.1 if i < 60000 else 0.05 if i < 120000 else 0.01\n",
        "    \n",
        "    for p in parameters:\n",
        "        p.data += -lr * p.grad\n",
        "    \n",
        "    # Loss per mini-batch tracking\n",
        "    stepi.append(i)\n",
        "    lossi.append(loss.item())\n",
        "    \n",
        "#print('Loss for current mini-batch:', loss.item())"
      ]
    },
    {
      "cell_type": "code",
      "execution_count": null,
      "metadata": {
        "colab": {
          "base_uri": "https://localhost:8080/",
          "height": 430
        },
        "id": "mqMnY-nuSV7J",
        "outputId": "5a855626-cd6d-47e0-a8dc-c612d25c9bf8"
      },
      "outputs": [],
      "source": [
        "plt.plot(stepi, lossi);"
      ]
    },
    {
      "cell_type": "code",
      "execution_count": null,
      "metadata": {
        "colab": {
          "base_uri": "https://localhost:8080/"
        },
        "id": "vVf-jpopSV7J",
        "outputId": "a67b9685-9046-4d46-bb2e-eaea2b42016b"
      },
      "outputs": [],
      "source": [
        "# Validation loss\n",
        "emb = C[Xdev]\n",
        "h = torch.tanh(emb.view(-1,6) @ W1 + b1)\n",
        "logits = h @ W2 + b2\n",
        "loss = F.cross_entropy(logits, Ydev)\n",
        "print(loss.item())"
      ]
    },
    {
      "cell_type": "code",
      "execution_count": null,
      "metadata": {},
      "outputs": [],
      "source": [
        "# Test loss\n",
        "emb = C[Xte]\n",
        "h = torch.tanh(emb.view(-1,6) @ W1 + b1)\n",
        "logits = h @ W2 + b2\n",
        "loss = F.cross_entropy(logits, Yte)\n",
        "print(loss.item())"
      ]
    },
    {
      "cell_type": "markdown",
      "metadata": {
        "id": "ibAK6Xq_0sTW"
      },
      "source": [
        "## Exercise 2 - Weight Initialization\n",
        "\n",
        "**Objective:** Andrej was not careful with the initialization of the network in this video.<br>\n",
        "**(1)** What is the loss you'd get if the predicted probabilities at initialization were perfectly uniform? What loss do we achieve?<br>\n",
        "**(2)** Can you tune the initialization to get a starting loss that is much more similar to *(1)* ?"
      ]
    },
    {
      "cell_type": "code",
      "execution_count": null,
      "metadata": {
        "colab": {
          "base_uri": "https://localhost:8080/"
        },
        "id": "AfFDWGyr9N-w",
        "outputId": "f41cec9f-7db7-498e-fc94-f6231ced26f8"
      },
      "outputs": [],
      "source": [
        "# TODO: Make the weight initialization as uniform as possible\n",
        "# TODO: Train this newly initalized model with the training loop from last exercise"
      ]
    },
    {
      "cell_type": "code",
      "execution_count": null,
      "metadata": {
        "colab": {
          "base_uri": "https://localhost:8080/",
          "height": 430
        },
        "id": "K2DvV38u-zPU",
        "outputId": "7e925998-afee-4ab1-8f66-7349292849ab"
      },
      "outputs": [],
      "source": [
        "plt.plot(stepi, lossi);"
      ]
    },
    {
      "cell_type": "code",
      "execution_count": null,
      "metadata": {
        "colab": {
          "base_uri": "https://localhost:8080/"
        },
        "id": "kNbgz8p--0ux",
        "outputId": "3550da40-140e-412e-f679-40aa41f73b08"
      },
      "outputs": [],
      "source": [
        "# Validation loss\n",
        "emb = C[Xdev]\n",
        "h = torch.tanh(emb.view(-1, block_size * 20) @ W1 + b1)\n",
        "logits = h @ W2 + b2\n",
        "loss = F.cross_entropy(logits, Ydev)\n",
        "print(loss.item())"
      ]
    },
    {
      "cell_type": "markdown",
      "metadata": {
        "id": "J5pU_Q8P_aRM"
      },
      "source": [
        "## Exercise 3 - A Neural Probabilistic Language Model (Bengio et al. 2003)\n",
        "\n"
      ]
    },
    {
      "cell_type": "markdown",
      "metadata": {
        "id": "V2ituoiTSV7K"
      },
      "source": [
        "**Objective:** Read the paper by [\\[Bengio et al. 2003\\]](https://jmlr.org/papers/volume3/bengio03a/bengio03a.pdf), implement and try any idea from the paper. Did it work?"
      ]
    },
    {
      "cell_type": "code",
      "execution_count": null,
      "metadata": {
        "colab": {
          "base_uri": "https://localhost:8080/"
        },
        "id": "Mk9V_HI1A07_",
        "outputId": "6435ffd1-031e-4a4e-f006-69b4861ccbce"
      },
      "outputs": [],
      "source": [
        "# TODO: The stage is yours! Find an interesting concept and implement it here."
      ]
    },
    {
      "cell_type": "code",
      "execution_count": null,
      "metadata": {
        "colab": {
          "base_uri": "https://localhost:8080/",
          "height": 430
        },
        "id": "ZdIPS848A4gy",
        "outputId": "b9edc2e7-4cfb-4d38-d86d-560a053b535c"
      },
      "outputs": [],
      "source": [
        "plt.plot(stepi, lossi);"
      ]
    },
    {
      "cell_type": "code",
      "execution_count": null,
      "metadata": {
        "colab": {
          "base_uri": "https://localhost:8080/"
        },
        "id": "za9WIsKxA43W",
        "outputId": "0e7d56ff-3ac9-4ea2-9361-07bc5c26bd0c"
      },
      "outputs": [],
      "source": [
        "# Validation loss\n",
        "emb = C[Xdev]\n",
        "h = torch.tanh(emb.view(-1, block_size * 20) @ W1 + b1)\n",
        "logits = h @ W2 + b2\n",
        "loss = F.cross_entropy(logits, Ydev)\n",
        "print(loss.item())"
      ]
    }
  ],
  "metadata": {
    "colab": {
      "provenance": []
    },
    "kernelspec": {
      "display_name": "ai",
      "language": "python",
      "name": "python3"
    },
    "language_info": {
      "codemirror_mode": {
        "name": "ipython",
        "version": 3
      },
      "file_extension": ".py",
      "mimetype": "text/x-python",
      "name": "python",
      "nbconvert_exporter": "python",
      "pygments_lexer": "ipython3",
      "version": "3.12.2"
    }
  },
  "nbformat": 4,
  "nbformat_minor": 0
}
